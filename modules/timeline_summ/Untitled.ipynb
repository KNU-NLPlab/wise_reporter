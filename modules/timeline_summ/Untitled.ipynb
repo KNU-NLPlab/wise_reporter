{
 "cells": [
  {
   "cell_type": "markdown",
   "metadata": {},
   "source": []
  },
  {
   "cell_type": "code",
   "execution_count": 9,
   "metadata": {},
   "outputs": [],
   "source": [
    "from __future__ import unicode_literals\n",
    "from itertools import repeat\n",
    "\n",
    "from onmt.utils.misc import split_corpus\n",
    "from onmt.translate.translator import build_translator\n",
    "\n",
    "import onmt.opts as opts\n",
    "from onmt.utils.parse import ArgumentParser\n",
    "from tools import etri\n",
    "from tools import etri_nlp\n",
    "import os"
   ]
  },
  {
   "cell_type": "code",
   "execution_count": 10,
   "metadata": {},
   "outputs": [],
   "source": [
    "def binary_to_text(morph_sentences, pred_result):\n",
    "    result_sentence = []\n",
    "    for src, trg in zip(morph_sentences, pred_result):\n",
    "        temp = []\n",
    "        src = src.rstrip().split(' ')\n",
    "        trg = trg.rstrip().split(' ')\n",
    "        for i in range(len(src)):\n",
    "            try:\n",
    "                if trg[i] == '1':\n",
    "                    temp.append(src[i])\n",
    "            except:\n",
    "                pass\n",
    "        temp = ' '.join(temp)\n",
    "        result_sentence.append(temp)\n",
    "    return result_sentence\n",
    "\n",
    "def get_morph_sentences(sentence_list):\n",
    "    morph_sentences = []\n",
    "    for sentence in sentence_list:\n",
    "        while True:\n",
    "            morph_sentences.append(etri_nlp.get_morph_sentence(sentence))\n",
    "            break\n",
    "    return morph_sentences"
   ]
  },
  {
   "cell_type": "code",
   "execution_count": 11,
   "metadata": {},
   "outputs": [],
   "source": [
    "def translate(sentences):\n",
    "    parser = ArgumentParser(description='translate.py')\n",
    "\n",
    "    opts.config_opts(parser)\n",
    "    opts.translate_opts(parser)\n",
    "\n",
    "    opt = parser.parse_args(args=\"--src 1 --model ./model/deletion_model.pt\")\n",
    "\n",
    "    ArgumentParser.validate_translate_opts(opt)\n",
    "\n",
    "    translator = build_translator(opt, report_score=False)\n",
    "\n",
    "    _, pred = translator.translate(\n",
    "        src=sentences,\n",
    "        batch_size=opt.batch_size,\n",
    "        batch_type=opt.batch_type,\n",
    "        attn_debug=opt.attn_debug\n",
    "    )\n",
    "    return pred"
   ]
  },
  {
   "cell_type": "code",
   "execution_count": null,
   "metadata": {},
   "outputs": [],
   "source": []
  },
  {
   "cell_type": "code",
   "execution_count": null,
   "metadata": {},
   "outputs": [],
   "source": []
  },
  {
   "cell_type": "code",
   "execution_count": 12,
   "metadata": {},
   "outputs": [],
   "source": [
    "file_path = '../../../../team_tt/deletion_based_summary/OpenNMT-py/OpenNMT-py/data/test_src2.txt'\n",
    "# doc_info_list = []\n",
    "# filelist = os.listdir(file_path)\n",
    "# for filename in filelist:\n",
    "#     try:\n",
    "#         with open(file_path + filename, 'r', encoding='utf-8') as f:\n",
    "#             doc_info_list.append(json.load(f))\n",
    "#     except:\n",
    "#         pass\n",
    "with open(file_path, 'r', encoding='utf-8') as f:\n",
    "    sentence_list = f.readlines()"
   ]
  },
  {
   "cell_type": "code",
   "execution_count": null,
   "metadata": {},
   "outputs": [],
   "source": []
  },
  {
   "cell_type": "code",
   "execution_count": 15,
   "metadata": {},
   "outputs": [],
   "source": [
    "# sentence_list = [sum['article'][0]['sentence'] for sum in summary]\n",
    "morph_sentences = get_morph_sentences(sentence_list)\n",
    "pred_result = translate(sentence_list)\n",
    "pred_result = [result[0] for result in pred_result]"
   ]
  },
  {
   "cell_type": "code",
   "execution_count": 16,
   "metadata": {},
   "outputs": [
    {
     "name": "stdout",
     "output_type": "stream",
     "text": [
      "['엑슨모빌케미칼 은 자사 의 그룹 4 오 아 그룹 5 합성유 베이스스톡 을 한국 베이스유 · 윤활 유 · 특수 화학 제품 유통 업체 비엘에스신 에 독점 공급 하 기 로 하 늘 ㄴ 총판 계약 을 체결 하 었 다고 27 일 밝히 었 다', '임종룡 금융 위원 장 ( 사진 ) 은 12 일 대우조선해양 옥포 조선 소 를 방문 하 어 노조 를 만나 아 아 \" 회사 가 아 살아나 아 기 위하 어서 늘 ㄴ 임 직원 모두 의 노력 이 필요 하 다 \" 고 당부 하 었 다', '롯데카드 가 아 여름 휴가 철 을 맞 아 전국 주요 워터 파크 입장 권 및 해외 호텔 할인 , 문화 공연 할인 이벤트 를 진행 하 ㄴ다', '올 들 어 코스피 지수 가 아 빠르 것 이 상승 하 면서 5 ~ 6 년 간 ‘ 박스 권 ’ 에 익숙하 ㄴ ㄴ 일부 투자 자 들 ㄹ 은 증시 하락 에 베팅 하 늘 ㄴ 펀드 에 투자 금 을 늘리 어 고 있 다', '메리츠종금 證 \" 대형 → 중형 이동 株 투자 수익 률 ↑ … 중형 → 대형 이동 株 늘 ㄴ ↓ \" 다음 달 한국 거래 소 늘 ㄴ 코스피 · 코스닥 시장 시 가 총액 규모 별 지수 의 구성 종목 정기 변경 을 실시 하 ㄴ다', '한국 투자 증권 에서 19 일 아프리카 tv ( 067160 ) 에 대하 어 \" bj 이탈 이슈 이후 에 도 트래픽 이상 무 \" 이 이 라며 투자 의견 을 \\' 매수 ( 유지 ) \\' 로 제시 하 었 고 , 아울러 목표 주가 로 늘 ㄴ 48,000 원 을 내놓 았 다', '시 가 총액 4700 억 달러 ( 약 534 조 원 ) 에 달하 늘 ㄴ 아마존 제 2 본사 유치 전 에 미국 , 캐나다 , 맥시코 등 북미 지역 238 개 도시 가 아 뛰어들 ㄹ ㄴ 것 으로 확인 되 었 다', '중국 이 5 일 개막 하 ㄴ 중국 전국 인민 대표 대회 ( 전인대 ) 에서 올해 경제 성장 률 목표 치 를 6.5 % 로 정하 면서 그 동안 지도 부 가 아 보루 로 삼 았 덜 ㄴ ‘ 바오치 ( 保七 · 7 % 성장 ) ’ 기조 에 대하 ㄴ 미련 을 버리 고 ‘ 바오류 ( 保六 · 6 % 성장 ) ’ 시대 진입 을 공식 화 하 었 다', '이 베스트 투자 증권 에서 14 일 리노 공업 ( 058470 ) 에 대하 어 \" 다른 사업 들 도 견조 하 다 ! \" 이 이 라며 투자 의견 을 \\' 매수 ( 유지 ) \\' 로 제시 하 었 고 , 아울러 목표 주가 로 늘 ㄴ 70,000 원 을 내놓 았 다', '내년 1 월 부터 법정 최고 금리 가 아 24 % 로 내려가 아 늘 ㄴ 가운데 저축 은행 에서 현재 금리 24 % 가 아 넘어가 아 늘 ㄴ 신용 대출 비중 이 절반 이상 이 ㄴ 60 % 를 차지 하 늘 ㄴ 것 으로 나타나 아 았 다', '하이투자증권 에서 20 일 두산 인프라 코어 ( 042670 ) 에 대하 어 \" 두산 인프라 코어 별도 건기 bg ( 헤비 ) 의 이익 은 중국 이 결정 \" 이 이 라며 투자 의견 을 \\' 매수 ( 유지 ) \\' 로 제시 하 였 다', '장면 1 : 중국 최 남단 하이난 ( 海南 ) 성 의 성 도 하이커우 ( 海口 ) 룽쿤난 ( 龍昆南 ) 로 에 있 늘 ㄴ 훠처 터우완런 ( 火車頭萬人 ) 수산 물 광장 . 150 여 개 수산 물 점포 가 아 들어차 아 ㄴ 도매 시장 옆 에 이 를 요리 하 어서 즐 기 ㄹ 수 있 늘 ㄴ 식당 90 여 곳 과 속 이 텅 비 ㄴ 축구 공 크기 만 하 ㄴ 찹쌀 도넛 ( 젠되 ⋅ 煎堆 ) 같 은 하이난 특색 먹 거리 를 팔 ㄹ 늘 ㄴ 분식 집 40 여 곳 등 상가 450 여 곳 이 몰리 어 있 다', \"국내 대형 손해 보험 사 아 들 ㄹ 이 이른바 ' 펫 보험 ' 으로 불리 늘 ㄴ 반려동물 대상 신 상품 을 잇달 아 출시 하 며 경쟁 에 불 이 붙 고 있 다\", \"롯데카드 늘 ㄴ 손 바닥 정맥 으로 결제 하 늘 ㄴ ' 핸드페 이 ' 서비스 를 롯데마트 월드타워점 과 서울 잠실 , 소공동 인근 세븐일레븐 7 개점 으로 확대 하 었 다고 26 일 밝히 었 다\", '신동빈 롯데그룹 회장 이 신설 되 늘 ㄴ 롯데 지주 회사 의 우호 지분 49.64 % 를 확보 하 어 높 은 지배 력 을 갖추 ㄹ 것 으로 전망 되 었 다', '최근 인식 변화 시작 . . 연 기금 , 행동 주 의 펀드 에 자금 위탁 가능 성 작년 11 월 kcgi 사모펀드 가 아 한진칼 ( 180640 ) 지분 을 확보 하 면서 또 다시 ‘ 한국 형 행동 주 의 펀드 ’ 가 아 주목 을 받 고 있 다', '키움 증권 에서 15 일 매일 유업 ( 267980 ) 에 대하 어 \" 초기 고정 비 부담 으로 영업 적자 가 아 발생 \" 이 이 라며 투자 의견 을 \\' buy \\' 로 제시 하 었 고 , 아울러 목표 주가 로 늘 ㄴ 94,000 원 을 내놓 았 다', '한국 이 지나 ㄴ 달 말 미국 과 의 자유 무역 협정 ( fta ) 서명 때 불 공정 하 ㄴ 환율 개입 을 하 지 않 기 로 약속 하 었 는지 여부 를 놓 고 진위 논란 이 일 고 있 다', \"다음 달 부터 자산 규모 1000 억 원 미만 의 산림 조합 과 신협 등 에서 도 ' 맞춤 형 여신 심사 가이드 라인 ' 이 전면 시행 되 ㄴ다\", '코스콤 은 지나 ㄴ 23 일 여의도 본사 핀테크 세미나 실 에서 ‘ 자본 시장 오픈 플랫폼 핀테크 서비스 시연 회 ’ 를 개최 하 었 다', '현대모비스 는 지나 ㄴ 해 연간 영업 이익 이 전년 동기 보다 1 % 감소 하 ㄴ 2 조 9 천 47 억 원 을 기록 하 었 다고 26 일 공시 하 었 다', '한국 스마트 카드 오 아 교통 카드 시스템 단말 기 유지 보수 계약 에이텍티앤 이 128 억 원 규모 의 교통 카드 시스템 단말 기 유지 보수 계약 을 체결 하 었 달 는 소식 에 강세다', 'kb 증권 에서 26 일 기업 은행 ( 024110 ) 에 대하 어 \" 예상 을 상회 하 늘 ㄴ 양호 하 ㄴ 실적 \" 이 이 라며 투자 의견 을 \\' hold ( 유지 ) \\' 로 제시 하 었 고 , 아울러 목표 주가 로 늘 ㄴ 17,500 원 을 내놓 았 다', '국민 연금 수급 자 10 명 중 단 1 명 도 현역 시절 의 소비 수준 을 유지 하 지 못하 늘 ㄴ 것 으로 나타나 아 았 다', '지 나 ㄴ 8 월 부터 시작 되 ㄴ 코스피 지수 조정 기 에 유가 증권 시장 내 에서 삼성그룹 의 시가 총액 비중 은 더 늘어나 아 ㄴ 것 으로 확인 되 었 다', '외국 인 투자 자 의 주식 매도 세 가 아 지속 되 늘 ㄴ 가운데 글로벌 투자 펀드 에서 한국 증시 에 투자 하 덜 ㄴ 자금 이 15 주 만 에 순유출된 것 으로 확인 되 었 다', '유진투자증권 에서 26 일 lg 디스플레이 ( 034220 ) 에 대하 어 \" 예상 치 상회 하 ㄴ 3 q 실적 과 oled 기대 감 은 긍정 적 이 지만 … \" 이 이 라며 투자 의견 을 \\' hold ( 유지 ) \\' 로 제시 하 였 다', '한화투자증권 에서 25 일 삼성 에스디에스 ( 018260 ) 에 대하 어 \" 경기 둔화 국면 에서 도 돋보 이 늘 ㄴ 실적 성장 \" 이 이 라며 투자 의견 을 \\' buy ( 유지 ) \\' 로 제시 하 었 고 , 아울러 목표 주가 로 늘 ㄴ 300,000 원 을 내놓 았 다', 'lg 유플러스 가 아 14 일 이사 회 를 열 ㄹ 어 케이블 tv 업계 1 위 cj 헬로 를 8 천 억 원 에 인수 하 기 로 의결 하 었 다', '인터파크 ( 108790 ) 가 최근 숙박 부문 경쟁 심화 오 아 대형 콘서트 부재 등 으로 3 · 4 분기 예상 치 를 밑돌 ㄹ 늘 ㄴ 실적 을 나 의 ㄹ 전망 이 다', '메리츠종금증권 에서 13 일 엔 씨 소프트 ( 036570 ) 에 대하 어 \" 출시 지연 아쉽 지만 , 조정 은 \" 기회 \" \" 이 이 라며 투자 의견 을 \\' buy \\' 로 제시 하 었 고 , 아울러 목표 주가 로 늘 ㄴ 550,000 원 을 내놓 았 다', '건강 식품 대표 브랜드 gnm 자연 의품격 은 신 제품 ‘ 보이 차 추출 물 분말 ’ 을 출시 하 었 다고 25 일 밝히 었 다', \"엔 씨 소프트 의 모바일 게임 신작 이 ㄴ ' 리니지 m ' 이 21 일 출시 첫날 부터 흥행 몰이 를 하 고 있 음 에 도 주가 늘 ㄴ 이틀 째 하락 세 를 잇 어 가 아 고 있 다\", \"문정인 청와대 통일 외교 안보 특별 보좌 관 은 27 ~ 28 일 열 리 늘 ㄴ 제 2 차 북 ㆍ 미 정상 회담 에서 ' 핵 폐기 시간 표 ' 보다 늘 ㄴ ' 협상 시간 표 ' 를 만들 ㄹ 늘 ㄴ 것 이 더 현실 적 이 라고 전망 하 었 다\", '현지 박스 오피스 고 성장 수혜 … 내달 18 ~ 19 일 수요 예측 cj cgv ( 079160 ) 의 베트남 법인 이 오 는 11 월 한국 유가 증권 시장 상장 을 추진 하 ㄴ다', 'kdb 생명 은 계약 후 5 년 경 과 시 진단 보험 금 을 ‘ 두 배 ’ 로 지급 하 늘 ㄴ ‘ ( 무 ) kdb 더블 100 세 보장 암 보험 ( 무 해지 환급 형 ) ’ 을 판매 중 이 다', '중국 의 시장 진출 규제 에 좌절 하 고 있 덜 ㄴ 미국 기업 들 이 중국 측 에 시정 을 촉구 하 늘 ㄴ 트럼프 행정 부 의 노선 에 점점 동조 하 고 있 다고 월스트리트저널 ( wsj ) 이 16 일 보도 하 었 다', '다음 달 부터 은행 들 ㄹ 이 가산 금리 를 책정 하 ㄹ 때 내부 위원 회 의 의결 을 거치 어 야 하 늘 ㄴ 등 내부 통제 기준 이 대폭 강화 되 ㄴ다', 'sh 수협은행 은 국군 재정 관리 단 과 군인 생활 안정 자금 대출 협약 을 체결 하 고 현역 직업 군인 을 대상 으로 하 늘 ㄴ sh 군인 생활 안정 자금 대출 을 출시 하 었 다고 7 일 밝히 었 다', '피에스 엠 씨 의 최대 주주 이 ㄴ 이에스브 이 가 아 추가 지분 을 획득 하 며 경영 정상 화 에 대하 ㄴ 의지 를 보이 고 있 다', '미국 연방 준비 제도 ( fed · 연주 ㄴ ) 나 의 에서 도 가장 확고하 ㄴ ㄴ 비둘기 파 아 ( 통화 완화 선호 ) 인사 로 꼽히 어 오 았 덜 ㄴ 찰스 에반스 시카고 연방 준비 은행 총재 마저 도 올해 세 차례 기준 금리 인상 가능 성 을 인정 하 었 다', '하이투자증권 에서 22 일 lg ( 003550 ) 에 대하 어 \" 드디어 잠 에서 깨어나 아 다 \" 이 라며 투자 의견 을 \\' 매수 ( 유지 ) \\' 로 제시 하 였 다', \"도널드 트럼프 미국 대통령 이 유발 하 ㄴ 리플레이션 ( 물가 오르 ㅁ 세 회복 ) 기대 감 으로 한 동안 크 ㄴ 힘 을 얻 었 덜 ㄴ ' 채권 시장 의 30 년 강세장 종말 론 ' 이 ' 아직 좀 더 두 고 보 아야 하 ㄴ다 ' 늘 ㄴ 쪽 으로 기우 ㄹ 었 다\", '미 중 무역 전쟁 등 의 영향 으로 2019 년 금융 위기 가 아 오 ㄹ 가능 성 이 크 며 , 특히 미국 이 금융 위기 에 빠 지 ㄹ 가능 성 이 높 다고 홍콩 의 사우스차이나 모닝 포스트 ( scmp ) 가 14 일 보도 하 었 다', '정부 가 아 경기 불황 직격 타 ㄴ 위험 을 안 고 있 늘 ㄴ 자동 차 오 아 조선 업종 에 대하 ㄴ 자금 지원 확대 를 은행 에 당부 하 고 나 아서 자 금융 권 나 의 불만 이 고조 되 고 있 다', '신한 금융 투자 에서 16 일 더블유 게임즈 ( 192080 ) 에 대하 어 \" 저평 가되 ㄹ 이유 가 아 없 다 \" 이 라며 투자 의견 을 \\' 매수 \\' 로 제시 하 었 고 , 아울러 목표 주가 로 늘 ㄴ 74,000 원 을 내놓 았 다', \"생명 보험 협회 늘 ㄴ 제 1 회 ' 골든 펠로우 인증 식 ' 을 개최 하 고 우수 인증 설계 사 아 300 명 을 골든 펠로우 로 선정 하 었 다고 7 일 밝히 었 다\", \"kb 국민은행 은 과학 기술 정보 통신 부 가 아 주최 하 늘 ㄴ ' kb - kisa 핀테크 해커톤 ' 대회 를 오 늘 ㄴ 6 월 28 ~ 30 일 서울 가락동 kisa 핀테크 기술 지원 센터 에서 한국 인터넷 진흥 원 ( 이하 kisa ) 과 공동 으로 주관 하 ㄴ다고 15 일 밝히 었 다\", '세계 최대 전자 상 거래 업체 아마존 이 ‘ . amazon ’ 이란 인터넷 도메인 을 두 고 남미 8 개국 연합 과 벌 이 ㄴ 분쟁 에서 승리 하 었 다', \"도널드 트럼프 미국 행정 부 가 아 매년 의회 에 제출 하 늘 ㄴ ' 경제 보 고 서 어 ( economic report of the president ) ' 를 19 일 ( 현지 시간 ) 발표 하 었 다\", '- 지나 ㄴ 주 브라질 주식 형 펀드 에 7.6 억 달러 순 유입 . 2012 년 5 월 이후 가장 크 ㄴ 규모 . 다', '미국 연방 준비 제도 ( fed ) 가 1 일 ( 현지 시간 ) 기준 금리 를 동결 하 자 , 시장 에서 늘 ㄴ 향후 한 ㆍ 미 통화 당국 의 정책 방향 을 예상 하 느 라 분주 하 ㄴ 분위기 다', '조용병 신한 금융 그룹 회장 내정 자 ( 신한 은행 장 ) 늘 ㄴ 20 일 “ 새롭 ㄴ 먹 거리 ( 성장 동력 ) 발굴 에 힘쓰 겠 다 ” 고 말 하 었 다', 'skt , 4,000 억 재무적 투자 자 선정 미래 에 셋그룹 이 유료 방송 이 ㄴ sk 브로드 밴드 오 아 티브로드 합병 법인 의 3 대 주주 가 아 되 ㄴ다', '문재인 대통령 은 21 일 혁신 금융 비전 선포 식 에 참석 하 어 혁신 성장 을 뒷받침 하 ㄹ 금융 분야 의 새롭 ㄴ 패러다임 을 제시 하 었 다', '윤석헌 금융 감독 원장 은 12 일 삼성바이오로직스 분식 회계 혐의 에 대하 ㄴ 재 감리 를 연말 까지 마무리 하 ㄹ 것 이 라고 재 확인 하 었 다', '주식 시장 침체 로 올 들 어 국내 상장 사 아 10 대 주식 부호 의 보유 주식 가치 가 아 15 조 원 이상 증발 하 ㄴ 것 으로 나타나 아 았 다', '암호 화폐 시장 내 유동 성 공급 과 자산 관리 서비스 를 제공 하 늘 ㄴ 뉴욕 디지털 투자 그룹 ( nydig ) 이 뉴욕 주 ( 州 ) 금융 당국 이 엄격 하 ㄴ 기준 에 따 르 아 암호 화폐 관련 사업 자 에게 부여 하 늘 ㄴ 사업 인가 증 이 ㄴ 비트라 이 센스 를 따 아 아 나 의 었 다', '전 금융 권 이 중저 신용자 를 타깃 으로 하 늘 ㄴ 중금 리 대출 상품 을 너 도 나 도 출시 하 고 있 는데요 . 이 시장 의 최 강자 는 역시 중저 신용자 를 전문 으로 상대 하 늘 ㄴ 저축 은행 이 었 습 니다', '유진투자증권 에서 5 일 jb 금융 지주 ( 175330 ) 에 대하 어 \" 2016 년 이후 4 년 간 연 평균 33 % 의 순 이익 증가 \" 이 이 라며 투자 의견 을 \\' buy ( 유지 ) \\' 로 제시 하 었 고 , 아울러 목표 주가 로 늘 ㄴ 7,700 원 을 내놓 았 다', \"kb 국민 카드 늘 ㄴ 현대 백화 점 그룹 과 제휴 하 어 ' h 포인트 ' 가 아 최대 2 % 적립 되 늘 ㄴ ' h . point kb 국민 카드 ' 를 출시 하 었 다고 10 일 밝히 었 다\", \"기술 보증 기금 은 kb 국민은행 과 29 일 ' 4 차 산업 혁명 및 일 자리 창출 활성 화 를 위하 ㄴ 금융 지원 업무 협약 ' 을 체결 하 ㄴ다고 밝히 었 다\", '한국 거래 소 늘 ㄴ 5 일 유가 증권 시장 의 경우 1 ~ 5 만 원 미만 가격 대 , 코스닥 시장 의 경우 1 ~ 3000 원 가격 대 에 가장 많 은 종목 이 분포 하 고 있 다고 밝히 었 다', '최종구 금융 위원 장 ( 사진 ) 이 \" 자본 시장 을 대출 시장 과 경쟁 가능 하 ㄴ 수준 으로 육성 하 겠 다 \" 고 4 일 밝히 었 다', \"dgb 금융 그룹 dgb 대구은행 ( 이하 대구 은행 ) 이 가족 나들 이 오 아 여행 , 쇼핑 이 늘어나 아 늘 ㄴ 계절 을 맞 아 대구은행 bc 카드 를 사용 하 늘 ㄴ 고객 에게 선물 을 추첨 , 증정 하 늘 ㄴ ' 사랑 하 늘 ㄴ 가족 과 eat , paly , love ' 이벤트 를 실시 하 ㄴ다\", '금융 감독 원 의 자살 보험 금 미 지급 관련 제재 로 삼성생명 김창수 사장 과 한화생명 차남규 사장 의 연임 에 브레이크 가 아 걸리 었 다', '금융 위원 회 늘 ㄴ 사회 적 경제 기업 에 대하 어 공공 부문 자금 공급 이 올해 목표 치 를 초과 달성 하 었 다고 12 일 밝히 었 다', \"삼성자산 운용 은 업계 최초 인출식 연금 펀드 ( rif ) 이 ㄴ ' 삼성 한 국 형 rif ' 시리즈 를 출시 하 ㄴ다고 30 일 밝히 었 다\", '미래 에셋 대우 는 20 일 코스모화학 에 대하 어 황산 코발트 판매 가격 증가 로 점진 적 이 ㄴ 주가 상승 이 가능 하 ㄹ 것 으로 전망 하 었 다', 'kb 금융 지주 늘 ㄴ 24 일 계열 사 아 대표 이사 후보 추천 위원 회 를 열 ㄹ 어 kb 데이타 시스템 대표 이사 로 최재 을 전 메트라이프 생명 보험 최고 정보 책임 자 ( cio · 사진 ) 를 추천 하 었 다고 밝히 었 다', 'sk 증권 에서 11 일 하나 투어 ( 039130 ) 에 대하 어 \" 주요 변수 모두 가 아 비 우호 적 \" 이 이 라며 투자 의견 을 \\' 매수 ( 유지 ) \\' 로 제시 하 었 고 , 아울러 목표 주가 로 늘 ㄴ 100,000 원 을 내놓 았 다', \"lg 전자 가 아 프리미엄 건조 기 의 핵심 기술 이 ㄴ ' 듀얼 인버터 히트 펌프 ' 를 적용 하 어 국내 최대 16 kg 건조 용량 신 제품 을 선보이 아 며 국내 프리미엄 건조 기 시장 에서 지배 력 을 더욱 강화 하 ㄴ다\"]\n"
     ]
    }
   ],
   "source": [
    "print(morph_sentences)"
   ]
  },
  {
   "cell_type": "code",
   "execution_count": 7,
   "metadata": {},
   "outputs": [],
   "source": [
    "translate_result = binary_to_text(sentence_list, pred_result)"
   ]
  },
  {
   "cell_type": "code",
   "execution_count": 8,
   "metadata": {},
   "outputs": [
    {
     "name": "stdout",
     "output_type": "stream",
     "text": [
      "엑슨모빌케미칼 은 자사 의 그룹 4 와 그룹 5 합성유 베이스스톡 을 한국 베이스유 · 윤활 유 · 특수 화학 제품 유통 업체 비엘에스신 에 독점 공급 하 기 로 하 는 총판 계약 을 체결 하 었 다고 27 일 밝히 었 다\n",
      " 엑슨모빌케미칼 비엘에스신 에 독점 공급 하 기 로 하 는 총판 계약 을 체결 하 었 다고 밝히 었 다\n"
     ]
    },
    {
     "ename": "TypeError",
     "evalue": "string indices must be integers",
     "output_type": "error",
     "traceback": [
      "\u001b[0;31m---------------------------------------------------------------------------\u001b[0m",
      "\u001b[0;31mTypeError\u001b[0m                                 Traceback (most recent call last)",
      "\u001b[0;32m<ipython-input-8-4c8bc898a2db>\u001b[0m in \u001b[0;36m<module>\u001b[0;34m()\u001b[0m\n\u001b[1;32m      1\u001b[0m \u001b[0;32mfor\u001b[0m \u001b[0maa\u001b[0m\u001b[0;34m,\u001b[0m \u001b[0mresult\u001b[0m \u001b[0;32min\u001b[0m \u001b[0mzip\u001b[0m\u001b[0;34m(\u001b[0m\u001b[0msentence_list\u001b[0m\u001b[0;34m,\u001b[0m \u001b[0mtranslate_result\u001b[0m\u001b[0;34m)\u001b[0m\u001b[0;34m:\u001b[0m\u001b[0;34m\u001b[0m\u001b[0m\n\u001b[1;32m      2\u001b[0m     \u001b[0mprint\u001b[0m\u001b[0;34m(\u001b[0m\u001b[0maa\u001b[0m\u001b[0;34m,\u001b[0m \u001b[0mresult\u001b[0m\u001b[0;34m)\u001b[0m\u001b[0;34m\u001b[0m\u001b[0m\n\u001b[0;32m----> 3\u001b[0;31m     \u001b[0maa\u001b[0m\u001b[0;34m[\u001b[0m\u001b[0;34m'article'\u001b[0m\u001b[0;34m]\u001b[0m\u001b[0;34m[\u001b[0m\u001b[0;36m0\u001b[0m\u001b[0;34m]\u001b[0m\u001b[0;34m[\u001b[0m\u001b[0;34m'sentence'\u001b[0m\u001b[0;34m]\u001b[0m \u001b[0;34m=\u001b[0m \u001b[0mresult\u001b[0m\u001b[0;34m\u001b[0m\u001b[0m\n\u001b[0m",
      "\u001b[0;31mTypeError\u001b[0m: string indices must be integers"
     ]
    }
   ],
   "source": [
    "for aa, result in zip(sentence_list, translate_result):\n",
    "    print(aa, result)\n",
    "    aa['article'][0]['sentence'] = result"
   ]
  },
  {
   "cell_type": "code",
   "execution_count": null,
   "metadata": {},
   "outputs": [],
   "source": [
    "translate_result"
   ]
  },
  {
   "cell_type": "code",
   "execution_count": null,
   "metadata": {},
   "outputs": [],
   "source": []
  }
 ],
 "metadata": {
  "kernelspec": {
   "display_name": "Python 3",
   "language": "python",
   "name": "python3"
  },
  "language_info": {
   "codemirror_mode": {
    "name": "ipython",
    "version": 3
   },
   "file_extension": ".py",
   "mimetype": "text/x-python",
   "name": "python",
   "nbconvert_exporter": "python",
   "pygments_lexer": "ipython3",
   "version": "3.6.4"
  }
 },
 "nbformat": 4,
 "nbformat_minor": 2
}
