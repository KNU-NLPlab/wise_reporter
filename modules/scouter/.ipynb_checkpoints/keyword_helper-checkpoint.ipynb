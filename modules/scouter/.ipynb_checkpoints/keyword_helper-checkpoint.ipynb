{
 "cells": [
  {
   "cell_type": "code",
   "execution_count": 1,
   "metadata": {},
   "outputs": [],
   "source": [
    "from elasticsearch import Elasticsearch"
   ]
  },
  {
   "cell_type": "code",
   "execution_count": 10,
   "metadata": {},
   "outputs": [],
   "source": [
    "def keywordGetter(date):\n",
    "    '''\n",
    "    Keyword getter method to request keyword set contains related news article \n",
    "    to SCOUTER system\n",
    "    '''\n",
    "    es = Elasticsearch(\"155.230.34.145:9200\")\n",
    "    \n",
    "    # Get the cluster corresponding to the entered date.\n",
    "    query = {\n",
    "        'query':{\n",
    "            'match':{\n",
    "                'postingDate': date\n",
    "            }\n",
    "        }\n",
    "    }\n",
    "    res = es.search(index='keyword_news', body=query)\n",
    "    \n",
    "    keyword_cluster = res['hits']['hits'][0]['_source']\n",
    "    \n",
    "    return keyword_cluster\n"
   ]
  }
 ],
 "metadata": {
  "kernelspec": {
   "display_name": "Python 3",
   "language": "python",
   "name": "python3"
  },
  "language_info": {
   "codemirror_mode": {
    "name": "ipython",
    "version": 3
   },
   "file_extension": ".py",
   "mimetype": "text/x-python",
   "name": "python",
   "nbconvert_exporter": "python",
   "pygments_lexer": "ipython3",
   "version": "3.6.8"
  }
 },
 "nbformat": 4,
 "nbformat_minor": 2
}
