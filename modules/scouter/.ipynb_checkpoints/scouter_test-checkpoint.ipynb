{
 "cells": [
  {
   "cell_type": "code",
   "execution_count": 24,
   "metadata": {},
   "outputs": [],
   "source": [
    "from elasticsearch import Elasticsearch\n",
    "es = Elasticsearch(\"155.230.34.145:9200\")\n",
    "\n",
    "def daily_index(topic_dict):\n",
    "    source = {'postingDate': topic_dict['postingDate']}\n",
    "    source['flag'] = True\n",
    "    source['clusters'] = []\n",
    "    for t in topic_dict['topic']:\n",
    "        keyword = t[0]\n",
    "        id_list= t[1]\n",
    "        news_source = []\n",
    "        for nid in id_list:\n",
    "            res = es.search(index='newspaper', body = {'query':{'match':{'news_id':nid}},\n",
    "                                                       '_source':['news_id','postingDate','newsTitle',\n",
    "                                                                 'companyName','category','extContent',\n",
    "                                                                 'extContentLength','imageurl','caption',\n",
    "                                                                 'naverUrl','originalUrl']})\n",
    "            if res['hits']['total']['value'] == 0:\n",
    "                print(nid)\n",
    "            else: news_source.append(res['hits']['hits'][0]['_source'])\n",
    "        source['clusters'].append({'keywords':keyword.split(), 'news_source':news_source})\n",
    "    res = es.index(index='keyword_news', body=source)\n",
    "    print(res)"
   ]
  },
  {
   "cell_type": "code",
   "execution_count": 52,
   "metadata": {},
   "outputs": [],
   "source": [
    "def monthly_index(topic_dict):\n",
    "    source = {'postingDate': topic_dict['postingDate']}\n",
    "    source['flag'] = True\n",
    "    source['clusters'] = []\n",
    "    for t in topic_dict['topic']:\n",
    "        keyword = t[0]\n",
    "        id_list= t[1]\n",
    "        news_source = []\n",
    "        for nid in id_list:\n",
    "            res = es.search(index='newspaper', body = {'query':{'match':{'news_id':nid}},\n",
    "                                                       '_source':['news_id','postingDate','newsTitle',\n",
    "                                                                 'companyName','category','extContent',\n",
    "                                                                 'extContentLength','imageurl','caption',\n",
    "                                                                 'naverUrl','originalUrl']})\n",
    "            if res['hits']['total']['value'] == 0:\n",
    "                print(nid)\n",
    "            else: news_source.append(res['hits']['hits'][0]['_source'])\n",
    "        source['clusters'].append({'keywords':keyword.split(), 'news_source':news_source})\n",
    "    res = es.index(index='monthly_topic', body=source)\n",
    "    print(res)"
   ]
  },
  {
   "cell_type": "code",
   "execution_count": 43,
   "metadata": {},
   "outputs": [],
   "source": [
    "def detail_index(topic_dict):\n",
    "    source = {'keyword': ''.join(topic_dict['keyword'].split())}\n",
    "    source['section'] = []\n",
    "    \n",
    "    for ids in topic_dict['id_list']:\n",
    "        news_source = []\n",
    "        for nid in ids:\n",
    "            res = es.search(index='newspaper', body = {'query':{'match':{'news_id':nid}},\n",
    "                                           '_source':['news_id','postingDate','newsTitle',\n",
    "                                                     'companyName','category','extContent',\n",
    "                                                     'extContentLength','imageurl','caption',\n",
    "                                                     'naverUrl','originalUrl']})\n",
    "            if res['hits']['total']['value'] == 0:\n",
    "                print(nid)\n",
    "            else: news_source.append(res['hits']['hits'][0]['_source'])\n",
    "        source['section'].append(news_source)\n",
    "#     print(source)\n",
    "#     for x in source['section']:\n",
    "#         print('---------------------------------\\n' * 2)\n",
    "#         print(x)\n",
    "    res = es.index(index='detail_topic', body=source)\n",
    "    print(res)"
   ]
  },
  {
   "cell_type": "code",
   "execution_count": 48,
   "metadata": {},
   "outputs": [
    {
     "name": "stdout",
     "output_type": "stream",
     "text": [
      "{'_index': 'keyword_news', '_type': '_doc', '_id': 'wB38q24Bu5hBK58xuZB8', '_version': 1, 'result': 'created', '_shards': {'total': 2, 'successful': 2, 'failed': 0}, '_seq_no': 14, '_primary_term': 8}\n"
     ]
    }
   ],
   "source": [
    "# input data for daily topic index\n",
    "topicdict={\n",
    "    'postingDate':'2019-05-09',\n",
    "    'topic':[(\"미국 중국 무역\",[6615695, 6615574, 6615765, 6615542, 6602986, 6615650, 6615524, 6615741]), \n",
    "             (\"중고차 대출 제한\",[6603598, 6603009, 6603571, 6603587, 6603603, 6603151, 6603594]),\n",
    "             (\"유니온페이 해외 결제\",[6603866, 6603465, 6603790, 6603930, 6603001, 6603953]),\n",
    "             (\"한은 통화신용정책 보고서\",[6603549, 6603055, 6606762, 6603528, 6603613]),\n",
    "             (\"삼성자산운용 연금 TDF\",[6603131, 6607583, 6604460])]\n",
    "}\n",
    "\n",
    "# daily_index(topicdict)"
   ]
  },
  {
   "cell_type": "code",
   "execution_count": 47,
   "metadata": {},
   "outputs": [
    {
     "name": "stdout",
     "output_type": "stream",
     "text": [
      "{'_index': 'detail_topic', '_type': '_doc', '_id': 'GRvNqG4Bu5hBK58xWUQU', '_version': 1, 'result': 'created', '_shards': {'total': 2, 'successful': 2, 'failed': 0}, '_seq_no': 2, '_primary_term': 1}\n"
     ]
    }
   ],
   "source": [
    "# input data for detail index\n",
    "topicdict = {\n",
    "    'keyword':'미국 중국 무역',\n",
    "    'id_list': [\n",
    "        [6674345, 6674356, 6674316, 6674319, 6674362],\n",
    "        [8024991, 8025001, 8024995, 8024944, 8025004],\n",
    "        [6670396, 6670262, 6670405, 6661403, 6661144, 6670401, 6670400, 6670285]\n",
    "        \n",
    "    ]\n",
    "}\n",
    "# detail_index(topicdict)"
   ]
  },
  {
   "cell_type": "code",
   "execution_count": 59,
   "metadata": {},
   "outputs": [
    {
     "name": "stdout",
     "output_type": "stream",
     "text": [
      "{'_index': 'monthly_topic', '_type': '_doc', '_id': 'hx1wrG4Bu5hBK58xUObT', '_version': 1, 'result': 'created', '_shards': {'total': 2, 'successful': 2, 'failed': 0}, '_seq_no': 3, '_primary_term': 1}\n"
     ]
    }
   ],
   "source": [
    "# input data for monthly topic index\n",
    "topicdict={\n",
    "    'postingDate':'2019-05-01',\n",
    "    'topic':[(\"유류세 인하 연장\",[6466912, 7139669, 7192508, 6334142, 6436592, 7193088, 6504102]), \n",
    "             (\"미국 이란 제재 재개\", [7359406, 6343436, 6393422, 6557889, 6453056, 7254620, 6998091]),\n",
    "             (\"중국A주 1차 편입\",[6805998, 6805766, 6494341, 6805850, 7353893]),\n",
    "             (\"미국 금리동결 FOMC\",[6343405, 6343346, 7201431, 6343483, 6437443, 7201419, 6343508]),\n",
    "             (\"유럽의회 선거\",[7326326, 7300643, 7359475, 7045476, 7393764])]\n",
    "}\n",
    "# monthly_index(topicdict)"
   ]
  }
 ],
 "metadata": {
  "kernelspec": {
   "display_name": "Python 3",
   "language": "python",
   "name": "python3"
  },
  "language_info": {
   "codemirror_mode": {
    "name": "ipython",
    "version": 3
   },
   "file_extension": ".py",
   "mimetype": "text/x-python",
   "name": "python",
   "nbconvert_exporter": "python",
   "pygments_lexer": "ipython3",
   "version": "3.6.8"
  }
 },
 "nbformat": 4,
 "nbformat_minor": 2
}
