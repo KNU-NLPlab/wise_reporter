{
 "cells": [
  {
   "cell_type": "code",
   "execution_count": 5,
   "metadata": {},
   "outputs": [],
   "source": [
    "from modules.base_module import BaseModule\n",
    "\n",
    "from modules.scouter import connectES as es\n",
    "from modules.scouter import clusteringDoc as cl\n",
    "from modules.scouter import N_gram as ng\n",
    "\n",
    "import json"
   ]
  },
  {
   "cell_type": "code",
   "execution_count": 6,
   "metadata": {},
   "outputs": [],
   "source": [
    "class TopicGenerator(BaseModule):\n",
    "    \n",
    "    def __init__(self, topic, out_path):\n",
    "        super(TopicGenerator, self).__init__(topic, out_path)\n",
    "        \n",
    "    def process_data(self, date):\n",
    "        \n",
    "        indexed_cluster = es.keywordGetter(date)\n",
    "        if indexed_cluster != False:\n",
    "            return indexed_cluster\n",
    "        else:\n",
    "            qbody = es.ScouterHandler.make_date_query_body(date,(\"news_id\",\"extContent\",\"analyzed_text\",\"analyzed_text.sentence.WSD.text\",\n",
    "                                                                 \"analyzed_text.sentence.WSD.type\",\"category\",\"analyzed_title.sentence.WSD.text\",\n",
    "                                                                 \"analyzed_title.sentence.WSD.type\"))\n",
    "            getDoc = es.ScouterHandler()\n",
    "            docs  = getDoc.search(qbody,'newspaper')\n",
    "            result = {'date': date,\n",
    "               'doc count': len(docs)}\n",
    "            clus = cl.cluteringDoc(5,0.95,docs)\n",
    "\n",
    "           #centroivalue 용\n",
    "           #ctime, c_result, c_cent_result = clus.runClus()\n",
    "           #for i in c_cent_result:\n",
    "           #    c_doc.append([i])\n",
    "\n",
    "           #whole value 용\n",
    "            ctime, c_result = clus.runClus()\n",
    "            c_doc=list()\n",
    "            for i in range(len(c_result)):\n",
    "                analyzed_doc = list()\n",
    "                for j in c_result[i]:\n",
    "                    analyzed_doc.append(j[2])\n",
    "                c_doc.append(analyzed_doc)\n",
    "\n",
    "            '''analyzed_doc = list()\n",
    "               for j in c_cent_result:\n",
    "                   analyzed_doc.append(j)\n",
    "               c_doc.append(analyzed_doc)'''\n",
    "\n",
    "           #print(1)\n",
    "            for i in range(5):\n",
    "                cluster_uni, cluster_bi, cluster_tri=ng.ngram(c_doc[i])\n",
    "                cluster_uni = cluster_uni.most_common(10)\n",
    "                cluster_bi = cluster_bi.most_common(10)\n",
    "                cluster_tri = cluster_tri.most_common(10)\n",
    "               # a=sorted(cluster_uni.items(), key=lambda t:t[1], reverse=True)\n",
    "               # b=sorted(cluster_bi.items(), key=lambda t:t[1], reverse=True)\n",
    "               # c=sorted(cluster_tri.items(), key=lambda t:t[1], reverse=True)\n",
    "                result['cluster'+str(i+1)+'unigram'] = cluster_uni\n",
    "                result['cluster'+str(i+1)+'bigram'] = cluster_bi\n",
    "                result['cluster'+str(i+1)+'trigram'] = cluster_tri\n",
    "                \n",
    "            return result\n",
    "\n",
    "    \n",
    "    "
   ]
  },
  {
   "cell_type": "code",
   "execution_count": 7,
   "metadata": {},
   "outputs": [
    {
     "name": "stdout",
     "output_type": "stream",
     "text": [
      "Query: 2019-05-03\n",
      "Scroll idx : 1 (1000 docs)\n",
      "Scroll idx : 2 (252 docs)\n",
      "Total retrieved Doc # :  1252\n",
      "\n",
      "elapsed time taken for clustering:  124.88582015037537 seconds.\n",
      "{'date': '2019-05-03', 'doc count': 1252, 'cluster1unigram': [('투자', 1231), ('금융', 918), ('시장', 713), ('기업', 613), ('분기', 552), ('거래', 549), ('증가', 545), ('주가', 515), ('상승', 464), ('대비', 460)], 'cluster1bigram': [('영업 이익', 237), ('국민 연금', 180), ('반 도체', 134), ('투자 의견', 132), ('동기 대비', 116), ('전년 동기', 112), ('금융 투자', 112), ('어린 이', 111), ('목표 주가', 105), ('대비 증가', 99)], 'cluster1trigram': [('전년 동기 대비', 104), ('매출 영업 이익', 60), ('이 투자 의견', 52), ('목표 주가 제시', 50), ('동기 대비 증가', 49), ('스마트 폰 사용', 42), ('신종 자본 증권', 41), ('최근 동안 매물', 41), ('동안 매물 분포', 41), ('대형 매물 눈', 41)], 'cluster2unigram': [('의견', 1827), ('목표', 1378), ('투자', 1241), ('제시', 1057), ('주가', 916), ('유지', 908), ('최근', 806), ('증권', 694), ('이번', 622), ('전체', 573)], 'cluster2bigram': [('목표 주가', 758), ('투자 의견', 747), ('의견 유지', 375), ('금융 투자', 290), ('제시 목표', 266), ('이번 제시', 266), ('최근 분기', 266), ('매매 의견', 258), ('기준 볼때', 234), ('의견 목표주', 229)], 'cluster2trigram': [('목표 주가 추이', 220), ('투자 의견 전체', 214), ('투자 의견 유지', 212), ('매수 목표 주가', 151), ('목표 주가 최근', 146), ('하나 금융 투자', 145), ('증권 투자 의견', 139), ('동종목 이번 제시', 135), ('의견 유지 목표주', 135), ('제시 목표 주가', 133)], 'cluster3unigram': [('지분', 279), ('변동', 190), ('보유', 172), ('공시', 139), ('주식', 128), ('관계', 124), ('거래', 121), ('발표', 87), ('이상', 80), ('이내', 74)], 'cluster3bigram': [('지분 변동', 173), ('특수 관계', 70), ('특별 관계', 54), ('최대 주주', 42), ('기사 국민일보', 40), ('국민일보 엠로보', 40), ('엠로보 개발', 40), ('개발 증권', 40), ('증권 뉴스', 40), ('뉴스 전용', 40)], 'cluster3trigram': [('기사 국민일보 엠로보', 40), ('국민일보 엠로보 개발', 40), ('엠로보 개발 증권', 40), ('개발 증권 뉴스', 40), ('증권 뉴스 전용', 40), ('뉴스 전용 인공', 40), ('전용 인공 지능', 40), ('인공 지능 로봇', 40), ('지능 로봇 스톡봇', 40), ('로봇 스톡봇 금융', 40)], 'cluster4unigram': [('분기', 529), ('거래', 442), ('외국', 421), ('기관', 400), ('하락', 400), ('이익', 398), ('대비', 369), ('매수', 369), ('종목', 363), ('기록', 342)], 'cluster4bigram': [('영업 이익', 258), ('전문 기업', 152), ('금융 전문', 151), ('기업 씽크풀', 151), ('이번 분기', 144), ('분기 매출', 138), ('전년 동기', 121), ('시간 작성', 105), ('한국 경제', 101), ('외국 기관', 100)], 'cluster4trigram': [('금융 전문 기업', 151), ('전문 기업 씽크풀', 151), ('기사 한국 경제', 100), ('한국 경제 신문', 100), ('경제 신문 금융', 100), ('신문 금융 전문', 100), ('기업 씽크풀 공동', 100), ('씽크풀 공동 개발', 100), ('공동 개발 기사', 100), ('개발 기사 자동생성', 100)], 'cluster5unigram': [('금융', 341), ('인수', 338), ('롯데카드', 299), ('롯데', 292), ('파트너스', 259), ('매각', 221), ('한앤컴퍼니', 218), ('지분', 166), ('롯데그룹', 165), ('카드', 161)], 'cluster5bigram': [('우선 협상', 147), ('협상 대상', 138), ('하나 금융', 118), ('손해 보험', 94), ('금융 지주', 75), ('롯데 그룹', 74), ('롯데 손해', 73), ('대상 선정', 68), ('롯데카드 인수', 64), ('금융 계열', 60)], 'cluster5trigram': [('우선 협상 대상', 136), ('롯데 손해 보험', 73), ('협상 대상 선정', 67), ('하나 금융 지주', 41), ('인수 우선 협상', 33), ('우리 은행 컨소시엄', 27), ('직원 고용 보장', 25), ('롯데 그룹 협력', 25), ('금융 계열 매각', 23), ('임 직원 고용', 23)]}\n"
     ]
    }
   ],
   "source": [
    "t = TopicGenerator('', '')\n",
    "print(t.process_data('2019-05-03'))"
   ]
  },
  {
   "cell_type": "code",
   "execution_count": null,
   "metadata": {},
   "outputs": [],
   "source": []
  }
 ],
 "metadata": {
  "kernelspec": {
   "display_name": "Python 3",
   "language": "python",
   "name": "python3"
  },
  "language_info": {
   "codemirror_mode": {
    "name": "ipython",
    "version": 3
   },
   "file_extension": ".py",
   "mimetype": "text/x-python",
   "name": "python",
   "nbconvert_exporter": "python",
   "pygments_lexer": "ipython3",
   "version": "3.6.8"
  }
 },
 "nbformat": 4,
 "nbformat_minor": 2
}
