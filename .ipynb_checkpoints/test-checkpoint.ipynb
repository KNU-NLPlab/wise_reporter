{
 "cells": [
  {
   "cell_type": "code",
   "execution_count": 8,
   "metadata": {},
   "outputs": [],
   "source": [
    "#%env CUDA_VISIBLE_DEVICES=0\n",
    "\n",
    "import sys\n",
    "sys.path.append('./modules/multi_summ')"
   ]
  },
  {
   "cell_type": "code",
   "execution_count": 9,
   "metadata": {},
   "outputs": [
    {
     "data": {
      "text/plain": [
       "tensor([[-0.2038,  2.2169]], device='cuda:0')"
      ]
     },
     "execution_count": 9,
     "metadata": {},
     "output_type": "execute_result"
    }
   ],
   "source": [
    "import torch\n",
    "device = torch.device(\"cuda\")\n",
    "torch.randn([1, 2]).to(device)"
   ]
  },
  {
   "cell_type": "markdown",
   "metadata": {},
   "source": [
    "# 1. Scouter"
   ]
  },
  {
   "cell_type": "code",
   "execution_count": 10,
   "metadata": {
    "scrolled": true
   },
   "outputs": [
    {
     "name": "stdout",
     "output_type": "stream",
     "text": [
      "CPU times: user 104 ms, sys: 36 ms, total: 140 ms\n",
      "Wall time: 628 ms\n"
     ]
    }
   ],
   "source": [
    "%%time\n",
    "from modules.scouter_handler import ScouterHandler\n",
    "from modules.scouter.config import default_addr, default_newspaper_idx, default_timeline_idx\n",
    "from modules.topic_generator import TopicGenerator"
   ]
  },
  {
   "cell_type": "code",
   "execution_count": 11,
   "metadata": {},
   "outputs": [],
   "source": [
    "keyword = \"삼성전자\"\n",
    "out_path = \"results/\"\n",
    "\n",
    "scouter = ScouterHandler(addr=default_addr, size=1000)"
   ]
  },
  {
   "cell_type": "code",
   "execution_count": 12,
   "metadata": {},
   "outputs": [
    {
     "name": "stdout",
     "output_type": "stream",
     "text": [
      "Query : 삼성전자\n",
      "Scroll idx : 1 (1000 docs)\n",
      "Scroll idx : 2 (1000 docs)\n",
      "Total retrieved Doc # :  2000\n",
      "\n"
     ]
    }
   ],
   "source": [
    "query_body = scouter.make_keyword_query_body(keyword, filters=['news_id', 'postingDate', 'newsTitle', 'extContent', 'analyzed_text'])\n",
    "doc_info_list = scouter.search(query_body, data_type=default_newspaper_idx, max_num_doc=2000, trim_lower=False)"
   ]
  },
  {
   "cell_type": "code",
   "execution_count": 5,
   "metadata": {},
   "outputs": [
    {
     "data": {
      "text/plain": [
       "'세계 최대 자산운용사인 블랙록이 삼성전자 지분 5.03%를 보유하고 있다고 공시했다. 블랙록은 지난 1월에만 삼성전자 지분 950억원어치를 매입하며 지분율을 확대했다. 7일 블랙록은 지난달 장내매수로 삼성전자 지분을 5%  이상 보유하게 됐다고 공시했다. 지난 1월에 삼성전자 주식 약 211만주를 순매수했고, 매수단가를 기준으로 한 취득 규모는 약 950억원이다. 지난달 블랙록은 삼성전자 주식을 한 주당 4만5000원대에서 집중 매입했다. 이날 삼성전자 주가는 전 거래일보다 150원(0.32%) 하락한 4만6200원으로 장을 마쳤다.'"
      ]
     },
     "execution_count": 5,
     "metadata": {},
     "output_type": "execute_result"
    }
   ],
   "source": [
    "doc_info_list[0]['extContent']"
   ]
  },
  {
   "cell_type": "code",
   "execution_count": 4,
   "metadata": {
    "scrolled": true
   },
   "outputs": [
    {
     "name": "stdout",
     "output_type": "stream",
     "text": [
      "Topic 1 keywords : ['수출', '부진', '경상흑자']\n",
      "Topic 1 news article & # of doc 9:\n",
      "불황형 흑자 의 그늘 경상수지 흑자 27분기 만에 최저\n",
      "불안한 경상흑자  1분기 6년9개월만에 최소...4월 적자 가능성(종합)\n",
      "수출 부진  쪼그라든 경상흑자 4월 적자 전환하나?\n",
      "수출 부진에 경상수지  휘청  6년9개월만 흑자 최소(종합)\n",
      "수출 부진  1분기 경상흑자 112.5억달러...6년9개월만에  최소\n",
      "1분기 경상수지 6년9개월 만에 최저 수출 부진 속  불황형 흑자\n",
      "1분기 경상수지 흑자 112.5억달러 2012년 이후 최소\n",
      "경상수지 83개월 흑자행진에도...규모는 7년 만에 최소\n",
      "경상수지 83개월 연속 흑자 끊기나 외국인 배당금이 좌우\n",
      "\n",
      "Topic 2 keywords : ['트럼프', '시진핑', '관세']\n",
      "Topic 2 news article & # of doc 15:\n",
      "트럼프  추가 관세  위협 속 미중 9∼10일 무역협상 나선다\n",
      "뉴욕증시, 미중 무역협상 우려 다시 커지며 급락 다우 1.79%\n",
      "무역전쟁 우려에 美증시   관세 위협, 위험으로 인식\n",
      "中언론  美과 무역협상 어려움 대처할 자신있다\n",
      "채권왕  건들락, 美 관세 인상 가능성 50%\n",
      "美 3250억弗 대중 추가관세 실행 불가능\n",
      "中 4월 수출 전년比 2.7%  대미 무역도 급감\n",
      "미 중 마지막 단두대 협상 류허의 입에 달렸다\n",
      "미중 무역전쟁 우려, 亞증시 줄줄이 하락\n",
      "트럼프 블러핑 김정은에겐 통했는데 시진핑은?\n",
      "엄포 아니었다 美  10일 중국산 관세 10% 25%로 인상\n",
      "中 트럼프 협박에도 협상 계속하는 진짜 이유는?\n",
      "美 中  무역전쟁  위기 뉴욕증시 급락, 코스피 꿈틀\n",
      "트럼프 관세  카운트다운  美월가  최악 대비하라  경고\n",
      "한번 해보자  중국도 강경파들 급속히 입지 넓혀\n",
      "\n",
      "Topic 3 keywords : ['EU', '유로존', '하락']\n",
      "Topic 3 news article & # of doc 8:\n",
      "EU, 유로존 GDP 성장률 하향 조정 1.3% 1.2%(종합)\n",
      "1Q  깜짝성장 에도 눈높이 낮춘 유럽, 이유가\n",
      "하루 늦은 충격  미-유럽증시 급락, 상품가격도 하락\n",
      "독 지멘스, 발전 사업 축소하며 4년간 1만명 감축 방침\n",
      "유럽 증시, 미중 무역협상 우려에 크게 하락 마감..런던 1.63%\n",
      "미중 무역전쟁 우려에 글로벌 시장 출렁 주가 구리\n",
      "미중 무역협상  노 딜  우려, 亞증시 일제 하락\n",
      "트럼프 관세  카운트다운  美월가  최악 대비하라  경고\n",
      "\n",
      "Topic 4 keywords : ['주택', '공사', 'MBS']\n",
      "Topic 4 news article & # of doc 9:\n",
      "개인도 주택금융공사 발행 MBS 투자 가능해진다\n",
      "오는 27일부터 단돈 1만원으로도 MBS 직접투자 가능해진다\n",
      "개인투자자도 주금공 발행 MBS 투자할 수 있다\n",
      "개인도 소액으로 주금공 발행 MBS 직접투자 가능해진다\n",
      "개인도 주택저당증권(MBS) 소액투자 가능해진다\n",
      "개인도 1만원 단위로 MBS 직접투자 가능해진다\n",
      "개인도 27일부터 주택금융공사 MBS 소액투자 가능해져\n",
      "주택저당증권(MBS) 개인 소액투자 문  활짝\n",
      "개인도 MBS 소액 투자 가능해진다\n",
      "\n",
      "Topic 5 keywords : ['브렉시트', '메이 총리', '英']\n",
      "Topic 5 news article & # of doc 10:\n",
      "글로벌 기업 CFO 35.6%  브렉시트 시한 또 연장될 것\n",
      "英 중앙은행, 브렉시트 연기에 기준금리 0.75% 동결\n",
      "뉴욕증시, 미중 무역협상 우려 다시 커지며 급락 다우 1.79%\n",
      "英, 기준금리 0.75% 동결 올해 성장률 전망 1.2% 1.5% 상향\n",
      "영국 기업 14% 재무상태  심각\n",
      "영국은행, 올 성장치 전망 1.6%로 상향\n",
      "유로존 올 성장률 전망 또 낮춘 EU\n",
      "美 연준, 무역전쟁에 고심    금융안정 위협할 최대 요인\n",
      "1Q  깜짝성장 에도 눈높이 낮춘 유럽, 이유가\n",
      "英자동차 생산 14% 하락 향후 전망  더욱 나쁨\n",
      "\n",
      "Topic  0\n",
      "Topic  1\n",
      "트럼프  미중 무역회담 계속될 것 솔직 건설적인 대화\n",
      "트럼프  시진핑, 아름다운 편지 보내와 협상 타결? 그럴수도\n",
      "트럼프  시진핑과 내 사이 아주 강해 대화 이어갈 것\n",
      "미중 무역협상 4월 타결 물 건너갔다 이유는?\n",
      "트럼프  美 中 정상회담 무역협정 체결 예정  (상보)\n",
      "美, 무역협상 진행 중 예정대로 관세 인상 시장 우려\n",
      "중국 의외의 반격에 트럼프  움찔\n",
      "상승세 미중 무역전쟁 해결 기대감\n",
      "트럼프  3,000억불 추가 관세 아직 결정 안돼... G20서 시진핑 만날 것\n",
      "미국, 중국과 무역협상 시한 60일 연장 검토\n",
      "Topic  2\n",
      "주요지수, 미 중 무역협상 차질 가능성에 투자심리 위축  다우0.87%\n",
      "원/달러 브렉시트 불확실성에 하락폭 제한-키움\n",
      "유럽경제  먹구름  글로벌IB, 성장 전망 속속 낮춰\n",
      "여전한 악재, 유럽發 불확실성\n",
      "코스피, 외국인 자금유입 주춤  속도조절하며 유입 지속될 것\n",
      "경기 불확실성 커지는 유럽 동향 모니터링 필요\n",
      "유럽 골칫덩이 伊 포퓰리즘 남발에 성장률 1% 0.2%\n",
      "미 중 불확실성에 뉴욕증시 하락 국내 하락폭은 크지 않을 듯\n",
      "믿었던 독일마저  휘청   유로존 경제 통째로 흔들리나\n",
      "유럽쇼크에 强달러 외국인 나흘째  팔자\n",
      "Topic  3\n",
      "Topic  4\n",
      "안갯속 브렉시트 英의회  플랜B  준비 압박\n",
      "융커 EU집행위원장  브렉시트, 낙관적이지 않아 노딜 배제 못해\n",
      "미 중 무역전쟁에 불안한 증시..美 다우지수 0.9% 하락\n",
      "재앙이 된 브렉시트  英 은행자산 1조파운드 빠져나간다\n",
      "브렉시트 앞두고 유럽 방문 나선 윤석헌 김용범\n",
      "의회 오락가락에 英기업들 분통  떠나든 남든 빨리 정하라\n",
      "미중 무역전쟁 막내리나  연장 Vs 결렬  갈림길\n",
      "브렉시트 코앞인데 무역협상 지지부진  영국 교역  벼랑끝\n",
      "美 中 EU  3대 경제권  격랑 한국 경제도 후폭풍 촉각\n"
     ]
    }
   ],
   "source": [
    "date = '2019-05-08'\n",
    "topic_gen = TopicGenerator(keyword, out_path)\n",
    "topic_doc = topic_gen.process_data(date)\n",
    "clusters = topic_doc['clusters']\n",
    "\n",
    "for i in range(len(clusters)):\n",
    "    print('Topic {} keywords :'.format(i+1), clusters[i]['keywords'])\n",
    "    print('Topic {} news article & # of doc {}:'.format(i+1, len(clusters[i]['news_source'])))\n",
    "    for doc in clusters[i]['news_source']:\n",
    "        print(doc['newsTitle'])\n",
    "    print()\n",
    "\n",
    "for i in range(len(clusters)):\n",
    "    keyword_search_test = scouter.search_for_topic(clusters[i]['keywords'])\n",
    "    print('Topic ', i)\n",
    "    for doc in keyword_search_test: print(doc['newsTitle'])"
   ]
  },
  {
   "cell_type": "code",
   "execution_count": null,
   "metadata": {
    "scrolled": true
   },
   "outputs": [],
   "source": [
    "query_body = ScouterHandler.make_count_query_body(keyword, from_date=\"2019-05-01\", to_date=\"2019-12-31\")\n",
    "trend_data = scouter.search_for_trend(query_body, max_num_doc=100)"
   ]
  },
  {
   "cell_type": "code",
   "execution_count": null,
   "metadata": {
    "scrolled": true
   },
   "outputs": [],
   "source": [
    "from collections import Counter\n",
    "Counter({d['key_as_string']:d['doc_count'] for d in trend_data['aggregations']['date_range']['buckets'][0]['group_by_date']['buckets']})"
   ]
  },
  {
   "cell_type": "markdown",
   "metadata": {
    "scrolled": true
   },
   "source": [
    "# 2. Multi-document Summary"
   ]
  },
  {
   "cell_type": "code",
   "execution_count": 13,
   "metadata": {
    "scrolled": true
   },
   "outputs": [
    {
     "ename": "RuntimeError",
     "evalue": "CUDA out of memory. Tried to allocate 90.25 MiB (GPU 0; 11.91 GiB total capacity; 934.77 MiB already allocated; 13.06 MiB free; 11.11 MiB cached)",
     "output_type": "error",
     "traceback": [
      "\u001b[0;31m---------------------------------------------------------------------------\u001b[0m",
      "\u001b[0;31mRuntimeError\u001b[0m                              Traceback (most recent call last)",
      "\u001b[0;32m<timed exec>\u001b[0m in \u001b[0;36m<module>\u001b[0;34m\u001b[0m\n",
      "\u001b[0;32m/workspace/wise_reporter/modules/multi_doc_summary.py\u001b[0m in \u001b[0;36m__init__\u001b[0;34m(self, topic, out_path, gpu)\u001b[0m\n\u001b[1;32m     18\u001b[0m         '''\n\u001b[1;32m     19\u001b[0m         \u001b[0msuper\u001b[0m\u001b[0;34m(\u001b[0m\u001b[0mMultiDocSummary\u001b[0m\u001b[0;34m,\u001b[0m \u001b[0mself\u001b[0m\u001b[0;34m)\u001b[0m\u001b[0;34m.\u001b[0m\u001b[0m__init__\u001b[0m\u001b[0;34m(\u001b[0m\u001b[0mtopic\u001b[0m\u001b[0;34m,\u001b[0m \u001b[0mout_path\u001b[0m\u001b[0;34m)\u001b[0m\u001b[0;34m\u001b[0m\u001b[0;34m\u001b[0m\u001b[0m\n\u001b[0;32m---> 20\u001b[0;31m         \u001b[0mself\u001b[0m\u001b[0;34m.\u001b[0m\u001b[0mmds\u001b[0m \u001b[0;34m=\u001b[0m \u001b[0mmds\u001b[0m\u001b[0;34m(\u001b[0m\u001b[0mgpu\u001b[0m\u001b[0;34m)\u001b[0m\u001b[0;34m\u001b[0m\u001b[0;34m\u001b[0m\u001b[0m\n\u001b[0m\u001b[1;32m     21\u001b[0m \u001b[0;34m\u001b[0m\u001b[0m\n\u001b[1;32m     22\u001b[0m     \u001b[0;32mdef\u001b[0m \u001b[0mprocess_data\u001b[0m\u001b[0;34m(\u001b[0m\u001b[0mself\u001b[0m\u001b[0;34m,\u001b[0m \u001b[0mdocuments_list\u001b[0m\u001b[0;34m)\u001b[0m\u001b[0;34m:\u001b[0m\u001b[0;34m\u001b[0m\u001b[0;34m\u001b[0m\u001b[0m\n",
      "\u001b[0;32m/workspace/wise_reporter/modules/multi_summ/multi_doc_sum.py\u001b[0m in \u001b[0;36m__init__\u001b[0;34m(self, gpu)\u001b[0m\n\u001b[1;32m     48\u001b[0m \u001b[0;34m\u001b[0m\u001b[0m\n\u001b[1;32m     49\u001b[0m         \u001b[0mlogger\u001b[0m \u001b[0;34m=\u001b[0m \u001b[0minit_logger\u001b[0m\u001b[0;34m(\u001b[0m\u001b[0mopt\u001b[0m\u001b[0;34m.\u001b[0m\u001b[0mlog_file\u001b[0m\u001b[0;34m)\u001b[0m\u001b[0;34m\u001b[0m\u001b[0;34m\u001b[0m\u001b[0m\n\u001b[0;32m---> 50\u001b[0;31m         \u001b[0mself\u001b[0m\u001b[0;34m.\u001b[0m\u001b[0mtranslator\u001b[0m \u001b[0;34m=\u001b[0m \u001b[0mbuild_translator\u001b[0m\u001b[0;34m(\u001b[0m\u001b[0mopt\u001b[0m\u001b[0;34m,\u001b[0m \u001b[0mreport_score\u001b[0m\u001b[0;34m=\u001b[0m\u001b[0;32mTrue\u001b[0m\u001b[0;34m)\u001b[0m\u001b[0;34m\u001b[0m\u001b[0;34m\u001b[0m\u001b[0m\n\u001b[0m\u001b[1;32m     51\u001b[0m \u001b[0;34m\u001b[0m\u001b[0m\n\u001b[1;32m     52\u001b[0m     \u001b[0;32mdef\u001b[0m \u001b[0mm_translate\u001b[0m\u001b[0;34m(\u001b[0m\u001b[0mself\u001b[0m\u001b[0;34m,\u001b[0m \u001b[0msrcs\u001b[0m\u001b[0;34m)\u001b[0m\u001b[0;34m:\u001b[0m\u001b[0;34m\u001b[0m\u001b[0;34m\u001b[0m\u001b[0m\n",
      "\u001b[0;32m/workspace/wise_reporter/modules/multi_summ/onmt/translate/translator.py\u001b[0m in \u001b[0;36mbuild_translator\u001b[0;34m(opt, report_score, logger, out_file)\u001b[0m\n\u001b[1;32m     34\u001b[0m     \u001b[0mload_test_model\u001b[0m \u001b[0;34m=\u001b[0m \u001b[0monmt\u001b[0m\u001b[0;34m.\u001b[0m\u001b[0mdecoders\u001b[0m\u001b[0;34m.\u001b[0m\u001b[0mensemble\u001b[0m\u001b[0;34m.\u001b[0m\u001b[0mload_test_model\u001b[0m\u001b[0;31m \u001b[0m\u001b[0;31m\\\u001b[0m\u001b[0;34m\u001b[0m\u001b[0;34m\u001b[0m\u001b[0m\n\u001b[1;32m     35\u001b[0m         \u001b[0;32mif\u001b[0m \u001b[0mlen\u001b[0m\u001b[0;34m(\u001b[0m\u001b[0mopt\u001b[0m\u001b[0;34m.\u001b[0m\u001b[0mmodels\u001b[0m\u001b[0;34m)\u001b[0m \u001b[0;34m>\u001b[0m \u001b[0;36m1\u001b[0m \u001b[0;32melse\u001b[0m \u001b[0monmt\u001b[0m\u001b[0;34m.\u001b[0m\u001b[0mmodel_builder\u001b[0m\u001b[0;34m.\u001b[0m\u001b[0mload_test_model\u001b[0m\u001b[0;34m\u001b[0m\u001b[0;34m\u001b[0m\u001b[0m\n\u001b[0;32m---> 36\u001b[0;31m     \u001b[0mfields\u001b[0m\u001b[0;34m,\u001b[0m \u001b[0mmodel\u001b[0m\u001b[0;34m,\u001b[0m \u001b[0mmodel_opt\u001b[0m \u001b[0;34m=\u001b[0m \u001b[0mload_test_model\u001b[0m\u001b[0;34m(\u001b[0m\u001b[0mopt\u001b[0m\u001b[0;34m,\u001b[0m \u001b[0mdummy_opt\u001b[0m\u001b[0;34m.\u001b[0m\u001b[0m__dict__\u001b[0m\u001b[0;34m)\u001b[0m\u001b[0;34m\u001b[0m\u001b[0;34m\u001b[0m\u001b[0m\n\u001b[0m\u001b[1;32m     37\u001b[0m \u001b[0;34m\u001b[0m\u001b[0m\n\u001b[1;32m     38\u001b[0m     \u001b[0mscorer\u001b[0m \u001b[0;34m=\u001b[0m \u001b[0monmt\u001b[0m\u001b[0;34m.\u001b[0m\u001b[0mtranslate\u001b[0m\u001b[0;34m.\u001b[0m\u001b[0mGNMTGlobalScorer\u001b[0m\u001b[0;34m.\u001b[0m\u001b[0mfrom_opt\u001b[0m\u001b[0;34m(\u001b[0m\u001b[0mopt\u001b[0m\u001b[0;34m)\u001b[0m\u001b[0;34m\u001b[0m\u001b[0;34m\u001b[0m\u001b[0m\n",
      "\u001b[0;32m/workspace/wise_reporter/modules/multi_summ/onmt/model_builder.py\u001b[0m in \u001b[0;36mload_test_model\u001b[0;34m(opt, dummy_opt, model_path)\u001b[0m\n\u001b[1;32m     95\u001b[0m         \u001b[0;32mif\u001b[0m \u001b[0marg\u001b[0m \u001b[0;32mnot\u001b[0m \u001b[0;32min\u001b[0m \u001b[0mmodel_opt\u001b[0m\u001b[0;34m:\u001b[0m\u001b[0;34m\u001b[0m\u001b[0;34m\u001b[0m\u001b[0m\n\u001b[1;32m     96\u001b[0m             \u001b[0mmodel_opt\u001b[0m\u001b[0;34m.\u001b[0m\u001b[0m__dict__\u001b[0m\u001b[0;34m[\u001b[0m\u001b[0marg\u001b[0m\u001b[0;34m]\u001b[0m \u001b[0;34m=\u001b[0m \u001b[0mdummy_opt\u001b[0m\u001b[0;34m[\u001b[0m\u001b[0marg\u001b[0m\u001b[0;34m]\u001b[0m\u001b[0;34m\u001b[0m\u001b[0;34m\u001b[0m\u001b[0m\n\u001b[0;32m---> 97\u001b[0;31m     \u001b[0mmodel\u001b[0m \u001b[0;34m=\u001b[0m \u001b[0mbuild_base_model\u001b[0m\u001b[0;34m(\u001b[0m\u001b[0mmodel_opt\u001b[0m\u001b[0;34m,\u001b[0m \u001b[0mfields\u001b[0m\u001b[0;34m,\u001b[0m \u001b[0muse_gpu\u001b[0m\u001b[0;34m(\u001b[0m\u001b[0mopt\u001b[0m\u001b[0;34m)\u001b[0m\u001b[0;34m,\u001b[0m \u001b[0mcheckpoint\u001b[0m\u001b[0;34m)\u001b[0m\u001b[0;34m\u001b[0m\u001b[0;34m\u001b[0m\u001b[0m\n\u001b[0m\u001b[1;32m     98\u001b[0m     \u001b[0mmodel\u001b[0m\u001b[0;34m.\u001b[0m\u001b[0meval\u001b[0m\u001b[0;34m(\u001b[0m\u001b[0;34m)\u001b[0m\u001b[0;34m\u001b[0m\u001b[0;34m\u001b[0m\u001b[0m\n\u001b[1;32m     99\u001b[0m     \u001b[0mmodel\u001b[0m\u001b[0;34m.\u001b[0m\u001b[0mgenerator\u001b[0m\u001b[0;34m.\u001b[0m\u001b[0meval\u001b[0m\u001b[0;34m(\u001b[0m\u001b[0;34m)\u001b[0m\u001b[0;34m\u001b[0m\u001b[0;34m\u001b[0m\u001b[0m\n",
      "\u001b[0;32m/workspace/wise_reporter/modules/multi_summ/onmt/model_builder.py\u001b[0m in \u001b[0;36mbuild_base_model\u001b[0;34m(model_opt, fields, gpu, checkpoint)\u001b[0m\n\u001b[1;32m    221\u001b[0m \u001b[0;34m\u001b[0m\u001b[0m\n\u001b[1;32m    222\u001b[0m     \u001b[0mmodel\u001b[0m\u001b[0;34m.\u001b[0m\u001b[0mgenerator\u001b[0m \u001b[0;34m=\u001b[0m \u001b[0mgenerator\u001b[0m\u001b[0;34m\u001b[0m\u001b[0;34m\u001b[0m\u001b[0m\n\u001b[0;32m--> 223\u001b[0;31m     \u001b[0mmodel\u001b[0m\u001b[0;34m.\u001b[0m\u001b[0mto\u001b[0m\u001b[0;34m(\u001b[0m\u001b[0mdevice\u001b[0m\u001b[0;34m)\u001b[0m\u001b[0;34m\u001b[0m\u001b[0;34m\u001b[0m\u001b[0m\n\u001b[0m\u001b[1;32m    224\u001b[0m \u001b[0;34m\u001b[0m\u001b[0m\n\u001b[1;32m    225\u001b[0m     \u001b[0;32mreturn\u001b[0m \u001b[0mmodel\u001b[0m\u001b[0;34m\u001b[0m\u001b[0;34m\u001b[0m\u001b[0m\n",
      "\u001b[0;32m/usr/local/lib/python3.6/dist-packages/torch/nn/modules/module.py\u001b[0m in \u001b[0;36mto\u001b[0;34m(self, *args, **kwargs)\u001b[0m\n\u001b[1;32m    379\u001b[0m             \u001b[0;32mreturn\u001b[0m \u001b[0mt\u001b[0m\u001b[0;34m.\u001b[0m\u001b[0mto\u001b[0m\u001b[0;34m(\u001b[0m\u001b[0mdevice\u001b[0m\u001b[0;34m,\u001b[0m \u001b[0mdtype\u001b[0m \u001b[0;32mif\u001b[0m \u001b[0mt\u001b[0m\u001b[0;34m.\u001b[0m\u001b[0mis_floating_point\u001b[0m\u001b[0;34m(\u001b[0m\u001b[0;34m)\u001b[0m \u001b[0;32melse\u001b[0m \u001b[0;32mNone\u001b[0m\u001b[0;34m,\u001b[0m \u001b[0mnon_blocking\u001b[0m\u001b[0;34m)\u001b[0m\u001b[0;34m\u001b[0m\u001b[0;34m\u001b[0m\u001b[0m\n\u001b[1;32m    380\u001b[0m \u001b[0;34m\u001b[0m\u001b[0m\n\u001b[0;32m--> 381\u001b[0;31m         \u001b[0;32mreturn\u001b[0m \u001b[0mself\u001b[0m\u001b[0;34m.\u001b[0m\u001b[0m_apply\u001b[0m\u001b[0;34m(\u001b[0m\u001b[0mconvert\u001b[0m\u001b[0;34m)\u001b[0m\u001b[0;34m\u001b[0m\u001b[0;34m\u001b[0m\u001b[0m\n\u001b[0m\u001b[1;32m    382\u001b[0m \u001b[0;34m\u001b[0m\u001b[0m\n\u001b[1;32m    383\u001b[0m     \u001b[0;32mdef\u001b[0m \u001b[0mregister_backward_hook\u001b[0m\u001b[0;34m(\u001b[0m\u001b[0mself\u001b[0m\u001b[0;34m,\u001b[0m \u001b[0mhook\u001b[0m\u001b[0;34m)\u001b[0m\u001b[0;34m:\u001b[0m\u001b[0;34m\u001b[0m\u001b[0;34m\u001b[0m\u001b[0m\n",
      "\u001b[0;32m/usr/local/lib/python3.6/dist-packages/torch/nn/modules/module.py\u001b[0m in \u001b[0;36m_apply\u001b[0;34m(self, fn)\u001b[0m\n\u001b[1;32m    185\u001b[0m     \u001b[0;32mdef\u001b[0m \u001b[0m_apply\u001b[0m\u001b[0;34m(\u001b[0m\u001b[0mself\u001b[0m\u001b[0;34m,\u001b[0m \u001b[0mfn\u001b[0m\u001b[0;34m)\u001b[0m\u001b[0;34m:\u001b[0m\u001b[0;34m\u001b[0m\u001b[0;34m\u001b[0m\u001b[0m\n\u001b[1;32m    186\u001b[0m         \u001b[0;32mfor\u001b[0m \u001b[0mmodule\u001b[0m \u001b[0;32min\u001b[0m \u001b[0mself\u001b[0m\u001b[0;34m.\u001b[0m\u001b[0mchildren\u001b[0m\u001b[0;34m(\u001b[0m\u001b[0;34m)\u001b[0m\u001b[0;34m:\u001b[0m\u001b[0;34m\u001b[0m\u001b[0;34m\u001b[0m\u001b[0m\n\u001b[0;32m--> 187\u001b[0;31m             \u001b[0mmodule\u001b[0m\u001b[0;34m.\u001b[0m\u001b[0m_apply\u001b[0m\u001b[0;34m(\u001b[0m\u001b[0mfn\u001b[0m\u001b[0;34m)\u001b[0m\u001b[0;34m\u001b[0m\u001b[0;34m\u001b[0m\u001b[0m\n\u001b[0m\u001b[1;32m    188\u001b[0m \u001b[0;34m\u001b[0m\u001b[0m\n\u001b[1;32m    189\u001b[0m         \u001b[0;32mfor\u001b[0m \u001b[0mparam\u001b[0m \u001b[0;32min\u001b[0m \u001b[0mself\u001b[0m\u001b[0;34m.\u001b[0m\u001b[0m_parameters\u001b[0m\u001b[0;34m.\u001b[0m\u001b[0mvalues\u001b[0m\u001b[0;34m(\u001b[0m\u001b[0;34m)\u001b[0m\u001b[0;34m:\u001b[0m\u001b[0;34m\u001b[0m\u001b[0;34m\u001b[0m\u001b[0m\n",
      "\u001b[0;32m/usr/local/lib/python3.6/dist-packages/torch/nn/modules/module.py\u001b[0m in \u001b[0;36m_apply\u001b[0;34m(self, fn)\u001b[0m\n\u001b[1;32m    185\u001b[0m     \u001b[0;32mdef\u001b[0m \u001b[0m_apply\u001b[0m\u001b[0;34m(\u001b[0m\u001b[0mself\u001b[0m\u001b[0;34m,\u001b[0m \u001b[0mfn\u001b[0m\u001b[0;34m)\u001b[0m\u001b[0;34m:\u001b[0m\u001b[0;34m\u001b[0m\u001b[0;34m\u001b[0m\u001b[0m\n\u001b[1;32m    186\u001b[0m         \u001b[0;32mfor\u001b[0m \u001b[0mmodule\u001b[0m \u001b[0;32min\u001b[0m \u001b[0mself\u001b[0m\u001b[0;34m.\u001b[0m\u001b[0mchildren\u001b[0m\u001b[0;34m(\u001b[0m\u001b[0;34m)\u001b[0m\u001b[0;34m:\u001b[0m\u001b[0;34m\u001b[0m\u001b[0;34m\u001b[0m\u001b[0m\n\u001b[0;32m--> 187\u001b[0;31m             \u001b[0mmodule\u001b[0m\u001b[0;34m.\u001b[0m\u001b[0m_apply\u001b[0m\u001b[0;34m(\u001b[0m\u001b[0mfn\u001b[0m\u001b[0;34m)\u001b[0m\u001b[0;34m\u001b[0m\u001b[0;34m\u001b[0m\u001b[0m\n\u001b[0m\u001b[1;32m    188\u001b[0m \u001b[0;34m\u001b[0m\u001b[0m\n\u001b[1;32m    189\u001b[0m         \u001b[0;32mfor\u001b[0m \u001b[0mparam\u001b[0m \u001b[0;32min\u001b[0m \u001b[0mself\u001b[0m\u001b[0;34m.\u001b[0m\u001b[0m_parameters\u001b[0m\u001b[0;34m.\u001b[0m\u001b[0mvalues\u001b[0m\u001b[0;34m(\u001b[0m\u001b[0;34m)\u001b[0m\u001b[0;34m:\u001b[0m\u001b[0;34m\u001b[0m\u001b[0;34m\u001b[0m\u001b[0m\n",
      "\u001b[0;32m/usr/local/lib/python3.6/dist-packages/torch/nn/modules/module.py\u001b[0m in \u001b[0;36m_apply\u001b[0;34m(self, fn)\u001b[0m\n\u001b[1;32m    185\u001b[0m     \u001b[0;32mdef\u001b[0m \u001b[0m_apply\u001b[0m\u001b[0;34m(\u001b[0m\u001b[0mself\u001b[0m\u001b[0;34m,\u001b[0m \u001b[0mfn\u001b[0m\u001b[0;34m)\u001b[0m\u001b[0;34m:\u001b[0m\u001b[0;34m\u001b[0m\u001b[0;34m\u001b[0m\u001b[0m\n\u001b[1;32m    186\u001b[0m         \u001b[0;32mfor\u001b[0m \u001b[0mmodule\u001b[0m \u001b[0;32min\u001b[0m \u001b[0mself\u001b[0m\u001b[0;34m.\u001b[0m\u001b[0mchildren\u001b[0m\u001b[0;34m(\u001b[0m\u001b[0;34m)\u001b[0m\u001b[0;34m:\u001b[0m\u001b[0;34m\u001b[0m\u001b[0;34m\u001b[0m\u001b[0m\n\u001b[0;32m--> 187\u001b[0;31m             \u001b[0mmodule\u001b[0m\u001b[0;34m.\u001b[0m\u001b[0m_apply\u001b[0m\u001b[0;34m(\u001b[0m\u001b[0mfn\u001b[0m\u001b[0;34m)\u001b[0m\u001b[0;34m\u001b[0m\u001b[0;34m\u001b[0m\u001b[0m\n\u001b[0m\u001b[1;32m    188\u001b[0m \u001b[0;34m\u001b[0m\u001b[0m\n\u001b[1;32m    189\u001b[0m         \u001b[0;32mfor\u001b[0m \u001b[0mparam\u001b[0m \u001b[0;32min\u001b[0m \u001b[0mself\u001b[0m\u001b[0;34m.\u001b[0m\u001b[0m_parameters\u001b[0m\u001b[0;34m.\u001b[0m\u001b[0mvalues\u001b[0m\u001b[0;34m(\u001b[0m\u001b[0;34m)\u001b[0m\u001b[0;34m:\u001b[0m\u001b[0;34m\u001b[0m\u001b[0;34m\u001b[0m\u001b[0m\n",
      "\u001b[0;32m/usr/local/lib/python3.6/dist-packages/torch/nn/modules/module.py\u001b[0m in \u001b[0;36m_apply\u001b[0;34m(self, fn)\u001b[0m\n\u001b[1;32m    185\u001b[0m     \u001b[0;32mdef\u001b[0m \u001b[0m_apply\u001b[0m\u001b[0;34m(\u001b[0m\u001b[0mself\u001b[0m\u001b[0;34m,\u001b[0m \u001b[0mfn\u001b[0m\u001b[0;34m)\u001b[0m\u001b[0;34m:\u001b[0m\u001b[0;34m\u001b[0m\u001b[0;34m\u001b[0m\u001b[0m\n\u001b[1;32m    186\u001b[0m         \u001b[0;32mfor\u001b[0m \u001b[0mmodule\u001b[0m \u001b[0;32min\u001b[0m \u001b[0mself\u001b[0m\u001b[0;34m.\u001b[0m\u001b[0mchildren\u001b[0m\u001b[0;34m(\u001b[0m\u001b[0;34m)\u001b[0m\u001b[0;34m:\u001b[0m\u001b[0;34m\u001b[0m\u001b[0;34m\u001b[0m\u001b[0m\n\u001b[0;32m--> 187\u001b[0;31m             \u001b[0mmodule\u001b[0m\u001b[0;34m.\u001b[0m\u001b[0m_apply\u001b[0m\u001b[0;34m(\u001b[0m\u001b[0mfn\u001b[0m\u001b[0;34m)\u001b[0m\u001b[0;34m\u001b[0m\u001b[0;34m\u001b[0m\u001b[0m\n\u001b[0m\u001b[1;32m    188\u001b[0m \u001b[0;34m\u001b[0m\u001b[0m\n\u001b[1;32m    189\u001b[0m         \u001b[0;32mfor\u001b[0m \u001b[0mparam\u001b[0m \u001b[0;32min\u001b[0m \u001b[0mself\u001b[0m\u001b[0;34m.\u001b[0m\u001b[0m_parameters\u001b[0m\u001b[0;34m.\u001b[0m\u001b[0mvalues\u001b[0m\u001b[0;34m(\u001b[0m\u001b[0;34m)\u001b[0m\u001b[0;34m:\u001b[0m\u001b[0;34m\u001b[0m\u001b[0;34m\u001b[0m\u001b[0m\n",
      "\u001b[0;32m/usr/local/lib/python3.6/dist-packages/torch/nn/modules/module.py\u001b[0m in \u001b[0;36m_apply\u001b[0;34m(self, fn)\u001b[0m\n\u001b[1;32m    185\u001b[0m     \u001b[0;32mdef\u001b[0m \u001b[0m_apply\u001b[0m\u001b[0;34m(\u001b[0m\u001b[0mself\u001b[0m\u001b[0;34m,\u001b[0m \u001b[0mfn\u001b[0m\u001b[0;34m)\u001b[0m\u001b[0;34m:\u001b[0m\u001b[0;34m\u001b[0m\u001b[0;34m\u001b[0m\u001b[0m\n\u001b[1;32m    186\u001b[0m         \u001b[0;32mfor\u001b[0m \u001b[0mmodule\u001b[0m \u001b[0;32min\u001b[0m \u001b[0mself\u001b[0m\u001b[0;34m.\u001b[0m\u001b[0mchildren\u001b[0m\u001b[0;34m(\u001b[0m\u001b[0;34m)\u001b[0m\u001b[0;34m:\u001b[0m\u001b[0;34m\u001b[0m\u001b[0;34m\u001b[0m\u001b[0m\n\u001b[0;32m--> 187\u001b[0;31m             \u001b[0mmodule\u001b[0m\u001b[0;34m.\u001b[0m\u001b[0m_apply\u001b[0m\u001b[0;34m(\u001b[0m\u001b[0mfn\u001b[0m\u001b[0;34m)\u001b[0m\u001b[0;34m\u001b[0m\u001b[0;34m\u001b[0m\u001b[0m\n\u001b[0m\u001b[1;32m    188\u001b[0m \u001b[0;34m\u001b[0m\u001b[0m\n\u001b[1;32m    189\u001b[0m         \u001b[0;32mfor\u001b[0m \u001b[0mparam\u001b[0m \u001b[0;32min\u001b[0m \u001b[0mself\u001b[0m\u001b[0;34m.\u001b[0m\u001b[0m_parameters\u001b[0m\u001b[0;34m.\u001b[0m\u001b[0mvalues\u001b[0m\u001b[0;34m(\u001b[0m\u001b[0;34m)\u001b[0m\u001b[0;34m:\u001b[0m\u001b[0;34m\u001b[0m\u001b[0;34m\u001b[0m\u001b[0m\n",
      "\u001b[0;32m/usr/local/lib/python3.6/dist-packages/torch/nn/modules/module.py\u001b[0m in \u001b[0;36m_apply\u001b[0;34m(self, fn)\u001b[0m\n\u001b[1;32m    191\u001b[0m                 \u001b[0;31m# Tensors stored in modules are graph leaves, and we don't\u001b[0m\u001b[0;34m\u001b[0m\u001b[0;34m\u001b[0m\u001b[0;34m\u001b[0m\u001b[0m\n\u001b[1;32m    192\u001b[0m                 \u001b[0;31m# want to create copy nodes, so we have to unpack the data.\u001b[0m\u001b[0;34m\u001b[0m\u001b[0;34m\u001b[0m\u001b[0;34m\u001b[0m\u001b[0m\n\u001b[0;32m--> 193\u001b[0;31m                 \u001b[0mparam\u001b[0m\u001b[0;34m.\u001b[0m\u001b[0mdata\u001b[0m \u001b[0;34m=\u001b[0m \u001b[0mfn\u001b[0m\u001b[0;34m(\u001b[0m\u001b[0mparam\u001b[0m\u001b[0;34m.\u001b[0m\u001b[0mdata\u001b[0m\u001b[0;34m)\u001b[0m\u001b[0;34m\u001b[0m\u001b[0;34m\u001b[0m\u001b[0m\n\u001b[0m\u001b[1;32m    194\u001b[0m                 \u001b[0;32mif\u001b[0m \u001b[0mparam\u001b[0m\u001b[0;34m.\u001b[0m\u001b[0m_grad\u001b[0m \u001b[0;32mis\u001b[0m \u001b[0;32mnot\u001b[0m \u001b[0;32mNone\u001b[0m\u001b[0;34m:\u001b[0m\u001b[0;34m\u001b[0m\u001b[0;34m\u001b[0m\u001b[0m\n\u001b[1;32m    195\u001b[0m                     \u001b[0mparam\u001b[0m\u001b[0;34m.\u001b[0m\u001b[0m_grad\u001b[0m\u001b[0;34m.\u001b[0m\u001b[0mdata\u001b[0m \u001b[0;34m=\u001b[0m \u001b[0mfn\u001b[0m\u001b[0;34m(\u001b[0m\u001b[0mparam\u001b[0m\u001b[0;34m.\u001b[0m\u001b[0m_grad\u001b[0m\u001b[0;34m.\u001b[0m\u001b[0mdata\u001b[0m\u001b[0;34m)\u001b[0m\u001b[0;34m\u001b[0m\u001b[0;34m\u001b[0m\u001b[0m\n",
      "\u001b[0;32m/usr/local/lib/python3.6/dist-packages/torch/nn/modules/module.py\u001b[0m in \u001b[0;36mconvert\u001b[0;34m(t)\u001b[0m\n\u001b[1;32m    377\u001b[0m \u001b[0;34m\u001b[0m\u001b[0m\n\u001b[1;32m    378\u001b[0m         \u001b[0;32mdef\u001b[0m \u001b[0mconvert\u001b[0m\u001b[0;34m(\u001b[0m\u001b[0mt\u001b[0m\u001b[0;34m)\u001b[0m\u001b[0;34m:\u001b[0m\u001b[0;34m\u001b[0m\u001b[0;34m\u001b[0m\u001b[0m\n\u001b[0;32m--> 379\u001b[0;31m             \u001b[0;32mreturn\u001b[0m \u001b[0mt\u001b[0m\u001b[0;34m.\u001b[0m\u001b[0mto\u001b[0m\u001b[0;34m(\u001b[0m\u001b[0mdevice\u001b[0m\u001b[0;34m,\u001b[0m \u001b[0mdtype\u001b[0m \u001b[0;32mif\u001b[0m \u001b[0mt\u001b[0m\u001b[0;34m.\u001b[0m\u001b[0mis_floating_point\u001b[0m\u001b[0;34m(\u001b[0m\u001b[0;34m)\u001b[0m \u001b[0;32melse\u001b[0m \u001b[0;32mNone\u001b[0m\u001b[0;34m,\u001b[0m \u001b[0mnon_blocking\u001b[0m\u001b[0;34m)\u001b[0m\u001b[0;34m\u001b[0m\u001b[0;34m\u001b[0m\u001b[0m\n\u001b[0m\u001b[1;32m    380\u001b[0m \u001b[0;34m\u001b[0m\u001b[0m\n\u001b[1;32m    381\u001b[0m         \u001b[0;32mreturn\u001b[0m \u001b[0mself\u001b[0m\u001b[0;34m.\u001b[0m\u001b[0m_apply\u001b[0m\u001b[0;34m(\u001b[0m\u001b[0mconvert\u001b[0m\u001b[0;34m)\u001b[0m\u001b[0;34m\u001b[0m\u001b[0;34m\u001b[0m\u001b[0m\n",
      "\u001b[0;31mRuntimeError\u001b[0m: CUDA out of memory. Tried to allocate 90.25 MiB (GPU 0; 11.91 GiB total capacity; 934.77 MiB already allocated; 13.06 MiB free; 11.11 MiB cached)"
     ]
    }
   ],
   "source": [
    "%%time\n",
    "from modules.multi_doc_summary import MultiDocSummary\n",
    "\n",
    "multi_doc_summarizer = MultiDocSummary('0', '0')"
   ]
  },
  {
   "cell_type": "code",
   "execution_count": null,
   "metadata": {},
   "outputs": [],
   "source": [
    "%%time\n",
    "multi_doc_summarizer.process_data([doc['extContent'] for doc in clusters[2]['news_source']][:8])"
   ]
  },
  {
   "cell_type": "markdown",
   "metadata": {},
   "source": [
    "# 3. TimelineSummary"
   ]
  },
  {
   "cell_type": "code",
   "execution_count": null,
   "metadata": {
    "scrolled": true
   },
   "outputs": [],
   "source": [
    "from modules.timeline_summary import TimelineSummary"
   ]
  },
  {
   "cell_type": "code",
   "execution_count": null,
   "metadata": {},
   "outputs": [],
   "source": [
    "keyword = '미국 중국 무역'\n",
    "outpath = './results/'"
   ]
  },
  {
   "cell_type": "code",
   "execution_count": null,
   "metadata": {},
   "outputs": [],
   "source": [
    "%%time\n",
    "scouter = ScouterHandler(addr=default_addr, size=1000)\n",
    "query_body = scouter.make_keyword_query_body(keyword, filters=['news_id', 'postingDate', 'extContent', 'extract'])\n",
    "doc_info_list = scouter.search(query_body, data_type=default_timeline_idx, max_num_doc=200, trim_lower=False)"
   ]
  },
  {
   "cell_type": "code",
   "execution_count": null,
   "metadata": {},
   "outputs": [],
   "source": [
    "%%time\n",
    "timeline_summ = TimelineSummary(keyword, outpath)\n",
    "summary, _ = timeline_summ.process_data(doc_info_list)\n",
    "dates = [sentence['date'] for sentence in summary]\n",
    "timeline_sen = [' '.join(sentence['compResult']) for sentence in summary]\n",
    "normal_sentence = [sentence['article'][0]['sentence'].strip() for sentence in summary]\n",
    "score = [sentence['article'][2]['score'] for sentence in summary]"
   ]
  },
  {
   "cell_type": "code",
   "execution_count": null,
   "metadata": {},
   "outputs": [],
   "source": [
    "list(zip(dates, normal_sentence))"
   ]
  },
  {
   "cell_type": "code",
   "execution_count": null,
   "metadata": {},
   "outputs": [],
   "source": [
    "list(zip(dates, timeline_sen))"
   ]
  },
  {
   "cell_type": "markdown",
   "metadata": {},
   "source": [
    "# 4. Image Selection"
   ]
  },
  {
   "cell_type": "code",
   "execution_count": 2,
   "metadata": {
    "scrolled": true
   },
   "outputs": [
    {
     "name": "stderr",
     "output_type": "stream",
     "text": [
      "/usr/local/lib/python3.6/dist-packages/tensorflow/python/framework/dtypes.py:516: FutureWarning: Passing (type, 1) or '1type' as a synonym of type is deprecated; in a future version of numpy, it will be understood as (type, (1,)) / '(1,)type'.\n",
      "  _np_qint8 = np.dtype([(\"qint8\", np.int8, 1)])\n",
      "/usr/local/lib/python3.6/dist-packages/tensorflow/python/framework/dtypes.py:517: FutureWarning: Passing (type, 1) or '1type' as a synonym of type is deprecated; in a future version of numpy, it will be understood as (type, (1,)) / '(1,)type'.\n",
      "  _np_quint8 = np.dtype([(\"quint8\", np.uint8, 1)])\n",
      "/usr/local/lib/python3.6/dist-packages/tensorflow/python/framework/dtypes.py:518: FutureWarning: Passing (type, 1) or '1type' as a synonym of type is deprecated; in a future version of numpy, it will be understood as (type, (1,)) / '(1,)type'.\n",
      "  _np_qint16 = np.dtype([(\"qint16\", np.int16, 1)])\n",
      "/usr/local/lib/python3.6/dist-packages/tensorflow/python/framework/dtypes.py:519: FutureWarning: Passing (type, 1) or '1type' as a synonym of type is deprecated; in a future version of numpy, it will be understood as (type, (1,)) / '(1,)type'.\n",
      "  _np_quint16 = np.dtype([(\"quint16\", np.uint16, 1)])\n",
      "/usr/local/lib/python3.6/dist-packages/tensorflow/python/framework/dtypes.py:520: FutureWarning: Passing (type, 1) or '1type' as a synonym of type is deprecated; in a future version of numpy, it will be understood as (type, (1,)) / '(1,)type'.\n",
      "  _np_qint32 = np.dtype([(\"qint32\", np.int32, 1)])\n",
      "/usr/local/lib/python3.6/dist-packages/tensorflow/python/framework/dtypes.py:525: FutureWarning: Passing (type, 1) or '1type' as a synonym of type is deprecated; in a future version of numpy, it will be understood as (type, (1,)) / '(1,)type'.\n",
      "  np_resource = np.dtype([(\"resource\", np.ubyte, 1)])\n",
      "/usr/local/lib/python3.6/dist-packages/tensorboard/compat/tensorflow_stub/dtypes.py:541: FutureWarning: Passing (type, 1) or '1type' as a synonym of type is deprecated; in a future version of numpy, it will be understood as (type, (1,)) / '(1,)type'.\n",
      "  _np_qint8 = np.dtype([(\"qint8\", np.int8, 1)])\n",
      "/usr/local/lib/python3.6/dist-packages/tensorboard/compat/tensorflow_stub/dtypes.py:542: FutureWarning: Passing (type, 1) or '1type' as a synonym of type is deprecated; in a future version of numpy, it will be understood as (type, (1,)) / '(1,)type'.\n",
      "  _np_quint8 = np.dtype([(\"quint8\", np.uint8, 1)])\n",
      "/usr/local/lib/python3.6/dist-packages/tensorboard/compat/tensorflow_stub/dtypes.py:543: FutureWarning: Passing (type, 1) or '1type' as a synonym of type is deprecated; in a future version of numpy, it will be understood as (type, (1,)) / '(1,)type'.\n",
      "  _np_qint16 = np.dtype([(\"qint16\", np.int16, 1)])\n",
      "/usr/local/lib/python3.6/dist-packages/tensorboard/compat/tensorflow_stub/dtypes.py:544: FutureWarning: Passing (type, 1) or '1type' as a synonym of type is deprecated; in a future version of numpy, it will be understood as (type, (1,)) / '(1,)type'.\n",
      "  _np_quint16 = np.dtype([(\"quint16\", np.uint16, 1)])\n",
      "/usr/local/lib/python3.6/dist-packages/tensorboard/compat/tensorflow_stub/dtypes.py:545: FutureWarning: Passing (type, 1) or '1type' as a synonym of type is deprecated; in a future version of numpy, it will be understood as (type, (1,)) / '(1,)type'.\n",
      "  _np_qint32 = np.dtype([(\"qint32\", np.int32, 1)])\n",
      "/usr/local/lib/python3.6/dist-packages/tensorboard/compat/tensorflow_stub/dtypes.py:550: FutureWarning: Passing (type, 1) or '1type' as a synonym of type is deprecated; in a future version of numpy, it will be understood as (type, (1,)) / '(1,)type'.\n",
      "  np_resource = np.dtype([(\"resource\", np.ubyte, 1)])\n",
      "Using TensorFlow backend.\n"
     ]
    }
   ],
   "source": [
    "from modules.image_selector import ImageSelectionModule"
   ]
  },
  {
   "cell_type": "code",
   "execution_count": 4,
   "metadata": {},
   "outputs": [],
   "source": [
    "imageSelector = ImageSelectionModule(\"남북 정상회담\", \"aa\")"
   ]
  },
  {
   "cell_type": "code",
   "execution_count": 7,
   "metadata": {
    "scrolled": true
   },
   "outputs": [
    {
     "name": "stdout",
     "output_type": "stream",
     "text": [
      "1.jpg : , Predict : others\n",
      "2.jpg : , Predict : others\n",
      "3.jpg : , Predict : others\n",
      "4.jpg : , Predict : graph\n",
      "5.jpg : , Predict : others\n",
      "6.jpg : , Predict : graph\n",
      "7.jpg : , Predict : graph\n",
      "8.jpg : , Predict : graph\n",
      "9.jpg : , Predict : graph\n",
      "10.jpg : , Predict : others\n",
      "11.jpg : , Predict : others\n",
      "12.jpg : , Predict : graph\n",
      "13.jpg : , Predict : others\n",
      "14.jpg : , Predict : others\n",
      "15.jpg : , Predict : others\n",
      "16.jpg : , Predict : others\n",
      "17.jpg : , Predict : others\n",
      "18.jpg : , Predict : others\n",
      "19.jpg : , Predict : others\n",
      "20.jpg : , Predict : graph\n",
      "21.jpg : , Predict : graph\n",
      "22.jpg : , Predict : graph\n",
      "23.jpg : , Predict : others\n",
      "24.jpg : , Predict : others\n",
      "25.jpg : , Predict : others\n",
      "26.jpg : , Predict : others\n",
      "27.jpg : , Predict : graph\n",
      "28.jpg : , Predict : others\n",
      "29.jpg : , Predict : graph\n",
      "30.jpg : , Predict : others\n",
      "31.jpg : , Predict : others\n",
      "32.jpg : , Predict : others\n",
      "33.jpg : , Predict : graph\n",
      "34.jpg : , Predict : others\n",
      "35.jpg : , Predict : others\n",
      "36.jpg : , Predict : others\n",
      "37.jpg : , Predict : graph\n",
      "38.jpg : , Predict : others\n",
      "39.jpg : , Predict : others\n",
      "40.jpg : , Predict : others\n",
      "41.jpg : , Predict : others\n",
      "42.jpg : , Predict : others\n",
      "43.jpg : , Predict : others\n",
      "44.jpg : , Predict : others\n",
      "45.jpg : , Predict : others\n",
      "46.jpg : , Predict : graph\n",
      "47.jpg : , Predict : others\n",
      "48.jpg : , Predict : graph\n",
      "49.jpg : , Predict : others\n",
      "50.jpg : , Predict : others\n",
      "INFO:tensorflow:Saver not created because there are no variables in the graph to restore\n"
     ]
    },
    {
     "name": "stderr",
     "output_type": "stream",
     "text": [
      "INFO:tensorflow:Saver not created because there are no variables in the graph to restore\n"
     ]
    },
    {
     "name": "stdout",
     "output_type": "stream",
     "text": [
      "INFO:tensorflow:Saver not created because there are no variables in the graph to restore\n"
     ]
    },
    {
     "name": "stderr",
     "output_type": "stream",
     "text": [
      "INFO:tensorflow:Saver not created because there are no variables in the graph to restore\n"
     ]
    },
    {
     "name": "stdout",
     "output_type": "stream",
     "text": [
      "recommended image : 1.jpg\n",
      "CPU times: user 16.6 s, sys: 644 ms, total: 17.2 s\n",
      "Wall time: 25.5 s\n"
     ]
    }
   ],
   "source": [
    "%%time\n",
    "imageSelector.process_data(\"트럼프의 뒤집기 전술에 딜레마 빠진 中 협상 해도 문제\", \"./a.jpg\")"
   ]
  },
  {
   "cell_type": "code",
   "execution_count": null,
   "metadata": {},
   "outputs": [],
   "source": [
    "import os\n",
    "import re"
   ]
  },
  {
   "cell_type": "code",
   "execution_count": null,
   "metadata": {
    "scrolled": true
   },
   "outputs": [],
   "source": [
    "date_list = [\"2019-05-07\", \"2019-05-08\", \"2019-05-09\"]\n",
    "#for date in date_list:\n",
    "#    os.mkdir(\"./results/\"+date)\n",
    "\n",
    "result_list = [\n",
    "    [\n",
    "        \"트럼프의 뒤집기 전술에 딜레마 빠진 中 협상 해도 문제\",\n",
    "        \"韓외환보유액 순위 7개월만에 9위로 밀려 4월말 12억달러\",\n",
    "        \"엠플러스, 70억 2차전지 제조설비 공급.. 해외수주 증가\",\n",
    "        \"하나은행-주금공, 한부모가족 전세대출 요건완화 금리인하\",\n",
    "        \"관세전쟁 악몽 재현  코스피 2170선붕괴\"\n",
    "    ],\n",
    "    [\n",
    "        \"불황형 흑자 의 그늘 경상수지 흑자 27분기 만에 최저\",\n",
    "        \"트럼프 추가 관세 위협 속 미중 9∼10일 무역협상 나선다\",\n",
    "        \"EU, 유로존 GDP 성장률 하향 조정 1.3% 1.2%(종합)\",\n",
    "        \"개인도 주택금융공사 발행 MBS 투자 가능해진다\",\n",
    "        \"글로벌 기업 CFO 35.6%  브렉시트 시한 또 연장될 것\"\n",
    "    ],\n",
    "    [\n",
    "        \"끝나지 않은 무역전쟁 악몽\",\n",
    "        \"중고차 대출한도, 차값의 110% 이내로 제한된다\",\n",
    "        \"비씨카드 이제 중국에서 모바일로 결제하세요\",\n",
    "        \"한은, 새로운 금융상황지수 도입... 2017년 4분기 이후 완화기조 지속\",\n",
    "        \"삼성자산운용, 개인연금 설정액 1조 돌파\"\n",
    "    ]\n",
    "]\n",
    "for date, sen_list in zip(date_list[1:], result_list[1:]):\n",
    "    print(\"[*] DATE : \" + date)\n",
    "    for i, sen in enumerate(sen_list):\n",
    "        sen = re.sub(\"\\s+\", \" \", sen)\n",
    "        print(i, sen)\n",
    "        imageSelector.process_data(sen, \"./results/{}/{}-\".format(date, i))"
   ]
  },
  {
   "cell_type": "code",
   "execution_count": null,
   "metadata": {
    "scrolled": true
   },
   "outputs": [],
   "source": [
    "imageSelector.process_data(\"테리사 메이 영국 총리는 표결 직후 성명을 통해 예고한 대로 13일 노딜 브렉시트 여부를 하원 표결에 부치겠다고 밝혔다.\", \"./abc\")"
   ]
  },
  {
   "cell_type": "code",
   "execution_count": null,
   "metadata": {},
   "outputs": [],
   "source": [
    "result_list = [\n",
    "    [\n",
    "        \"지난해(181억7000만달러)에 비해 증가 폭이 줄었지만 한국 외환보유액은 10년간 증가세를 보이며 두 배로 확대됐다.\",\n",
    "        \"지난달 외환보유액이 4,055억 달러로 사상 최대 기록을 다시 갈아치웠다.\",\n",
    "        \"외환보유액 1위 중국 3만879억달러, 2위는 일본 1만2793억달러 우리나라의 외환보유액 규모는 2월말 기준 소폭 감소하며 세계 8위 수준(1월)을 유지한 것으로 나타났다.\",\n",
    "        \"우리나라의 외환보유액은 지난해 8월말 4011억달러을 기록해 국가별 순위에서 인도(4001억달러)를 제치고 9위에서 8위로 올라선 바 있다.\"\n",
    "    ],\n",
    "    [\n",
    "        \"15일(현지시간) 영국 하원에서 브렉시트 합의안이 큰 표 차로 부결되며 불확실성이 커진 점이 원/달러 환율 상승 배경인 것으로 풀이된다.\",\n",
    "        \"테리사 메이 영국 총리는 표결 직후 성명을 통해 예고한 대로 13일 노딜 브렉시트 여부를 하원 표결에 부치겠다고 밝혔다.\",\n",
    "        \"21~22일 EU정상회담 메이 빈손회담 가능성 커져 유럽연합(EU)이 브렉시트(영국의 EU 탈퇴) 시기 연기해달라는 영국의 요청에 영국 의회가 합의문을 승인해야 한다고 밝혔다.\"\n",
    "    ],\n",
    "    [\n",
    "        \"도널드 트럼프 미국 대통령이 오는 3월 1일까지였던 중국과의 무역 협상 시한을 연장하기로 했다.\",\n",
    "        \"겅솽 대변인의 발표를 앞두고 중국 상무부도 류허 중국 부총리가 오는 9~10일 예정대로 미국에서 협상을 벌일 것이라고 성명을 내기도 했다.\",\n",
    "        \"지난해 8월 22~23일 워싱턴DC에서는 왕서우원 중국 상무부 부부장과 데이비드 멀패스 미국 재무부 차관이 이끈 양국 협상 대표단이 무역협상을 진행했다.\",\n",
    "        \"중국 정부는 미국의 관세 폭탄 에 대응해 6월 1일부터 600억 달러 규모의 미국산 제품에 대해 5∼25%의 보복 관세를 부과하기로 했다.\",\n",
    "        \"미국 정부는 23일(현지시간) 자국 통화를 절하하는 국가들에 상계관세를 부과하는 규정을 추진한다고 밝혔다.\",\n",
    "        \"미국 재무부는 28일(현지시간) 한국과 중국, 일본을 포함한 9개국을 환율 관찰대상국으로 지정, 발표했다.\"\n",
    "    ]\n",
    "]\n",
    "\n",
    "for date, sen_list in zip(date_list, result_list):\n",
    "    print(\"[*] DATE : \" + date)\n",
    "    for i, sen in enumerate(sen_list):\n",
    "        sen = re.sub(\"\\s+\", \" \", sen)\n",
    "        print(i, sen)\n",
    "        imageSelector.process_data(sen, \"./results/{}/timeline-{}-\".format(date, i))"
   ]
  },
  {
   "cell_type": "markdown",
   "metadata": {},
   "source": [
    "# 5. Outlook"
   ]
  },
  {
   "cell_type": "code",
   "execution_count": null,
   "metadata": {
    "scrolled": true
   },
   "outputs": [],
   "source": [
    "from modules.outlook import ForecastSentence\n",
    "\n",
    "keyword = '삼성전자'\n",
    "outpath = 'result/'\n",
    "today = '2017-06-11'\n",
    "forecast = ForecastSentence(keyword, outpath)\n",
    "\n",
    "sentences = forecast.process_data(doc_info_list, today)\n",
    "sentences[0:10]"
   ]
  },
  {
   "cell_type": "code",
   "execution_count": null,
   "metadata": {},
   "outputs": [],
   "source": []
  }
 ],
 "metadata": {
  "kernelspec": {
   "display_name": "Python 3",
   "language": "python",
   "name": "python3"
  },
  "language_info": {
   "codemirror_mode": {
    "name": "ipython",
    "version": 3
   },
   "file_extension": ".py",
   "mimetype": "text/x-python",
   "name": "python",
   "nbconvert_exporter": "python",
   "pygments_lexer": "ipython3",
   "version": "3.6.8"
  }
 },
 "nbformat": 4,
 "nbformat_minor": 2
}
