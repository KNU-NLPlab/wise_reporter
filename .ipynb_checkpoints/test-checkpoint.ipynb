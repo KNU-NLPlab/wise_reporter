{
 "cells": [
  {
   "cell_type": "code",
   "execution_count": 1,
   "metadata": {},
   "outputs": [],
   "source": [
    "#%env CUDA_VISIBLE_DEVICES=0\n",
    "\n",
    "import sys\n",
    "sys.path.append('./modules/multi_summ')"
   ]
  },
  {
   "cell_type": "markdown",
   "metadata": {},
   "source": [
    "# 1. Scouter"
   ]
  },
  {
   "cell_type": "code",
   "execution_count": 2,
   "metadata": {
    "scrolled": true
   },
   "outputs": [
    {
     "name": "stdout",
     "output_type": "stream",
     "text": [
      "CPU times: user 752 ms, sys: 544 ms, total: 1.3 s\n",
      "Wall time: 810 ms\n"
     ]
    }
   ],
   "source": [
    "%%time\n",
    "from modules.scouter_handler import ScouterHandler\n",
    "from modules.scouter.config import default_addr, default_newspaper_idx, default_timeline_idx\n",
    "from modules.topic_generator import TopicGenerator"
   ]
  },
  {
   "cell_type": "code",
   "execution_count": 5,
   "metadata": {},
   "outputs": [],
   "source": [
    "keyword = \"삼성전자\"\n",
    "out_path = \"results/\"\n",
    "\n",
    "scouter = ScouterHandler(addr=default_addr, size=1000)"
   ]
  },
  {
   "cell_type": "code",
   "execution_count": 6,
   "metadata": {},
   "outputs": [
    {
     "name": "stdout",
     "output_type": "stream",
     "text": [
      "Query : 삼성전자\n",
      "Scroll idx : 1 (1000 docs)\n",
      "Scroll idx : 2 (1000 docs)\n",
      "Total retrieved Doc # :  2000\n",
      "\n"
     ]
    }
   ],
   "source": [
    "query_body = scouter.make_keyword_query_body(keyword, filters=['news_id', 'postingDate', 'newsTitle', 'extContent', 'analyzed_text'])\n",
    "doc_info_list = scouter.search(query_body, data_type=default_newspaper_idx, max_num_doc=2000, trim_lower=False)"
   ]
  },
  {
   "cell_type": "code",
   "execution_count": 14,
   "metadata": {},
   "outputs": [
    {
     "data": {
      "text/plain": [
       "'세계 최대 자산운용사인 블랙록이 삼성전자 지분 5.03%를 보유하고 있다고 공시했다. 블랙록은 지난 1월에만 삼성전자 지분 950억원어치를 매입하며 지분율을 확대했다. 7일 블랙록은 지난달 장내매수로 삼성전자 지분을 5%  이상 보유하게 됐다고 공시했다. 지난 1월에 삼성전자 주식 약 211만주를 순매수했고, 매수단가를 기준으로 한 취득 규모는 약 950억원이다. 지난달 블랙록은 삼성전자 주식을 한 주당 4만5000원대에서 집중 매입했다. 이날 삼성전자 주가는 전 거래일보다 150원(0.32%) 하락한 4만6200원으로 장을 마쳤다.'"
      ]
     },
     "execution_count": 14,
     "metadata": {},
     "output_type": "execute_result"
    }
   ],
   "source": [
    "doc_info_list[0]['extContent']"
   ]
  },
  {
   "cell_type": "code",
   "execution_count": 13,
   "metadata": {
    "scrolled": true
   },
   "outputs": [
    {
     "name": "stdout",
     "output_type": "stream",
     "text": [
      "Topic 1 keywords : ['수출', '부진', '경상흑자']\n",
      "Topic 1 news article & # of doc 9:\n",
      "불황형 흑자 의 그늘 경상수지 흑자 27분기 만에 최저\n",
      "불안한 경상흑자  1분기 6년9개월만에 최소...4월 적자 가능성(종합)\n",
      "수출 부진  쪼그라든 경상흑자 4월 적자 전환하나?\n",
      "수출 부진에 경상수지  휘청  6년9개월만 흑자 최소(종합)\n",
      "수출 부진  1분기 경상흑자 112.5억달러...6년9개월만에  최소\n",
      "1분기 경상수지 6년9개월 만에 최저 수출 부진 속  불황형 흑자\n",
      "1분기 경상수지 흑자 112.5억달러 2012년 이후 최소\n",
      "경상수지 83개월 흑자행진에도...규모는 7년 만에 최소\n",
      "경상수지 83개월 연속 흑자 끊기나 외국인 배당금이 좌우\n",
      "\n",
      "Topic 2 keywords : ['트럼프', '시진핑', '관세']\n",
      "Topic 2 news article & # of doc 15:\n",
      "트럼프  추가 관세  위협 속 미중 9∼10일 무역협상 나선다\n",
      "뉴욕증시, 미중 무역협상 우려 다시 커지며 급락 다우 1.79%\n",
      "무역전쟁 우려에 美증시   관세 위협, 위험으로 인식\n",
      "中언론  美과 무역협상 어려움 대처할 자신있다\n",
      "채권왕  건들락, 美 관세 인상 가능성 50%\n",
      "美 3250억弗 대중 추가관세 실행 불가능\n",
      "中 4월 수출 전년比 2.7%  대미 무역도 급감\n",
      "미 중 마지막 단두대 협상 류허의 입에 달렸다\n",
      "미중 무역전쟁 우려, 亞증시 줄줄이 하락\n",
      "트럼프 블러핑 김정은에겐 통했는데 시진핑은?\n",
      "엄포 아니었다 美  10일 중국산 관세 10% 25%로 인상\n",
      "中 트럼프 협박에도 협상 계속하는 진짜 이유는?\n",
      "美 中  무역전쟁  위기 뉴욕증시 급락, 코스피 꿈틀\n",
      "트럼프 관세  카운트다운  美월가  최악 대비하라  경고\n",
      "한번 해보자  중국도 강경파들 급속히 입지 넓혀\n",
      "\n",
      "Topic 3 keywords : ['EU', '유로존', '하락']\n",
      "Topic 3 news article & # of doc 8:\n",
      "EU, 유로존 GDP 성장률 하향 조정 1.3% 1.2%(종합)\n",
      "1Q  깜짝성장 에도 눈높이 낮춘 유럽, 이유가\n",
      "하루 늦은 충격  미-유럽증시 급락, 상품가격도 하락\n",
      "독 지멘스, 발전 사업 축소하며 4년간 1만명 감축 방침\n",
      "유럽 증시, 미중 무역협상 우려에 크게 하락 마감..런던 1.63%\n",
      "미중 무역전쟁 우려에 글로벌 시장 출렁 주가 구리\n",
      "미중 무역협상  노 딜  우려, 亞증시 일제 하락\n",
      "트럼프 관세  카운트다운  美월가  최악 대비하라  경고\n",
      "\n",
      "Topic 4 keywords : ['주택', '공사', 'MBS']\n",
      "Topic 4 news article & # of doc 9:\n",
      "개인도 주택금융공사 발행 MBS 투자 가능해진다\n",
      "오는 27일부터 단돈 1만원으로도 MBS 직접투자 가능해진다\n",
      "개인투자자도 주금공 발행 MBS 투자할 수 있다\n",
      "개인도 소액으로 주금공 발행 MBS 직접투자 가능해진다\n",
      "개인도 주택저당증권(MBS) 소액투자 가능해진다\n",
      "개인도 1만원 단위로 MBS 직접투자 가능해진다\n",
      "개인도 27일부터 주택금융공사 MBS 소액투자 가능해져\n",
      "주택저당증권(MBS) 개인 소액투자 문  활짝\n",
      "개인도 MBS 소액 투자 가능해진다\n",
      "\n",
      "Topic 5 keywords : ['브렉시트', '메이 총리', '英']\n",
      "Topic 5 news article & # of doc 10:\n",
      "글로벌 기업 CFO 35.6%  브렉시트 시한 또 연장될 것\n",
      "英 중앙은행, 브렉시트 연기에 기준금리 0.75% 동결\n",
      "뉴욕증시, 미중 무역협상 우려 다시 커지며 급락 다우 1.79%\n",
      "英, 기준금리 0.75% 동결 올해 성장률 전망 1.2% 1.5% 상향\n",
      "영국 기업 14% 재무상태  심각\n",
      "영국은행, 올 성장치 전망 1.6%로 상향\n",
      "유로존 올 성장률 전망 또 낮춘 EU\n",
      "美 연준, 무역전쟁에 고심    금융안정 위협할 최대 요인\n",
      "1Q  깜짝성장 에도 눈높이 낮춘 유럽, 이유가\n",
      "英자동차 생산 14% 하락 향후 전망  더욱 나쁨\n",
      "\n"
     ]
    }
   ],
   "source": [
    "date = '2019-05-08'\n",
    "topic_gen = TopicGenerator(keyword, out_path)\n",
    "topic_doc = topic_gen.process_data(date)\n",
    "clusters = topic_doc['clusters']\n",
    "\n",
    "for i in range(len(clusters)):\n",
    "    print('Topic {} keywords :'.format(i+1), clusters[i]['keywords'])\n",
    "    print('Topic {} news article & # of doc {}:'.format(i+1, len(clusters[i]['news_source'])))\n",
    "    for doc in clusters[i]['news_source']:\n",
    "        print(doc['newsTitle'])\n",
    "    print()"
   ]
  },
  {
   "cell_type": "code",
   "execution_count": 41,
   "metadata": {
    "scrolled": true
   },
   "outputs": [
    {
     "name": "stdout",
     "output_type": "stream",
     "text": [
      "Query : 삼성전자\n"
     ]
    }
   ],
   "source": [
    "query_body = ScouterHandler.make_count_query_body(keyword, from_date=\"2019-05-01\", to_date=\"2019-12-31\")\n",
    "trend_data = scouter.search_for_trend(query_body, max_num_doc=100)"
   ]
  },
  {
   "cell_type": "code",
   "execution_count": 42,
   "metadata": {},
   "outputs": [
    {
     "data": {
      "text/plain": [
       "Counter({'2019-05-01': 21,\n",
       "         '2019-05-02': 77,\n",
       "         '2019-05-03': 33,\n",
       "         '2019-05-04': 4,\n",
       "         '2019-05-05': 5,\n",
       "         '2019-05-06': 16,\n",
       "         '2019-05-07': 37,\n",
       "         '2019-05-08': 50,\n",
       "         '2019-05-09': 43,\n",
       "         '2019-05-10': 25,\n",
       "         '2019-05-11': 3,\n",
       "         '2019-05-12': 11,\n",
       "         '2019-05-13': 35,\n",
       "         '2019-05-14': 27,\n",
       "         '2019-05-15': 44,\n",
       "         '2019-05-16': 48,\n",
       "         '2019-05-17': 41,\n",
       "         '2019-05-18': 3,\n",
       "         '2019-05-19': 8,\n",
       "         '2019-05-20': 49,\n",
       "         '2019-05-21': 72,\n",
       "         '2019-05-22': 46,\n",
       "         '2019-05-23': 51,\n",
       "         '2019-05-24': 29,\n",
       "         '2019-05-25': 5,\n",
       "         '2019-05-26': 15,\n",
       "         '2019-05-27': 36,\n",
       "         '2019-05-28': 59,\n",
       "         '2019-05-29': 37,\n",
       "         '2019-05-30': 50,\n",
       "         '2019-05-31': 27})"
      ]
     },
     "execution_count": 42,
     "metadata": {},
     "output_type": "execute_result"
    }
   ],
   "source": [
    "from collections import Counter\n",
    "Counter({d['key_as_string']:d['doc_count'] for d in trend_data['aggregations']['date_range']['buckets'][0]['group_by_date']['buckets']})"
   ]
  },
  {
   "cell_type": "markdown",
   "metadata": {
    "scrolled": true
   },
   "source": [
    "# 2. Multi-document Summary"
   ]
  },
  {
   "cell_type": "code",
   "execution_count": 4,
   "metadata": {
    "scrolled": true
   },
   "outputs": [
    {
     "name": "stdout",
     "output_type": "stream",
     "text": [
      "CPU times: user 4.38 s, sys: 1 s, total: 5.38 s\n",
      "Wall time: 5.19 s\n"
     ]
    }
   ],
   "source": [
    "%%time\n",
    "from modules.multi_doc_summary import MultiDocSummary\n",
    "\n",
    "multi_doc_summarizer = MultiDocSummary('0', '0')"
   ]
  },
  {
   "cell_type": "code",
   "execution_count": 33,
   "metadata": {},
   "outputs": [
    {
     "data": {
      "text/plain": [
       "'유럽연합(eu)이 중국과의 무역협상 타결 가능성을 시사했다. 미중간 무역 긴장이 고조되면서 유로존의 올해 gdp 성장 전망치는 1.4%에서 1.4%로 낮아질 것으로 내다봤다. 미중 무역분쟁 긴장 고조로 유로존 경제에 부담이 가중될 수 있다는 경고다. '"
      ]
     },
     "execution_count": 33,
     "metadata": {},
     "output_type": "execute_result"
    }
   ],
   "source": [
    "multi_doc_summarizer.process_data([doc['extContent'] for doc in clusters[2]['news_source']][:8])"
   ]
  },
  {
   "cell_type": "markdown",
   "metadata": {},
   "source": [
    "# 3. TimelineSummary"
   ]
  },
  {
   "cell_type": "code",
   "execution_count": 3,
   "metadata": {
    "scrolled": true
   },
   "outputs": [
    {
     "ename": "ModuleNotFoundError",
     "evalue": "No module named 'onmt.utils.parse'",
     "output_type": "error",
     "traceback": [
      "\u001b[0;31m---------------------------------------------------------------------------\u001b[0m",
      "\u001b[0;31mModuleNotFoundError\u001b[0m                       Traceback (most recent call last)",
      "\u001b[0;32m<ipython-input-3-4536449537b6>\u001b[0m in \u001b[0;36m<module>\u001b[0;34m\u001b[0m\n\u001b[0;32m----> 1\u001b[0;31m \u001b[0;32mfrom\u001b[0m \u001b[0mmodules\u001b[0m\u001b[0;34m.\u001b[0m\u001b[0mtimeline_summary\u001b[0m \u001b[0;32mimport\u001b[0m \u001b[0mTimelineSummary\u001b[0m\u001b[0;34m\u001b[0m\u001b[0;34m\u001b[0m\u001b[0m\n\u001b[0m",
      "\u001b[0;32m/workspace/wise_reporter/modules/timeline_summary.py\u001b[0m in \u001b[0;36m<module>\u001b[0;34m\u001b[0m\n\u001b[1;32m     15\u001b[0m \u001b[0;32mfrom\u001b[0m \u001b[0mmodules\u001b[0m\u001b[0;34m.\u001b[0m\u001b[0mtimeline_summ\u001b[0m \u001b[0;32mimport\u001b[0m \u001b[0mredundancyCheck\u001b[0m\u001b[0;34m\u001b[0m\u001b[0;34m\u001b[0m\u001b[0m\n\u001b[1;32m     16\u001b[0m \u001b[0;32mfrom\u001b[0m \u001b[0mmodules\u001b[0m\u001b[0;34m.\u001b[0m\u001b[0mtimeline_summ\u001b[0m \u001b[0;32mimport\u001b[0m \u001b[0mmakeSummary\u001b[0m\u001b[0;34m\u001b[0m\u001b[0;34m\u001b[0m\u001b[0m\n\u001b[0;32m---> 17\u001b[0;31m \u001b[0;32mfrom\u001b[0m \u001b[0mmodules\u001b[0m\u001b[0;34m.\u001b[0m\u001b[0mtimeline_summ\u001b[0m \u001b[0;32mimport\u001b[0m \u001b[0mabstractiveSumm\u001b[0m\u001b[0;34m\u001b[0m\u001b[0;34m\u001b[0m\u001b[0m\n\u001b[0m\u001b[1;32m     18\u001b[0m \u001b[0;34m\u001b[0m\u001b[0m\n\u001b[1;32m     19\u001b[0m \u001b[0;32mfrom\u001b[0m \u001b[0mmodules\u001b[0m\u001b[0;34m.\u001b[0m\u001b[0mtimeline_summ\u001b[0m\u001b[0;34m.\u001b[0m\u001b[0mcleanDirectory\u001b[0m \u001b[0;32mimport\u001b[0m \u001b[0mcleanDirectory\u001b[0m\u001b[0;34m\u001b[0m\u001b[0;34m\u001b[0m\u001b[0m\n",
      "\u001b[0;32m/workspace/wise_reporter/modules/timeline_summ/abstractiveSumm.py\u001b[0m in \u001b[0;36m<module>\u001b[0;34m\u001b[0m\n\u001b[1;32m      3\u001b[0m \u001b[0;32mfrom\u001b[0m \u001b[0monmt\u001b[0m\u001b[0;34m.\u001b[0m\u001b[0mtranslate\u001b[0m\u001b[0;34m.\u001b[0m\u001b[0mtranslator\u001b[0m \u001b[0;32mimport\u001b[0m \u001b[0mbuild_translator\u001b[0m\u001b[0;34m\u001b[0m\u001b[0;34m\u001b[0m\u001b[0m\n\u001b[1;32m      4\u001b[0m \u001b[0;32mimport\u001b[0m \u001b[0monmt\u001b[0m\u001b[0;34m.\u001b[0m\u001b[0mopts\u001b[0m \u001b[0;32mas\u001b[0m \u001b[0mopts\u001b[0m\u001b[0;34m\u001b[0m\u001b[0;34m\u001b[0m\u001b[0m\n\u001b[0;32m----> 5\u001b[0;31m \u001b[0;32mfrom\u001b[0m \u001b[0monmt\u001b[0m\u001b[0;34m.\u001b[0m\u001b[0mutils\u001b[0m\u001b[0;34m.\u001b[0m\u001b[0mparse\u001b[0m \u001b[0;32mimport\u001b[0m \u001b[0mArgumentParser\u001b[0m\u001b[0;34m\u001b[0m\u001b[0;34m\u001b[0m\u001b[0m\n\u001b[0m\u001b[1;32m      6\u001b[0m \u001b[0;34m\u001b[0m\u001b[0m\n\u001b[1;32m      7\u001b[0m \u001b[0;32mimport\u001b[0m \u001b[0mtools\u001b[0m\u001b[0;34m.\u001b[0m\u001b[0metri_nlp\u001b[0m \u001b[0;32mas\u001b[0m \u001b[0metri_nlp\u001b[0m\u001b[0;34m\u001b[0m\u001b[0;34m\u001b[0m\u001b[0m\n",
      "\u001b[0;31mModuleNotFoundError\u001b[0m: No module named 'onmt.utils.parse'"
     ]
    }
   ],
   "source": [
    "from modules.timeline_summary import TimelineSummary"
   ]
  },
  {
   "cell_type": "markdown",
   "metadata": {},
   "source": [
    "# 4. Image Selection"
   ]
  },
  {
   "cell_type": "code",
   "execution_count": 2,
   "metadata": {
    "scrolled": true
   },
   "outputs": [
    {
     "name": "stderr",
     "output_type": "stream",
     "text": [
      "/usr/local/lib/python3.6/dist-packages/tensorflow/python/framework/dtypes.py:516: FutureWarning: Passing (type, 1) or '1type' as a synonym of type is deprecated; in a future version of numpy, it will be understood as (type, (1,)) / '(1,)type'.\n",
      "  _np_qint8 = np.dtype([(\"qint8\", np.int8, 1)])\n",
      "/usr/local/lib/python3.6/dist-packages/tensorflow/python/framework/dtypes.py:517: FutureWarning: Passing (type, 1) or '1type' as a synonym of type is deprecated; in a future version of numpy, it will be understood as (type, (1,)) / '(1,)type'.\n",
      "  _np_quint8 = np.dtype([(\"quint8\", np.uint8, 1)])\n",
      "/usr/local/lib/python3.6/dist-packages/tensorflow/python/framework/dtypes.py:518: FutureWarning: Passing (type, 1) or '1type' as a synonym of type is deprecated; in a future version of numpy, it will be understood as (type, (1,)) / '(1,)type'.\n",
      "  _np_qint16 = np.dtype([(\"qint16\", np.int16, 1)])\n",
      "/usr/local/lib/python3.6/dist-packages/tensorflow/python/framework/dtypes.py:519: FutureWarning: Passing (type, 1) or '1type' as a synonym of type is deprecated; in a future version of numpy, it will be understood as (type, (1,)) / '(1,)type'.\n",
      "  _np_quint16 = np.dtype([(\"quint16\", np.uint16, 1)])\n",
      "/usr/local/lib/python3.6/dist-packages/tensorflow/python/framework/dtypes.py:520: FutureWarning: Passing (type, 1) or '1type' as a synonym of type is deprecated; in a future version of numpy, it will be understood as (type, (1,)) / '(1,)type'.\n",
      "  _np_qint32 = np.dtype([(\"qint32\", np.int32, 1)])\n",
      "/usr/local/lib/python3.6/dist-packages/tensorflow/python/framework/dtypes.py:525: FutureWarning: Passing (type, 1) or '1type' as a synonym of type is deprecated; in a future version of numpy, it will be understood as (type, (1,)) / '(1,)type'.\n",
      "  np_resource = np.dtype([(\"resource\", np.ubyte, 1)])\n"
     ]
    },
    {
     "name": "stdout",
     "output_type": "stream",
     "text": [
      "WARNING:tensorflow:From /workspace/wise_reporter/modules/image_selection/image_selection_2019_v1.py:19: The name tf.ConfigProto is deprecated. Please use tf.compat.v1.ConfigProto instead.\n",
      "\n",
      "WARNING:tensorflow:From /workspace/wise_reporter/modules/image_selection/image_selection_2019_v1.py:22: The name tf.Session is deprecated. Please use tf.compat.v1.Session instead.\n",
      "\n"
     ]
    },
    {
     "name": "stderr",
     "output_type": "stream",
     "text": [
      "/usr/local/lib/python3.6/dist-packages/tensorboard/compat/tensorflow_stub/dtypes.py:541: FutureWarning: Passing (type, 1) or '1type' as a synonym of type is deprecated; in a future version of numpy, it will be understood as (type, (1,)) / '(1,)type'.\n",
      "  _np_qint8 = np.dtype([(\"qint8\", np.int8, 1)])\n",
      "/usr/local/lib/python3.6/dist-packages/tensorboard/compat/tensorflow_stub/dtypes.py:542: FutureWarning: Passing (type, 1) or '1type' as a synonym of type is deprecated; in a future version of numpy, it will be understood as (type, (1,)) / '(1,)type'.\n",
      "  _np_quint8 = np.dtype([(\"quint8\", np.uint8, 1)])\n",
      "/usr/local/lib/python3.6/dist-packages/tensorboard/compat/tensorflow_stub/dtypes.py:543: FutureWarning: Passing (type, 1) or '1type' as a synonym of type is deprecated; in a future version of numpy, it will be understood as (type, (1,)) / '(1,)type'.\n",
      "  _np_qint16 = np.dtype([(\"qint16\", np.int16, 1)])\n",
      "/usr/local/lib/python3.6/dist-packages/tensorboard/compat/tensorflow_stub/dtypes.py:544: FutureWarning: Passing (type, 1) or '1type' as a synonym of type is deprecated; in a future version of numpy, it will be understood as (type, (1,)) / '(1,)type'.\n",
      "  _np_quint16 = np.dtype([(\"quint16\", np.uint16, 1)])\n",
      "/usr/local/lib/python3.6/dist-packages/tensorboard/compat/tensorflow_stub/dtypes.py:545: FutureWarning: Passing (type, 1) or '1type' as a synonym of type is deprecated; in a future version of numpy, it will be understood as (type, (1,)) / '(1,)type'.\n",
      "  _np_qint32 = np.dtype([(\"qint32\", np.int32, 1)])\n",
      "/usr/local/lib/python3.6/dist-packages/tensorboard/compat/tensorflow_stub/dtypes.py:550: FutureWarning: Passing (type, 1) or '1type' as a synonym of type is deprecated; in a future version of numpy, it will be understood as (type, (1,)) / '(1,)type'.\n",
      "  np_resource = np.dtype([(\"resource\", np.ubyte, 1)])\n",
      "Using TensorFlow backend.\n"
     ]
    },
    {
     "name": "stdout",
     "output_type": "stream",
     "text": [
      "WARNING:tensorflow:From /usr/local/lib/python3.6/dist-packages/keras/backend/tensorflow_backend.py:4070: The name tf.nn.max_pool is deprecated. Please use tf.nn.max_pool2d instead.\n",
      "\n",
      "WARNING:tensorflow:From /usr/local/lib/python3.6/dist-packages/keras/backend/tensorflow_backend.py:422: The name tf.global_variables is deprecated. Please use tf.compat.v1.global_variables instead.\n",
      "\n"
     ]
    }
   ],
   "source": [
    "from modules.image_selector import ImageSelectionModule"
   ]
  },
  {
   "cell_type": "code",
   "execution_count": 3,
   "metadata": {},
   "outputs": [],
   "source": [
    "imageSelector = ImageSelectionModule(\"남북 정상회담\", \"aa\")"
   ]
  },
  {
   "cell_type": "code",
   "execution_count": 4,
   "metadata": {
    "scrolled": true
   },
   "outputs": [
    {
     "name": "stdout",
     "output_type": "stream",
     "text": [
      "1.jpg : , Predict : others\n",
      "2.jpg : , Predict : others\n",
      "3.jpg : , Predict : others\n",
      "4.jpg : , Predict : others\n",
      "5.jpg : , Predict : others\n",
      "6.jpg : , Predict : others\n",
      "7.jpg : , Predict : others\n",
      "8.jpg : , Predict : others\n",
      "9.jpg : , Predict : others\n",
      "10.jpg : , Predict : others\n",
      "11.jpg : , Predict : others\n",
      "12.jpg : , Predict : others\n",
      "13.jpg : , Predict : others\n",
      "14.jpg : , Predict : others\n",
      "15.jpg : , Predict : others\n",
      "16.jpg : , Predict : others\n",
      "17.jpg : , Predict : others\n",
      "18.jpg : , Predict : others\n",
      "19.jpg : , Predict : others\n",
      "20.jpg : , Predict : others\n",
      "21.jpg : , Predict : others\n",
      "22.jpg : , Predict : others\n",
      "23.jpg : , Predict : others\n",
      "24.jpg : , Predict : others\n",
      "25.jpg : , Predict : others\n",
      "26.jpg : , Predict : others\n",
      "27.jpg : , Predict : others\n",
      "28.jpg : , Predict : others\n",
      "29.jpg : , Predict : others\n",
      "30.jpg : , Predict : others\n",
      "31.jpg : , Predict : others\n",
      "32.jpg : , Predict : others\n",
      "33.jpg : , Predict : others\n",
      "34.jpg : , Predict : others\n",
      "35.jpg : , Predict : others\n",
      "36.jpg : , Predict : others\n",
      "37.jpg : , Predict : others\n",
      "38.jpg : , Predict : others\n",
      "39.jpg : , Predict : others\n",
      "40.jpg : , Predict : others\n",
      "41.jpg : , Predict : others\n",
      "42.jpg : , Predict : others\n",
      "43.jpg : , Predict : others\n",
      "44.jpg : , Predict : others\n",
      "45.jpg : , Predict : others\n",
      "46.jpg : , Predict : others\n",
      "47.jpg : , Predict : graph\n",
      "48.jpg : , Predict : others\n",
      "49.jpg : , Predict : others\n",
      "50.jpg : , Predict : others\n",
      "WARNING:tensorflow:From /workspace/wise_reporter/modules/image_selection/image_selection_2019_v1.py:68: The name tf.placeholder is deprecated. Please use tf.compat.v1.placeholder instead.\n",
      "\n",
      "INFO:tensorflow:Saver not created because there are no variables in the graph to restore\n"
     ]
    },
    {
     "name": "stderr",
     "output_type": "stream",
     "text": [
      "INFO:tensorflow:Saver not created because there are no variables in the graph to restore\n"
     ]
    },
    {
     "name": "stdout",
     "output_type": "stream",
     "text": [
      "WARNING:tensorflow:From /workspace/wise_reporter/modules/image_selection/image_selection_2019_v1.py:71: The name tf.global_variables_initializer is deprecated. Please use tf.compat.v1.global_variables_initializer instead.\n",
      "\n"
     ]
    },
    {
     "name": "stderr",
     "output_type": "stream",
     "text": [
      "WARNING:tensorflow:From /workspace/wise_reporter/modules/image_selection/image_selection_2019_v1.py:71: The name tf.global_variables_initializer is deprecated. Please use tf.compat.v1.global_variables_initializer instead.\n",
      "\n"
     ]
    },
    {
     "name": "stdout",
     "output_type": "stream",
     "text": [
      "INFO:tensorflow:Saver not created because there are no variables in the graph to restore\n"
     ]
    },
    {
     "name": "stderr",
     "output_type": "stream",
     "text": [
      "INFO:tensorflow:Saver not created because there are no variables in the graph to restore\n"
     ]
    },
    {
     "name": "stdout",
     "output_type": "stream",
     "text": [
      "recommended image : 29.jpg\n"
     ]
    }
   ],
   "source": [
    "imageSelector.process_data(\"남북 정상회담\", \"./\")"
   ]
  },
  {
   "cell_type": "markdown",
   "metadata": {},
   "source": [
    "# 5. Outlook"
   ]
  },
  {
   "cell_type": "code",
   "execution_count": 40,
   "metadata": {
    "scrolled": true
   },
   "outputs": [
    {
     "data": {
      "text/plain": [
       "[' 삼성전자의 올 2분기 실적이 매출액 58조9000억원, 영업이익 14조500억원으로 전년 동기에 비해 각각 15.7%, 72.5% 증가할 것으로 전망, 특히 영업이익이 시장의 기대치 12조9000억원을 상회할 것이라고 내다봤다.',\n",
       " ' 이베스트투자증권 어규진 연구원은  2분기에 메모리 가격 상승 및 OLED 패널 판매 호조가 지속되며 반도체와 디스플레이의 부품 사업부 실적 호조세가 지속될 전망 이라며  휴대폰 부분은 갤럭시S8 판매 호조에 따른 평균 판매가 상승 효과로 전작 대비 늦은 출시에도 견조한 실적을 유지할 전망 이라고 말했다.',\n",
       " ' 흥국증권 이민희 연구원은  삼성전자 2분기 영업이익 전망을 12조1000억원에서 13조원으로 상향 조정한다 며  메모리 가격 전망치 상향 조정과  노트7  리퍼폰 판매량을 일부 반영했다 고 설명했다.',\n",
       " ' 현 추세대로라면 올해 연간 수익률은 10% 안팎도 가능할 것이란 전망이 나오고 있다.',\n",
       " ' 따라서 올해 국내주식에서만 이미 20조원 가까운 수익을 올린 것으로 추정된다.',\n",
       " ' 이밖에 KB금융 LG전자 삼성SDI 엔씨소프트 현대차 등 종목에서도 올 들어 각각 3000억원 이상씩 평가차익을 올린 것으로 파악된다.',\n",
       " ' 자산운용업계 관계자는  국내 주식이 많이 올랐지만 늘어난 이익에 비해서는 여전히 전세계적으로 저평가된 상태 라면서  하반기 본격 시행을 앞두고 있는 스튜어드십코드(기관투자가 의결권 행사지침) 도입을 계기로 기업 배당이 늘어나고 지배구조가 개선되면서 하반기에도 국민연금이 국내주식에서 상당한 수익을 얻을 것으로 예상한다 고 말했다.',\n",
       " '반도체  슈퍼 호황 이 이어지면서 장비 소재주도 적잖은 수혜를 볼 것으로 기대되고 있다.',\n",
       " ' 전문가들은 반도체주가 코스피지수 상승을 이끌었듯이 반도체 장비 소재주가 코스닥시장 상승을 주도할 것이라는 분석을 내놓았다.',\n",
       " ' 시장조사업체 IHS마킷에 따르면 올해 D램 생산량은 지난해보다 1.1% 늘어나는 데 그칠 전망이다.']"
      ]
     },
     "execution_count": 40,
     "metadata": {},
     "output_type": "execute_result"
    }
   ],
   "source": [
    "from modules.outlook import ForecastSentence\n",
    "\n",
    "keyword = '삼성전자'\n",
    "outpath = 'result/'\n",
    "today = '2017-06-11'\n",
    "forecast = ForecastSentence(keyword, outpath)\n",
    "\n",
    "sentences = forecast.process_data(doc_info_list, today)\n",
    "sentences[0:10]"
   ]
  },
  {
   "cell_type": "code",
   "execution_count": null,
   "metadata": {},
   "outputs": [],
   "source": []
  }
 ],
 "metadata": {
  "kernelspec": {
   "display_name": "Python 3",
   "language": "python",
   "name": "python3"
  },
  "language_info": {
   "codemirror_mode": {
    "name": "ipython",
    "version": 3
   },
   "file_extension": ".py",
   "mimetype": "text/x-python",
   "name": "python",
   "nbconvert_exporter": "python",
   "pygments_lexer": "ipython3",
   "version": "3.6.8"
  }
 },
 "nbformat": 4,
 "nbformat_minor": 2
}
