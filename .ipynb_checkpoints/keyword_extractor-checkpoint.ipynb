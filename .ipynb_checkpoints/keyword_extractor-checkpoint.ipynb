{
 "cells": [
  {
   "cell_type": "code",
   "execution_count": 1,
   "metadata": {},
   "outputs": [],
   "source": [
    "from modules.base_module import BaseModule\n",
    "\n",
    "from modules.scouter import connectES as es\n",
    "from modules.scouter import clusteringDoc as cl\n",
    "from modules.scouter import N_gram as ng\n",
    "import math\n",
    "import json"
   ]
  },
  {
   "cell_type": "code",
   "execution_count": 2,
   "metadata": {},
   "outputs": [
    {
     "ename": "SyntaxError",
     "evalue": "invalid syntax (<ipython-input-2-9d8e64a13ca4>, line 9)",
     "output_type": "error",
     "traceback": [
      "\u001b[0;36m  File \u001b[0;32m\"<ipython-input-2-9d8e64a13ca4>\"\u001b[0;36m, line \u001b[0;32m9\u001b[0m\n\u001b[0;31m    if indexed_cluster\u001b[0m\n\u001b[0m                      ^\u001b[0m\n\u001b[0;31mSyntaxError\u001b[0m\u001b[0;31m:\u001b[0m invalid syntax\n"
     ]
    }
   ],
   "source": [
    "class TopicGenerator(BaseModule):\n",
    "    \n",
    "    def __init__(self, topic, out_path):\n",
    "        super(TopicGenerator, self).__init__(topic, out_path)\n",
    "        \n",
    "    def process_data(self, date):\n",
    "        \n",
    "        indexed_cluster = es.keywordGetter(date)\n",
    "        if indexed_cluster != False:\n",
    "            return indexed_cluster\n",
    "        else:\n",
    "            qbody = es.ScouterHandler.make_date_query_body(date,(\"news_id\",\"extContent\",\"analyzed_text\",\"analyzed_text.sentence.WSD.text\",\n",
    "                                                                 \"analyzed_text.sentence.WSD.type\",\"category\",\"analyzed_title.sentence.WSD.text\",\n",
    "                                                                 \"analyzed_title.sentence.WSD.type\"))\n",
    "            docs  = getDoc.search(qbody,'newspaper')\n",
    "            result = {'date': date,\n",
    "               'doc count': len(docs)}\n",
    "            clus = cl.cluteringDoc(5,0.95,docs)\n",
    "\n",
    "           #centroivalue 용\n",
    "           #ctime, c_result, c_cent_result = clus.runClus()\n",
    "           #for i in c_cent_result:\n",
    "           #    c_doc.append([i])\n",
    "\n",
    "           #whole value 용\n",
    "            ctime, c_result = clus.runClus()\n",
    "            c_doc=list()\n",
    "            for i in range(len(c_result)):\n",
    "                analyzed_doc = list()\n",
    "                for j in c_result[i]:\n",
    "                    analyzed_doc.append(j[2])\n",
    "                c_doc.append(analyzed_doc)\n",
    "\n",
    "            '''analyzed_doc = list()\n",
    "               for j in c_cent_result:\n",
    "                   analyzed_doc.append(j)\n",
    "               c_doc.append(analyzed_doc)'''\n",
    "\n",
    "           #print(1)\n",
    "            for i in range(5):\n",
    "                cluster_uni, cluster_bi, cluster_tri=ng.ngram(c_doc[i])\n",
    "                cluster_uni = cluster_uni.most_common(10)\n",
    "                cluster_bi = cluster_bi.most_common(10)\n",
    "                cluster_tri = cluster_tri.most_common(10)\n",
    "               # a=sorted(cluster_uni.items(), key=lambda t:t[1], reverse=True)\n",
    "               # b=sorted(cluster_bi.items(), key=lambda t:t[1], reverse=True)\n",
    "               # c=sorted(cluster_tri.items(), key=lambda t:t[1], reverse=True)\n",
    "                result['cluster'+str(i+1)+'unigram'] = cluster_uni\n",
    "                result['cluster'+str(i+1)+'bigram'] = cluster_bi\n",
    "                result['cluster'+str(i+1)+'trigram'] = cluster_tri\n",
    "            return result\n",
    "\n",
    "    \n",
    "    "
   ]
  },
  {
   "cell_type": "code",
   "execution_count": 3,
   "metadata": {},
   "outputs": [
    {
     "name": "stdout",
     "output_type": "stream",
     "text": [
      "False\n"
     ]
    }
   ],
   "source": [
    "kc = es.keywordGetter('2019-05-01')\n",
    "print(kc)"
   ]
  },
  {
   "cell_type": "code",
   "execution_count": null,
   "metadata": {},
   "outputs": [],
   "source": []
  }
 ],
 "metadata": {
  "kernelspec": {
   "display_name": "Python 3",
   "language": "python",
   "name": "python3"
  },
  "language_info": {
   "codemirror_mode": {
    "name": "ipython",
    "version": 3
   },
   "file_extension": ".py",
   "mimetype": "text/x-python",
   "name": "python",
   "nbconvert_exporter": "python",
   "pygments_lexer": "ipython3",
   "version": "3.6.8"
  }
 },
 "nbformat": 4,
 "nbformat_minor": 2
}
