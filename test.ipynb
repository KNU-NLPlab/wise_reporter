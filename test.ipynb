{
 "cells": [
  {
   "cell_type": "code",
   "execution_count": 1,
   "metadata": {},
   "outputs": [],
   "source": [
    "from modules.scouter_handler import ScouterHandler\n",
    "from modules.doc_graph_analyzer import DocGraphAnalyzer"
   ]
  },
  {
   "cell_type": "code",
   "execution_count": 2,
   "metadata": {},
   "outputs": [],
   "source": [
    "keyword = \"다스 대통령\"\n",
    "\n",
    "min_rel_score = 2.0\n",
    "max_length = 3000"
   ]
  },
  {
   "cell_type": "code",
   "execution_count": 3,
   "metadata": {},
   "outputs": [],
   "source": [
    "scouter = ScouterHandler(size=1000)"
   ]
  },
  {
   "cell_type": "code",
   "execution_count": 4,
   "metadata": {
    "scrolled": true
   },
   "outputs": [
    {
     "name": "stdout",
     "output_type": "stream",
     "text": [
      "Query : 다스 대통령\n",
      "Scroll idx : 1 (214 docs)\n",
      "Trim lower 70% of docs (64 docs are cut)\n",
      "Total retrieved Doc # :  149\n",
      "\n"
     ]
    }
   ],
   "source": [
    "query_body = scouter.make_keyword_query_body(keyword, filters=['news_id', 'node', 'edge', 'extContent'])\n",
    "doc_info_list = scouter.search(query_body, data_type=\"graphs\", trim_lower=True)"
   ]
  },
  {
   "cell_type": "code",
   "execution_count": 5,
   "metadata": {},
   "outputs": [
    {
     "data": {
      "text/plain": [
       "149"
      ]
     },
     "execution_count": 5,
     "metadata": {},
     "output_type": "execute_result"
    }
   ],
   "source": [
    "doc_info_list = [d for d in doc_info_list if d['rel_score'] > min_rel_score and len(d['extContent']) < max_length]\n",
    "num_doc = len(doc_info_list)\n",
    "num_doc"
   ]
  },
  {
   "cell_type": "code",
   "execution_count": 6,
   "metadata": {},
   "outputs": [
    {
     "name": "stdout",
     "output_type": "stream",
     "text": [
      "Doc #  : 149\n",
      "Node # : 1135\n",
      "Edge # : 32525\n",
      "\n",
      "Community 0 :  153 Keyword, (회장/도곡동/진술/이상/매각)\n",
      "Community 1 :  152 Keyword, (구속/영장/재산/증거/지난)\n",
      "Community 2 :   76 Keyword, (범죄/검사/박근혜/통보/신분)\n",
      "Community 3 :  236 Keyword, (사실/관계/입장/전직/고려)\n",
      "Community 4 :  108 Keyword, (소송/뇌물/수수/국정원/사건)\n",
      "Community 5 :   70 Keyword, (정부/위원/측근/대학/천신일)\n",
      "Community 6 :  177 Keyword, (의원/불법/대표/인사/공천)\n",
      "Community 8 :  146 Keyword, (과정/청와대/기록/압수/당시)\n",
      "\n"
     ]
    }
   ],
   "source": [
    "doc_graph_anal = DocGraphAnalyzer(keyword)\n",
    "doc_graph_anal.process_data(doc_info_list, top_doc_num=5, top_keyword_num=5)"
   ]
  },
  {
   "cell_type": "code",
   "execution_count": 7,
   "metadata": {
    "scrolled": true
   },
   "outputs": [],
   "source": [
    "top_doc_id_query_list = [scouter.make_doc_id_query_body(top_doc_ids, filters=[\"news_id\", \"newsTitle\", \"extContent\"])\n",
    "                         for top_doc_ids in doc_graph_anal.top_doc_id_list]\n",
    "top_doc_info_list = [scouter.search(doc_id_query, data_type='newspaper', trim_lower=False, silence=True)\n",
    "                     for doc_id_query in top_doc_id_query_list]"
   ]
  },
  {
   "cell_type": "code",
   "execution_count": 8,
   "metadata": {},
   "outputs": [
    {
     "data": {
      "text/plain": [
       "{'newsTitle': 'MB 큰형  이상은 회장  다스 일부 이명박 것',\n",
       " 'extContent': '이명박 전 대통령의 큰형인 이상은(84) 다스 회장이 1일 검찰에 출석해 이 전 대통령이 다스의 일정 지분을 보유하고 있다고 진술한 것으로 알려졌다. 이상은 회장은 이 전 대통령이 다스 실소유주라는 의혹을 밝힐 핵심 인물이다. 1일 JTBC에 따르면 이 회장은 검찰 조사에서  내가 보유하고 있는 지분 중 일부가 이 전 대통령의 것 이라며  도곡동 땅을 팔고 남은 돈으로 구입한 지분 이라고 밝혔다. JTBC는  갑작스런 이 회장의 진술 변화에 검찰 측은 이 전 대통령의 전략이 아니냐는 의심을 하고 있다 며  도곡동 땅이 차명 재산이라는 것이 드러나 전략을 수정한 것으로 보고 있다. 다스는 이 전 대통령과 무관하다는 주장에서 관련은 있으나 가족이 경영하는 회사라고 한발 물러난 것으로 보인다 고 전했다. 서울중앙지검 첨단범죄수사1부(신봉수 부장검사)는 이날 이 회장을 참고인 신분으로 비공개 소환해 도곡동 땅 매각대금 사용처와 다스의 비자금 조성 및 일감 몰아주기 의혹 등 다스 관련 각종 의혹을 조사하고 있다. 자동차 부품업체인 다스는 서류상 이 회장이 소유하고 있지만 이 전 대통령이 실소유주라는 의혹이 제기돼 왔다. 검찰은 이 전 대통령이 다스 보유지분이 없는데도 아들 이시형 다스 전무와 함께 다스 이익을 취한 단서를 확보하고 이 회장을 상대로 사실관계를 조사한 것으로 알려졌다. 검찰은 또 이 전무가 이상은 회장의 도곡동 땅 매각 자금 150억원 중 10억원 이상을 가져간 의혹에 대해서도 구체적인 배경을 추궁한 것으로 전해졌다. 이 회장과 이 전 대통령 처남인 고(故) 김재정씨는 1985년 현대건설 등으로부터 도곡동 땅을 15억6000만원에 사들였다. 이후 10년 뒤인 1995년 포스코개발(현 포스코건설)에 263억원에 매각했다. 검찰은 매각 자금 중 이 회장 몫이 이 전무나 이 전 대통령 측에 흘러들어 간 정황을 파악, 땅의 실제 주인을 이 전 대통령으로 의심하고 있다. 2007년 관련 사건을 수사한 검찰도 이 부분에 주목했지만 김씨의 지분은 본인 것이고 이 회장의 지분은  제3자의 것 으로 보인다는 결론을 냈다. 이어 수사를 벌인 정호영 특검 역시 도곡동 땅을 이 전 대통령이 소유한 것으로 볼 증거가 없다고 판단했다.',\n",
       " 'news_id': 818,\n",
       " 'rel_score': 1.0}"
      ]
     },
     "execution_count": 8,
     "metadata": {},
     "output_type": "execute_result"
    }
   ],
   "source": [
    "top_doc_info_list[0][0]"
   ]
  },
  {
   "cell_type": "code",
   "execution_count": 9,
   "metadata": {},
   "outputs": [
    {
     "name": "stdout",
     "output_type": "stream",
     "text": [
      "Viz Node # :  364\n",
      "Viz Edge # :  7257\n"
     ]
    }
   ],
   "source": [
    "doc_graph_anal.generate_json(top_doc_info_list)"
   ]
  },
  {
   "cell_type": "code",
   "execution_count": null,
   "metadata": {},
   "outputs": [],
   "source": []
  }
 ],
 "metadata": {
  "kernelspec": {
   "display_name": "Python 3",
   "language": "python",
   "name": "python3"
  },
  "language_info": {
   "codemirror_mode": {
    "name": "ipython",
    "version": 3
   },
   "file_extension": ".py",
   "mimetype": "text/x-python",
   "name": "python",
   "nbconvert_exporter": "python",
   "pygments_lexer": "ipython3",
   "version": "3.6.7"
  }
 },
 "nbformat": 4,
 "nbformat_minor": 2
}
