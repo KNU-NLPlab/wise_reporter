{
 "cells": [
  {
   "cell_type": "markdown",
   "metadata": {},
   "source": [
    "# 데이터 받아오기"
   ]
  },
  {
   "cell_type": "code",
   "execution_count": 1,
   "metadata": {},
   "outputs": [],
   "source": [
    "from modules.scouter_handler import ScouterHandler\n",
    "from modules.doc_graph_analyzer import DocGraphAnalyzer\n",
    "import numpy as np"
   ]
  },
  {
   "cell_type": "code",
   "execution_count": 2,
   "metadata": {},
   "outputs": [],
   "source": [
    "keyword = \"대통령\"\n",
    "\n",
    "min_rel_score = 2.0\n",
    "max_length = 3000"
   ]
  },
  {
   "cell_type": "code",
   "execution_count": 3,
   "metadata": {},
   "outputs": [],
   "source": [
    "scouter = ScouterHandler(size=500)"
   ]
  },
  {
   "cell_type": "code",
   "execution_count": 4,
   "metadata": {
    "scrolled": true
   },
   "outputs": [
    {
     "name": "stdout",
     "output_type": "stream",
     "text": [
      "Query : 대통령\n",
      "Scroll idx : 1 (500 docs)\n",
      "Scroll idx : 2 (500 docs)\n",
      "Scroll idx : 3 (500 docs)\n",
      "Scroll idx : 4 (500 docs)\n",
      "Scroll idx : 5 (500 docs)\n",
      "Scroll idx : 6 (500 docs)\n",
      "Scroll idx : 7 (500 docs)\n",
      "Scroll idx : 8 (475 docs)\n",
      "Trim lower 70% of docs (1192 docs are cut)\n",
      "Total retrieved Doc # :  2782\n",
      "\n"
     ]
    }
   ],
   "source": [
    "query_body = scouter.make_keyword_query_body(keyword, filters=['news_id', 'node', 'edge', 'extContent'])\n",
    "doc_info_list = scouter.search(query_body, data_type=\"graphs\", trim_lower=True)"
   ]
  },
  {
   "cell_type": "code",
   "execution_count": 5,
   "metadata": {},
   "outputs": [
    {
     "data": {
      "text/plain": [
       "2761"
      ]
     },
     "execution_count": 5,
     "metadata": {},
     "output_type": "execute_result"
    }
   ],
   "source": [
    "doc_info_list = [d for d in doc_info_list if d['rel_score'] > min_rel_score and len(d['extContent']) < max_length]\n",
    "num_doc = len(doc_info_list)\n",
    "num_doc"
   ]
  },
  {
   "cell_type": "code",
   "execution_count": 6,
   "metadata": {},
   "outputs": [],
   "source": [
    "doc_temp_id_list = {doc_info['news_id']:i for i, doc_info in enumerate(doc_info_list)}"
   ]
  },
  {
   "cell_type": "markdown",
   "metadata": {},
   "source": [
    "# 문서 클러스터링"
   ]
  },
  {
   "cell_type": "code",
   "execution_count": 48,
   "metadata": {
    "scrolled": true
   },
   "outputs": [
    {
     "name": "stdout",
     "output_type": "stream",
     "text": [
      "Doc #  : 2761\n",
      "Node # : 1669\n",
      "Edge # : 330990\n",
      "\n",
      "[0] Community 0/0 :   76 Keyword, (검찰/조사/소환/수사/이명박), len_topdocs : 128, topdoc 5 : [41941, 103736, 104651, 54836, 88720]\n",
      "[1] Community 0/1 :  104 Keyword, (혐의/구속/특수/사건/서울중앙), len_topdocs : 179, topdoc 5 : [55358, 55010, 62101, 20741, 44677]\n",
      "[2] Community 0/2 :   77 Keyword, (의원/자금/의혹/회장/불법), len_topdocs : 15, topdoc 5 : [38032, 104586, 105136, 36953, 56363]\n",
      "[3] Community 0/3 :  123 Keyword, (다스/관련/소유/자신/사실), len_topdocs : 167, topdoc 5 : [95109, 6673, 27075, 26549, 14858]\n",
      "[4] Community 1/0 :  106 Keyword, (실장/국가/안보/특사/상황), len_topdocs : 53, topdoc 5 : [26199, 24229, 58903, 27043, 37765]\n",
      "[6] Community 1/2 :  120 Keyword, (미국/트럼프/한국/시간/도널드), len_topdocs : 154, topdoc 5 : [91641, 23372, 39969, 40233, 17979]\n",
      "[9] Community 1/5 :  174 Keyword, (대화/관계/남북/정상/회담), len_topdocs : 902, topdoc 5 : [37631, 27414, 55801, 95797, 24059]\n",
      "[11] Community 2/2 :   54 Keyword, (대표/청와대/이날/문재/참석), len_topdocs : 1, topdoc 5 : [94986]\n",
      "[12] Community 3/0 :   79 Keyword, (국민/국회/개헌/헌법/의견), len_topdocs : 1, topdoc 5 : [44287]\n",
      "[13] Community 3/1 :   70 Keyword, (주장/국방/센터/인권/논의), len_topdocs : 20, topdoc 5 : [84265, 95545, 77737, 77439, 77628]\n",
      "[14] Community 3/2 :  131 Keyword, (운동/시민/사회/기념/대한민국), len_topdocs : 167, topdoc 5 : [70463, 70840, 16144, 997, 88277]\n",
      "[15] Community 3/3 :  104 Keyword, (선거/후보/정치/지사/민주당), len_topdocs : 123, topdoc 5 : [78439, 7789, 96177, 7196, 95865]\n",
      "[17] Community 3/5 :  210 Keyword, (정부/정책/경제/기업/지원), len_topdocs : 851, topdoc 5 : [91391, 7803, 1207, 104961, 57509]\n",
      "\n"
     ]
    }
   ],
   "source": [
    "## modified by sspark ##\n",
    "doc_graph_anal = DocGraphAnalyzer(keyword, df_bound=(0.01, 0.80))\n",
    "doc_graph_anal.extract_subtopic_info(doc_info_list, top_doc_num=5, top_keyword_num=5, hierarchy=True, cutting_level=2)\n",
    "## modified by sspark ##"
   ]
  },
  {
   "cell_type": "markdown",
   "metadata": {},
   "source": [
    "# 결과 분석"
   ]
  },
  {
   "cell_type": "code",
   "execution_count": 46,
   "metadata": {},
   "outputs": [],
   "source": [
    "chosen_docidx = 84627"
   ]
  },
  {
   "cell_type": "code",
   "execution_count": 47,
   "metadata": {},
   "outputs": [
    {
     "name": "stdout",
     "output_type": "stream",
     "text": [
      "1799 울산시교육청이 민원서비스 평가에서 대통령 표창을 받는 것은 처음이며, 2016년 시도교육청 가운데 3위(S등급)로 선정된 바 있다. 행정안전부와 국민권익위원회가 주관하는 이 평가는 2013년부터 시작됐다. 시도교육청(17개), 중앙행정기관(42개), 광역지자체(17개), 기초지자체(226개) 등 총 302개 기관이 대상인데, 이번에 기초지자체까지 확대됐다. 평가 내용은 민원만족도 향상, 민원답변 충실도, 민원행정 전략과 수행체계, 민원제도 운용, 고객만족도 향상과 민원서비스 개선 정도를 평가한다. 울산교육청은 이번 평가에서 학생인권 민원, 자사고의 일반고 전환 민원, 공동주택 학교신설 민원 등 다양하고 열악한 여건에서 우수한 성과를 달성해 좋은 점수를 얻은 것으로 분석했다. 이는 전 직원이 교육수요자인 학생, 학부모, 교직원을 위하는 마음으로 적극적인 업무자세와 관심으로 최상의 민원서비스에 나선 결과라고 교육청은 설명했다. 울산교육청은 매월 기관장이 민원처리 현황을 파악하고, 다양한 교육수요자 민원만족도 향상을 위해 신속하게 답변하고, 전화 방문하며 민원인과 소통했다. 이 밖에 민원사전 예약제 홈페이지 기능 운영, 민원처리 우수공무원 선진지 견학과 포상 등 직원 사기진작 등을 위해 노력했다. 교육청 관계자는  최고의 만족, 우선 공감, 수요자 중심의 교육민원 서비스 제공을 위해 민원인 입장에서 불편함을 개선하고 민원인의 이해와 공감을 얻는 서비스를 하도록 노력할 것 이라고 밝혔다.\n"
     ]
    }
   ],
   "source": [
    "print(doc_temp_id_list[chosen_docidx], doc_info_list[doc_temp_id_list[chosen_docidx]]['extContent'])"
   ]
  },
  {
   "cell_type": "code",
   "execution_count": 32,
   "metadata": {},
   "outputs": [],
   "source": [
    "def softmax(x):\n",
    "    \"\"\"Compute softmax values for each sets of scores in x.\"\"\"\n",
    "    e_x = np.exp(x - np.max(x, axis=1).reshape(x.shape[0], 1))\n",
    "    return e_x / e_x.sum(axis=1).reshape(x.shape[0], 1)\n",
    "    \n",
    "a = softmax(doc_graph_anal.relevance_obj.np_docsNsubtopic_rel)\n",
    "a = doc_graph_anal.relevance_obj.np_docsNsubtopic_rel"
   ]
  },
  {
   "cell_type": "code",
   "execution_count": 36,
   "metadata": {},
   "outputs": [
    {
     "data": {
      "text/plain": [
       "array([0.32181846, 0.        , 0.0687883 , 0.02607333, 0.        ,\n",
       "       0.00178828, 0.0265625 , 0.02903192, 0.02319298, 0.00729561,\n",
       "       0.        , 0.        , 0.00112241, 0.0584558 , 0.02102312,\n",
       "       0.        , 0.        , 0.00895469, 0.10336268, 0.02076594,\n",
       "       0.        , 0.16906906, 0.        , 0.00376755, 0.00764999,\n",
       "       0.03568645, 0.        , 0.        , 0.        , 0.        ,\n",
       "       0.04980739, 0.        , 0.        , 0.0079352 , 0.        ,\n",
       "       0.00378759, 0.00406075, 0.        , 0.        ])"
      ]
     },
     "execution_count": 36,
     "metadata": {},
     "output_type": "execute_result"
    }
   ],
   "source": [
    "a[doc_temp_id_list[chosen_docidx]] / sum(a[doc_temp_id_list[chosen_docidx]])"
   ]
  },
  {
   "cell_type": "markdown",
   "metadata": {},
   "source": [
    "# Keywords"
   ]
  },
  {
   "cell_type": "code",
   "execution_count": 15,
   "metadata": {},
   "outputs": [
    {
     "name": "stdout",
     "output_type": "stream",
     "text": [
      "대표\t청와대\t이날\t문재\t이후\t참석\t비서\t회동\t\n",
      "여야\t수석\t오늘\t처음\t차례\t비판\t미투\t취임\t\n",
      "오찬\t모습\t임종석\t정무\t농담\t논평\t거부\t민정\t\n",
      "모두\t북콘서트\t당사\t불참\t간담\t한병\t영수\t여의도\t\n",
      "결심\t마찬가지\t기도\t본관\t정동기\t세상\t고통\t상춘\t\n",
      "등장\t부탁\t장하성\t강훈\t환담\t장제원\t무사\t눈길\t\n",
      "거절\t진짜\t김현\t반문\t화제\t신년\t\n"
     ]
    }
   ],
   "source": [
    "comm_index = 11\n",
    "blank_size = 8\n",
    "for i in range(0, len(doc_graph_anal.docgraph_obj.list_subgraph[comm_index].vs['label']), blank_size):\n",
    "    for j in doc_graph_anal.docgraph_obj.list_subgraph[comm_index].vs['label'][i:i+blank_size]:\n",
    "        print(doc_graph_anal.raw_doc_obj.idx2keyword[j], end=\"\\t\")\n",
    "    print()"
   ]
  },
  {
   "cell_type": "markdown",
   "metadata": {},
   "source": [
    "# Scouter를 사용한 결과 분석"
   ]
  },
  {
   "cell_type": "code",
   "execution_count": null,
   "metadata": {},
   "outputs": [],
   "source": []
  },
  {
   "cell_type": "code",
   "execution_count": null,
   "metadata": {
    "scrolled": true
   },
   "outputs": [],
   "source": [
    "top_doc_id_query_list = [scouter.make_doc_id_query_body(top_doc_ids, filters=[\"news_id\", \"newsTitle\", \"extContent\"])\n",
    "                         for top_doc_ids in doc_graph_anal.top_doc_id_list]\n",
    "top_doc_info_list = [scouter.search(doc_id_query, data_type='newspaper', trim_lower=False, silence=True)\n",
    "                     for doc_id_query in top_doc_id_query_list]"
   ]
  }
 ],
 "metadata": {
  "kernelspec": {
   "display_name": "Python 3",
   "language": "python",
   "name": "python3"
  },
  "language_info": {
   "codemirror_mode": {
    "name": "ipython",
    "version": 3
   },
   "file_extension": ".py",
   "mimetype": "text/x-python",
   "name": "python",
   "nbconvert_exporter": "python",
   "pygments_lexer": "ipython3",
   "version": "3.6.5"
  }
 },
 "nbformat": 4,
 "nbformat_minor": 2
}
