{
 "cells": [
  {
   "cell_type": "markdown",
   "metadata": {},
   "source": [
    "# 데이터 받아오기"
   ]
  },
  {
   "cell_type": "code",
   "execution_count": 1,
   "metadata": {},
   "outputs": [],
   "source": [
    "from modules.scouter_handler import ScouterHandler\n",
    "from modules.doc_graph_analyzer import DocGraphAnalyzer\n",
    "import numpy as np"
   ]
  },
  {
   "cell_type": "code",
   "execution_count": 2,
   "metadata": {},
   "outputs": [],
   "source": [
    "keyword = \"대통령\"\n",
    "\n",
    "min_rel_score = 2.0\n",
    "max_length = 3000"
   ]
  },
  {
   "cell_type": "code",
   "execution_count": 3,
   "metadata": {},
   "outputs": [],
   "source": [
    "scouter = ScouterHandler(size=500)"
   ]
  },
  {
   "cell_type": "code",
   "execution_count": 4,
   "metadata": {
    "scrolled": true
   },
   "outputs": [
    {
     "name": "stdout",
     "output_type": "stream",
     "text": [
      "Query : 대통령\n",
      "Scroll idx : 1 (500 docs)\n",
      "Scroll idx : 2 (500 docs)\n",
      "Scroll idx : 3 (500 docs)\n",
      "Scroll idx : 4 (500 docs)\n",
      "Scroll idx : 5 (500 docs)\n",
      "Scroll idx : 6 (500 docs)\n",
      "Scroll idx : 7 (500 docs)\n",
      "Scroll idx : 8 (475 docs)\n",
      "Trim lower 70% of docs (1192 docs are cut)\n",
      "Total retrieved Doc # :  2782\n",
      "\n"
     ]
    }
   ],
   "source": [
    "query_body = scouter.make_keyword_query_body(keyword, filters=['news_id', 'node', 'edge', 'extContent'])\n",
    "doc_info_list = scouter.search(query_body, data_type=\"graphs\", trim_lower=True)"
   ]
  },
  {
   "cell_type": "code",
   "execution_count": 5,
   "metadata": {},
   "outputs": [
    {
     "data": {
      "text/plain": [
       "2761"
      ]
     },
     "execution_count": 5,
     "metadata": {},
     "output_type": "execute_result"
    }
   ],
   "source": [
    "doc_info_list = [d for d in doc_info_list if d['rel_score'] > min_rel_score and len(d['extContent']) < max_length]\n",
    "num_doc = len(doc_info_list)\n",
    "num_doc"
   ]
  },
  {
   "cell_type": "code",
   "execution_count": 6,
   "metadata": {},
   "outputs": [],
   "source": [
    "doc_temp_id_list = {doc_info['news_id']:i for i, doc_info in enumerate(doc_info_list)}"
   ]
  },
  {
   "cell_type": "markdown",
   "metadata": {},
   "source": [
    "# 문서 클러스터링"
   ]
  },
  {
   "cell_type": "code",
   "execution_count": 7,
   "metadata": {
    "scrolled": true
   },
   "outputs": [
    {
     "name": "stdout",
     "output_type": "stream",
     "text": [
      "Doc #  : 2761\n",
      "Node # : 1669\n",
      "Edge # : 330990\n",
      "\n",
      "Community 0 :  399 Keywords, (검찰/수사/조사/관련/혐의/의혹/의원/이명박/자금/소환)\n",
      "\tCommunity 0/0 :   76 Keywords, (검찰/조사/소환/수사/이명박/통보/진행/피의/출석/필요)\n",
      "\t\tLeaf Community 0/0/2 :   35 Keywords, (검찰/조사/소환/이명박/수사/통보/관측/처리/착수/방침) top5 documents, ([67713, 61306, 19152, 22675, 22745])\n",
      "\tCommunity 0/1 :  104 Keywords, (혐의/구속/특수/사건/서울중앙/뇌물/부장/재판/오전/활동)\n",
      "\t\tLeaf Community 0/1/1 :   42 Keywords, (구속/재판/사건/기소/징역/법원/선고/영장/농단/비리) top5 documents, ([93253, 75475, 96054, 24075, 71909])\n",
      "\t\tLeaf Community 0/1/3 :   28 Keywords, (지검/서울중앙/부장/특수/검사/오전/송경호/증거/범죄/첨단) top5 documents, ([42282, 42054, 44394, 71909, 60174])\n",
      "\tCommunity 0/2 :   77 Keywords, (의원/자금/의혹/회장/불법/과정/대선/금품/이상득/수수)\n",
      "\t\tLeaf Community 0/2/0 :   20 Keywords, (자금/의혹/대선/불법/과정/수수/역할/관여/민간/핵심) top5 documents, ([26660, 36965, 37323, 38032, 37398])\n",
      "\t\tLeaf Community 0/2/1 :   23 Keywords, (회장/금융/이팔성/지주/금품/이상득/인사/명목/측근/전달) top5 documents, ([44345, 44519, 55392, 90146, 90150])\n",
      "\t\tLeaf Community 0/2/2 :   25 Keywords, (공천/헌금/의심/김소남/정황/제공/포착/대보그룹/비례/대보) top5 documents, ([37073, 71604, 72062, 61807, 90146])\n",
      "\tCommunity 0/3 :  123 Keywords, (다스/관련/소유/자신/사실/관리/확인/회사/재산/차명)\n",
      "\t\tLeaf Community 0/3/1 :   25 Keywords, (관련/확인/조성/사실/사용/부분/판단/개인/파악/조직) top5 documents, ([95875, 77904, 24050, 24314, 27214])\n",
      "\t\tLeaf Community 0/3/3 :   37 Keywords, (다스/소유/이상/지분/보유/상태/진술/도곡동/매각/결론) top5 documents, ([818, 8506, 16821, 3055, 848])\n",
      "Community 1 :  531 Keywords, (북한/미국/관계/위원/국가/트럼프/특사/가능/안보/문제)\n",
      "\tCommunity 1/0 :  106 Keywords, (실장/국가/안보/특사/상황/방북/장관/대북/원장/내용)\n",
      "\t\tLeaf Community 1/0/1 :   36 Keywords, (특사/방북/설명/방문/대북/고위/결과/일정/조율/공개) top5 documents, ([24052, 76904, 77544, 106578, 27475])\n",
      "\t\tLeaf Community 1/0/2 :   22 Keywords, (원장/정보/국정/통일/상황/장관/포함/서훈/실무/구성) top5 documents, ([18164, 18627, 27539, 18609, 24206])\n",
      "\t\tLeaf Community 1/0/3 :   20 Keywords, (오후/평양/공항/공군/순안/이용/호기/특별/도착/출발) top5 documents, ([37631, 45373, 27413, 26971, 24246])\n",
      "\tCommunity 1/1 :   62 Keywords, (위원/북한/김정/노동/올림픽/중앙/평창/최고/위원장/김정은)\n",
      "\t\tLeaf Community 1/1/0 :   20 Keywords, (위원/북한/김정/김정은/노동/최고/친서/노동당/만찬/조선) top5 documents, ([60543, 45445, 44151, 54438, 43401])\n",
      "\t\tLeaf Community 1/1/2 :   23 Keywords, (올림픽/평창/동계/계기/개막/폐막/선수/겨울/이방카/개회) top5 documents, ([93043, 6741, 13787, 11188, 6718])\n",
      "\tCommunity 1/2 :  120 Keywords, (미국/트럼프/한국/시간/도널드/백악관/관세/보도/현지/무역)\n",
      "\t\tLeaf Community 1/2/0 :   46 Keywords, (미국/트럼프/도널드/시간/보도/현지/백악관/언론/만남/소식) top5 documents, ([106146, 95741, 106411, 106462, 23373])\n",
      "\t\tLeaf Community 1/2/1 :   23 Keywords, (발표/한국/장소/공식/결정/대응/조언/요청/말씀/관료) top5 documents, ([106411, 106146, 95742, 106451, 106157])\n",
      "\t\tLeaf Community 1/2/2 :   31 Keywords, (관세/무역/철강/부과/조치/알루미늄/수입/캐나다/면제/멕시코) top5 documents, ([81313, 99861, 98876, 98709, 106242])\n",
      "\t\tLeaf Community 1/2/3 :   20 Keywords, (나라/러시아/제목/비난/외무/차단/이란/독일/우리/공격) top5 documents, ([25782, 18610, 17803, 18003, 57594])\n",
      "\tCommunity 1/3 :   39 Keywords, (외교/한미/연합/훈련/군사/발언/특보/최근/워싱턴/문정인)\n",
      "\tCommunity 1/4 :   30 Keywords, (실험/미사일/중단/발사/탄도/동안/완성/카드/전략/폐기)\n",
      "\tCommunity 1/5 :  174 Keywords, (대화/관계/남북/정상/회담/문제/가능/이번/한반도/강조)\n",
      "\t\tLeaf Community 1/5/0 :   20 Keywords, (남북/회담/정상/합의/준비/시기/제안/판문점/돌입/개최) top5 documents, ([78685, 60933, 60882, 61652, 108118])\n",
      "\t\tLeaf Community 1/5/2 :   59 Keywords, (한반도/면서/문제/대변/강조/언급/해결/중국/추진/협상) top5 documents, ([73920, 74266, 73828, 73943, 73903])\n",
      "\t\tLeaf Community 1/5/3 :   40 Keywords, (대화/가능/북미/의지/성사/분석/긍정/표명/분위기/예상) top5 documents, ([60933, 60882, 6718, 45445, 6719])\n",
      "\t\tLeaf Community 1/5/4 :   20 Keywords, (행동/국제/유지/최대/제재/압박/포기/선택/테이블/충돌) top5 documents, ([94911, 94873, 107179, 106451, 106157])\n",
      "\t\tLeaf Community 1/5/5 :   29 Keywords, (관계/이번/입장/협의/생각/중요/시작/사안/당부/현안) top5 documents, ([60839, 23482, 25170, 61202, 59140])\n",
      "Community 2 :  101 Keywords, (대표/이날/청와대/문재/참석/자유/한국당/평화/민주/비서)\n",
      "\tCommunity 2/0 :   31 Keywords, (민주/평화/자유/바른미래당/공동/불어민주당/한국당/정의/국민의/홍준표)\n",
      "\tCommunity 2/2 :   54 Keywords, (대표/청와대/이날/문재/참석/비서/수석/이후/회동/미투)\n",
      "Community 3 :  638 Keywords, (정부/지난/국민/당시/정치/선거/국회/주장/서울/후보)\n",
      "\tCommunity 3/0 :   79 Keywords, (국민/국회/개헌/헌법/의견/권력/권한/총리/마련/특위)\n",
      "\t\tLeaf Community 3/0/0 :   28 Keywords, (국회/총리/권한/의장/현실/중임/임명/분산/공감/동의) top5 documents, ([61460, 78665, 59696, 61718, 61569])\n",
      "\t\tLeaf Community 3/0/2 :   27 Keywords, (국민/개헌/마련/주도/특위/반대/의견/발의/투표/자문) top5 documents, ([94155, 61718, 19161, 19082, 6911])\n",
      "\tCommunity 3/1 :   70 Keywords, (주장/국방/센터/인권/논의/당시/탄핵/회의/위수/참모)\n",
      "\t\tLeaf Community 3/1/2 :   21 Keywords, (논의/회의/참모/수도/방위/주재/사태/사령/발생/무력) top5 documents, ([95545, 94845, 94825, 94866, 94889])\n",
      "\t\tLeaf Community 3/1/3 :   36 Keywords, (주장/국방/센터/위수/인권/당시/검토/투입/정국/폐지) top5 documents, ([77940, 88750, 88693, 88883, 78300])\n",
      "\tCommunity 3/2 :  131 Keywords, (운동/시민/사회/기념/대한민국/행사/역사/독립/문화/사진)\n",
      "\t\tLeaf Community 3/2/0 :   33 Keywords, (독립/행사/광복/운동/수여/학생/정신/후손/일제/졸업) top5 documents, ([43825, 54944, 41453, 43764, 41646])\n",
      "\t\tLeaf Community 3/2/2 :   31 Keywords, (사진/박정희/요구/보수/적폐/청산/행위/정권/자체/교체) top5 documents, ([89591, 61173, 60916, 60928, 72275])\n",
      "\t\tLeaf Community 3/2/3 :   26 Keywords, (집회/태극/참가/본부/촛불/문화/회관/회원/석방/경찰) top5 documents, ([107884, 16144, 3103, 3111, 15820])\n",
      "\t\tLeaf Community 3/2/4 :   27 Keywords, (대한민국/사회/주의/의식/여성/가족/극복/갈등/바람/각계) top5 documents, ([107956, 107576, 107561, 59582, 107946])\n",
      "\tCommunity 3/3 :  104 Keywords, (선거/후보/정치/지사/민주당/시장/충남/지방/안희정/출마)\n",
      "\t\tLeaf Community 3/3/0 :   28 Keywords, (선거/정치/지방/민주당/논란/경우/여권/정계/대결/여당) top5 documents, ([41984, 76116, 18875, 27569, 76606])\n",
      "\t\tLeaf Community 3/3/1 :   26 Keywords, (지사/안희정/충남/폭행/피해/폭력/폭로/가해/충격/시도) top5 documents, ([58661, 77796, 78285, 41653, 44321])\n",
      "\t\tLeaf Community 3/3/2 :   23 Keywords, (시장/출마/부산/선언/경남/충북/광주/경기/대전/광역) top5 documents, ([18875, 18295, 24537, 18792, 42983])\n",
      "\t\tLeaf Community 3/3/3 :   22 Keywords, (후보/당선/가운데/확정/유력/주자/캠프/경선/예비/노무현) top5 documents, ([95415, 26421, 58661, 44162, 18792])\n",
      "\tCommunity 3/4 :   44 Keywords, (지지/평가/지난/상승/수행/대상/직무/부정/지적/여론)\n",
      "\tCommunity 3/5 :  210 Keywords, (정부/정책/경제/기업/지원/지역/기관/자리/사업/발전)\n",
      "\t\tLeaf Community 3/5/0 :   33 Keywords, (출신/대학/신임/이사/국내/교수/전문/연구/선임/연수) top5 documents, ([79188, 45480, 45975, 28086, 64252])\n",
      "\t\tLeaf Community 3/5/1 :   49 Keywords, (기업/지원/중소/사업/산업/기술/성장/개발/스마트/구축) top5 documents, ([48029, 92230, 83369, 48701, 92229])\n",
      "\t\tLeaf Community 3/5/2 :   26 Keywords, (기관/해외/분야/운영/올해/교육/공공/공무/다양/감사) top5 documents, ([98221, 98232, 60617, 61350, 66158])\n",
      "\t\tLeaf Community 3/5/4 :   58 Keywords, (정부/정책/지역/경제/행정/발전/주요/도시/자치/주민) top5 documents, ([34455, 44505, 61089, 69613, 60782])\n",
      "\t\tLeaf Community 3/5/5 :   25 Keywords, (장애/모범/표창/수상/교통/성실/선정/대중/체육/환경) top5 documents, ([54458, 32640, 37837, 32765, 32784])\n"
     ]
    }
   ],
   "source": [
    "# It is implemented to add hierarchical clustering, document-node clustering, soft-clustering \n",
    "doc_graph_anal = DocGraphAnalyzer(keyword, df_bound=(0.01, 0.80))\n",
    "doc_graph_anal.extract_subtopic_info(doc_info_list, top_doc_num=5, top_keyword_num=10,\n",
    "                                     hierarchy=True, cutting_level=3)"
   ]
  },
  {
   "cell_type": "markdown",
   "metadata": {},
   "source": [
    "# json 파일 저장\n",
    "* 결과 Dictionary\n",
    "\t- key(depth val) : Hierarchical clustering에서 계층 구조의 depth (예, 0 또는 0/1)\n",
    "\t- value : dictionary\n",
    "\t\t\t- key('Keywords') = 해당 depth 클러스터의 top 키워드 10\n",
    "\t\t\t- key('documents') = 해당 depth 클러스터의 관련도로 랭킹된 문서 인덱스\n",
    "\t\t\t- key('docs_rel') = 해당 depth 클러스터의 관련도로 랭킹된 문서의 관련도 값\n",
    "\t\t\t- key('volume') = 해당 depth 클러스터의 키워드 개수\n",
    "\t\t\t"
   ]
  },
  {
   "cell_type": "code",
   "execution_count": 9,
   "metadata": {},
   "outputs": [],
   "source": [
    "doc_graph_anal.save_result_tojson(json_path='output.json')"
   ]
  },
  {
   "cell_type": "markdown",
   "metadata": {},
   "source": [
    "# 결과 분석"
   ]
  },
  {
   "cell_type": "code",
   "execution_count": 11,
   "metadata": {},
   "outputs": [
    {
     "name": "stdout",
     "output_type": "stream",
     "text": [
      "성달표  현대통상 회장이 5일 열린 제52회 납세자의 날 기념식에서  아름다운 납세자상 을 수상했다. 성 회장은 지난 2003년 현대모비스 부품지원센터인  현대통상과 현대모비스 협력업체인  에스더블유,  에스에이엠,  에스디피 등을 경영해 오면서 성실한 납세와 지역사회를 위해 기부와 봉사활동을 헌신적으로 해온 사실이 알려지면서 아름다운 납세자상을 수상하게 됐다. 그는 현대모비스 전국부품지원센터협의회 회장과 경산상공회의소 상임의원, 경산시체육회 상임부회장, 대구시양궁협회 부회장, 대구가톨릭경제인회 부회장, 경북대총동창회 부회장 등을 맡아 활발한 사회활동을 하고 있다. 성 회장은 특히 지역경제발전과 일자리 창출에 크게 기여하면서도 경산과 포항, 대구 등지의 여러 장학회와 대학생들에게 인재양성 장학금을, 대학에는 대학발전기금을 전달해 오고 있다. 불우이웃돕기 성금, 체육회 진흥기금, 가톨릭재단 후원금, 장애인후원회 후원금, 매일신문 주최 효 잔치와 호국의 달 감사음악회 후원금 등을 전달하고, 출소자 합동결혼식 후원 등 다양한 형태의 기부와 봉사활동도 꾸준히 실천하고 있다. 성 회장은 이 같은 공로를 인정받아 지난해 12월 민주평통 의장(대통령) 표창, 2009년 제43회 납세자의 날 성실납세자로 뽑혀 대구지방국세청장 표창, 제39회 저축의 날 금융감독원장 표창, 통일부 장관상, 대구시 모범시민상 등 다양한 표창과 상을 받았다. 성 회장은  국가와 사회를 위해 더 훌륭한 일과 기부, 봉사를 하는 분이 많은데 아름다운 납세자상을 수상하게 돼 더없이 영광스럽고 책임감도 느낀다 면서  앞으로도 기업경영을 잘해서 성장시키고, 이익을 사회에 환원하고, 이웃을 위해 봉사하는 삶을 살도록 노력하겠다 고 약속했다.\n"
     ]
    }
   ],
   "source": [
    "chosen_docidx = 54458   \n",
    "print(doc_info_list[doc_temp_id_list[chosen_docidx]]['extContent'])"
   ]
  },
  {
   "cell_type": "code",
   "execution_count": 12,
   "metadata": {},
   "outputs": [
    {
     "data": {
      "text/plain": [
       "array([0.        , 0.        , 0.        , 0.        , 0.01917099,\n",
       "       0.        , 0.01234365, 0.02897733, 0.        , 0.01717492,\n",
       "       0.        , 0.        , 0.        , 0.        , 0.00212684,\n",
       "       0.        , 0.        , 0.        , 0.15750715, 0.        ,\n",
       "       0.        , 0.02976173, 0.02046078, 0.        , 0.00407927,\n",
       "       0.02914638, 0.00615683, 0.        , 0.        , 0.05687838,\n",
       "       0.02290009, 0.        , 0.00326159, 0.        , 0.06016417,\n",
       "       0.16088341, 0.01432683, 0.2156207 , 0.13905898])"
      ]
     },
     "execution_count": 12,
     "metadata": {},
     "output_type": "execute_result"
    }
   ],
   "source": [
    "a = doc_graph_anal.relevance_obj.np_docsNsubtopic_rel\n",
    "a[doc_temp_id_list[chosen_docidx]] / sum(a[doc_temp_id_list[chosen_docidx]])"
   ]
  },
  {
   "cell_type": "markdown",
   "metadata": {},
   "source": [
    "# Scouter를 사용한 결과 분석"
   ]
  },
  {
   "cell_type": "code",
   "execution_count": null,
   "metadata": {
    "scrolled": true
   },
   "outputs": [],
   "source": [
    "top_doc_id_query_list = [scouter.make_doc_id_query_body(top_doc_ids, filters=[\"news_id\", \"newsTitle\", \"extContent\"])\n",
    "                         for top_doc_ids in doc_graph_anal.top_doc_id_list]\n",
    "top_doc_info_list = [scouter.search(doc_id_query, data_type='newspaper', trim_lower=False, silence=True)\n",
    "                     for doc_id_query in top_doc_id_query_list]"
   ]
  }
 ],
 "metadata": {
  "kernelspec": {
   "display_name": "Python 3",
   "language": "python",
   "name": "python3"
  },
  "language_info": {
   "codemirror_mode": {
    "name": "ipython",
    "version": 3
   },
   "file_extension": ".py",
   "mimetype": "text/x-python",
   "name": "python",
   "nbconvert_exporter": "python",
   "pygments_lexer": "ipython3",
   "version": "3.6.5"
  }
 },
 "nbformat": 4,
 "nbformat_minor": 2
}
