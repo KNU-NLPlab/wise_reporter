{
 "cells": [
  {
   "cell_type": "code",
   "execution_count": 1,
   "metadata": {},
   "outputs": [],
   "source": [
    "from modules.scouter_handler import ScouterHandler\n",
    "from modules.doc_graph_analyzer import DocGraphAnalyzer"
   ]
  },
  {
   "cell_type": "code",
   "execution_count": 2,
   "metadata": {},
   "outputs": [],
   "source": [
    "keyword = \"대통령\"\n",
    "\n",
    "min_rel_score = 2.0\n",
    "max_length = 3000"
   ]
  },
  {
   "cell_type": "code",
   "execution_count": 3,
   "metadata": {},
   "outputs": [],
   "source": [
    "scouter = ScouterHandler(size=500)"
   ]
  },
  {
   "cell_type": "code",
   "execution_count": 4,
   "metadata": {
    "scrolled": true
   },
   "outputs": [
    {
     "name": "stdout",
     "output_type": "stream",
     "text": [
      "Query : 대통령\n",
      "Scroll idx : 1 (500 docs)\n",
      "Scroll idx : 2 (500 docs)\n",
      "Scroll idx : 3 (500 docs)\n",
      "Scroll idx : 4 (500 docs)\n",
      "Scroll idx : 5 (500 docs)\n",
      "Scroll idx : 6 (500 docs)\n",
      "Scroll idx : 7 (67 docs)\n",
      "Trim lower 70% of docs (920 docs are cut)\n",
      "Total retrieved Doc # :  2146\n",
      "\n"
     ]
    }
   ],
   "source": [
    "query_body = scouter.make_keyword_query_body(keyword, filters=['news_id', 'node', 'edge', 'extContent'])\n",
    "doc_info_list = scouter.search(query_body, data_type=\"graphs\", trim_lower=True)"
   ]
  },
  {
   "cell_type": "code",
   "execution_count": 5,
   "metadata": {},
   "outputs": [
    {
     "data": {
      "text/plain": [
       "2128"
      ]
     },
     "execution_count": 5,
     "metadata": {},
     "output_type": "execute_result"
    }
   ],
   "source": [
    "doc_info_list = [d for d in doc_info_list if d['rel_score'] > min_rel_score and len(d['extContent']) < max_length]\n",
    "num_doc = len(doc_info_list)\n",
    "num_doc"
   ]
  },
  {
   "cell_type": "code",
   "execution_count": 10,
   "metadata": {},
   "outputs": [
    {
     "name": "stdout",
     "output_type": "stream",
     "text": [
      "Doc #  : 2128\n",
      "Node # : 1671\n",
      "Edge # : 285782\n",
      "\n",
      "Community 0 :  403 Keyword, (검찰/수사/조사/혐의/의혹)\n",
      "Community 1 :  429 Keyword, (미국/북한/관계/문제/트럼프)\n",
      "Community 2 :  621 Keyword, (정부/지난/정치/국민/선거)\n",
      "Community 3 :  218 Keyword, (청와대/안보/실장/대표/국가)\n",
      "\n"
     ]
    }
   ],
   "source": [
    "## modified by sspark ##\n",
    "doc_graph_anal = DocGraphAnalyzer(keyword, df_bound=(0.01, 0.80))\n",
    "doc_graph_anal.extract_subtopic_info(doc_info_list, top_doc_num=5, top_keyword_num=5, hierarchy=True, cutting_level=1)\n",
    "## modified by sspark ##"
   ]
  },
  {
   "cell_type": "code",
   "execution_count": 6,
   "metadata": {},
   "outputs": [
    {
     "name": "stdout",
     "output_type": "stream",
     "text": [
      "Doc #  : 2128\n",
      "Node # : 1671\n",
      "Edge # : 285782\n",
      "\n",
      "Community 0/0 :   70 Keyword, (검찰/대표/정부/위원/미국)\n",
      "Community 0/1 :   27 Keyword, (국가/선거/문제/주장/실장)\n",
      "Community 0/2 :   87 Keyword, (조사/이날/가능/지난/이후)\n",
      "Community 0/3 :   98 Keyword, (관계/청와대/관련/특사/남북)\n",
      "Community 0/4 :  121 Keyword, (혐의/의원/북한/국회/소환)\n",
      "Community 1/0 :  131 Keyword, (검찰/의원/조사/대표/관계)\n",
      "Community 1/2 :  107 Keyword, (정부/국가/특사/관련/북한)\n",
      "Community 1/3 :   53 Keyword, (자금/국회/회담/남북/지지)\n",
      "Community 1/4 :  122 Keyword, (위원/청와대/회장/수수/지사)\n",
      "Community 2/0 :  108 Keyword, (검찰/조사/이날/북한/의원)\n",
      "Community 2/1 :  125 Keyword, (남북/소환/이명박/이후/회동)\n",
      "Community 2/2 :  133 Keyword, (위원/청와대/특사/수사/실장)\n",
      "Community 2/3 :   34 Keyword, (부장/대표/평가/설명/홍준표)\n",
      "Community 2/4 :   57 Keyword, (정부/바른미래당/안보/혐의/관련)\n",
      "Community 2/5 :  164 Keyword, (회장/대북/기념/대화/비서)\n",
      "Community 3/0 :   69 Keyword, (검찰/혐의/대표/의원/위원)\n",
      "Community 3/1 :   86 Keyword, (청와대/관계/조사/국가/지사)\n",
      "Community 3/2 :   63 Keyword, (북한/정부/특사/회장/미국)\n",
      "\n"
     ]
    }
   ],
   "source": [
    "## modified by sspark ##\n",
    "doc_graph_anal = DocGraphAnalyzer(keyword, df_bound=(0.01, 0.80))\n",
    "doc_graph_anal.extract_subtopic_info(doc_info_list, top_doc_num=5, top_keyword_num=5, hierarchy=True, cutting_level=2)\n",
    "## modified by sspark ##"
   ]
  },
  {
   "cell_type": "code",
   "execution_count": 11,
   "metadata": {},
   "outputs": [
    {
     "name": "stdout",
     "output_type": "stream",
     "text": [
      "Doc #  : 2128\n",
      "Node # : 1671\n",
      "Edge # : 285782\n",
      "\n",
      "Community 0/0/2 :   28 Keyword, (검찰/대표/조사/청와대/위원)\n",
      "Community 0/2/0 :   22 Keyword, (정부/미국/자금/다스/위원)\n",
      "Community 0/2/1 :   21 Keyword, (대표/특사/소환/의원/남북)\n",
      "Community 0/2/4 :   22 Keyword, (검찰/국회/문제/대화/회장)\n",
      "Community 0/3/0 :   24 Keyword, (대표/소환/선거/국회/관계)\n",
      "Community 0/3/2 :   30 Keyword, (검찰/수사/혐의/다스/회장)\n",
      "Community 0/3/3 :   26 Keyword, (문재/대화/장관/트럼프/회동)\n",
      "Community 0/4/1 :   42 Keyword, (검찰/특사/조사/대표/정부)\n",
      "Community 0/4/2 :   26 Keyword, (청와대/관련/위원/한국/안보)\n",
      "Community 0/4/3 :   25 Keyword, (소환/대북/정상/의혹/수수)\n",
      "Community 1/0/1 :   40 Keyword, (북한/대표/지난/선거/대화)\n",
      "Community 1/0/2 :   31 Keyword, (검찰/조사/특사/정부/수사)\n",
      "Community 1/0/3 :   43 Keyword, (혐의/가능/회담/문제/기념)\n",
      "Community 1/2/3 :   38 Keyword, (정부/조사/청와대/의원/남북)\n",
      "Community 1/2/4 :   37 Keyword, (검찰/문재/관련/특사/관계)\n",
      "Community 1/3/1 :   21 Keyword, (청와대/관련/조사/회장/검찰)\n",
      "Community 1/4/0 :   25 Keyword, (위원/남북/관련/청와대/조사)\n",
      "Community 1/4/1 :   25 Keyword, (미국/국가/선거/이후/장관)\n",
      "Community 1/4/2 :   26 Keyword, (문재/소환/대변/안보/한국)\n",
      "Community 1/4/3 :   27 Keyword, (검찰/대표/수사/정부/문제)\n",
      "Community 2/0/0 :   30 Keyword, (청와대/조사/북한/국회/수사)\n",
      "Community 2/0/1 :   26 Keyword, (검찰/정부/국가/트럼프/특별)\n",
      "Community 2/0/2 :   42 Keyword, (대표/혐의/문제/미국/이명박)\n",
      "Community 2/1/0 :   31 Keyword, (검찰/북한/의원/관계/개헌)\n",
      "Community 2/1/1 :   29 Keyword, (대표/특사/문재/대북/정부)\n",
      "Community 2/1/2 :   21 Keyword, (수사/안보/당시/필요/선거)\n",
      "Community 2/1/4 :   20 Keyword, (참석/소환/국회/수수/조사)\n",
      "Community 2/2/0 :   26 Keyword, (청와대/혐의/문재/이날/특별)\n",
      "Community 2/2/1 :   23 Keyword, (위원/의원/북한/특사/자금)\n",
      "Community 2/2/2 :   37 Keyword, (검찰/대표/조사/관련/수사)\n",
      "Community 2/2/3 :   25 Keyword, (정부/의혹/국민/이명박/입장)\n",
      "Community 2/2/4 :   22 Keyword, (국회/평화/가능/보고/참석)\n",
      "Community 2/5/1 :   43 Keyword, (관계/의원/지난/정부/수사)\n",
      "Community 2/5/2 :   21 Keyword, (회담/국회/지방/자유/국방)\n",
      "Community 2/5/4 :   30 Keyword, (이날/필요/실장/사건/다스)\n",
      "Community 2/5/6 :   22 Keyword, (혐의/소환/사실/장관/이명박)\n",
      "Community 3/0/0 :   37 Keyword, (검찰/위원/대표/조사/청와대)\n",
      "Community 3/1/0 :   30 Keyword, (검찰/문재/이날/소환/의혹)\n",
      "Community 3/1/1 :   31 Keyword, (대표/청와대/정부/관계/관련)\n",
      "Community 3/2/0 :   21 Keyword, (청와대/의원/문재/검찰/대표)\n",
      "Community 3/2/1 :   27 Keyword, (정부/혐의/북한/조사/관계)\n",
      "\n"
     ]
    }
   ],
   "source": [
    "## modified by sspark ##\n",
    "doc_graph_anal = DocGraphAnalyzer(keyword, df_bound=(0.01, 0.80))\n",
    "doc_graph_anal.extract_subtopic_info(doc_info_list, top_doc_num=5, top_keyword_num=5, hierarchy=True, cutting_level=3)\n",
    "## modified by sspark ##"
   ]
  },
  {
   "cell_type": "code",
   "execution_count": 7,
   "metadata": {
    "scrolled": true
   },
   "outputs": [],
   "source": [
    "top_doc_id_query_list = [scouter.make_doc_id_query_body(top_doc_ids, filters=[\"news_id\", \"newsTitle\", \"extContent\"])\n",
    "                         for top_doc_ids in doc_graph_anal.top_doc_id_list]\n",
    "top_doc_info_list = [scouter.search(doc_id_query, data_type='newspaper', trim_lower=False, silence=True)\n",
    "                     for doc_id_query in top_doc_id_query_list]"
   ]
  },
  {
   "cell_type": "code",
   "execution_count": 9,
   "metadata": {},
   "outputs": [
    {
     "data": {
      "text/plain": [
       "{'newsTitle': '親文 견제에  안희정의 큰꿈, 기로에 서다',\n",
       " 'extContent': '충남지사 3선(選) 도전을 포기한 안희정〈그림〉 지사의 재 보선 출마 문제 등을 놓고 여권 내부에서 논란이 커지고 있다. 안 지사는 공식적으로는 6 13 지방선거와 함께 치러지는 국회의원 재 보선도 불출마하겠다는 입장을 보여왔다. 하지만 안 지사 주변에선  수도권 재 보선뿐 아니라 오는 8월 민주당 당대표 선거 출마도 모두 열려 있다 는 말이 나온다. 이에 친문 진영에선  문재인 대통령과 대립각을 세워온 안 지사가 너무 빨리 등판하면 국정운영에 부담을 줄 수 있다 며 난색을 표하고 있다. 안 지사는 민주당 잠룡 중 유일하게 어떤 정치 계획도 밝히지 않고 있다. 이는 또 다른 차기 주자인 이재명 성남시장이 경기지사 경선 출마를 위해 이날 성남시의회에 사임 의사를 밝힌 것과 대비된다. 이 시장은 선거법상 성남시장 사퇴 시한 전날인 오는 14일 퇴임식을 가진 뒤 경기지사 공천 경쟁에 본격적으로 뛰어들 계획이다. 박원순 서울시장 역시 3선 도전에 나선 상태다. 그런데 안 지사는 지난 대선 경선 때 문 대통령 다음으로 많은 지지를 받고도 조용히 지내고 있다. 작년 12월 말에는 기자회견을 통해 충남지사 3선 불출마를 공식화했다.  재 보선 출마도 고려하고 있지 않다 고 했다.  현재로선 이라는 단서를 붙였지만 불출마로 받아들여졌다. 이후 안 지사가 도지사 법정임기(6월 30일)를 마친 뒤 해외 유학을 떠날 것이란 얘기가 돌았다.  안 지사가 재 보선 출마 의사를 타진했지만 청와대가 반대했다 는 추측성 보도도 나왔다. 안 지사 측은  유학설, 퇴짜설 모두 사실무근 이라고 했다. 친문계 인사들은  안 지사가 당분간은 나서지 않는 게 본인이나 당, 정권 모두를 위해 좋다 고 말하고 있다. 한 민주당 의원은  안 지사가 재 보선에 출마하거나 당대표로 나서면 문 대통령에게 집중돼야 할 시선이 분산된다 며  당도 계파 분열 양상을 보일 수 있다 고 했다.  집권 2년차에 당 청 갈등이라도 생기면 정권에 큰 타격이 된다 는 우려도 제기된다. 문 대통령과 안 지사는 같은 친노지만, 노무현 정부 때부터 결이 달랐다. 작년 대선 땐 자주 충돌했다. 당시 안 지사는 자유한국당을 포함한 대연정을 주장했다. 이에 문 대통령이  너무 나간 주장 이라고 하자 문 대통령 지지자들은  안희정은 당을 떠나라 고 문자폭탄을 쏟아냈다. 안 지사가  정떨어지게 한다   질린다 고 말하면서 두 사람의 관계는 악화됐다. 대선 이후에도 문 대통령 지지자들은  당신은 대통령 못 될 거예요   수련 좀 더 하세요 라고 공격했다. 민주당 관계자는  안 지사는 내년 재 보선도 있고, 2020년 총선도 있다. 2022년 대선까지 아직 시간이 많이 남아 있지 않느냐 고 했다. 그러나 안 지사와 가까운 일부 인사는  지금 나서지 않으면 다음 기회가 없을 수 있다 며 출마론을 계속 펴고 있다. 이번에 보궐선거가 확정된 서울 송파을이 가장 유력한 출마 후보지로 거론된다. 안 지사 측근들은 출마가 불발되면 당대표 선거라도 나와야 한다고 안 지사를 설득하고 있는 것으로 알려졌다. 한 측근 의원은  안 지사가 재 보선에 출마할 명분을 만들기 어려운 건 사실 이라면서도  혹여 홍준표 한국당 대표가 송파에 출마하면 안 지사가 나서야 하지 않겠느냐 고 했다. 다른 의원도  어느 지역이든  안희정 아니면 못 이긴다 는 결과가 나오면 당이 출마를 요청할 것이고, 안 지사도 안 받아들일 이유가 없다 고 했다. 안 지사 측은 2일  재 보선 불출마에 대해 아직 입장 변화는 없다 고 했다. 측근 인사는  정치는 생물 아니냐. 지켜보자 고 했다.',\n",
       " 'news_id': 15181,\n",
       " 'rel_score': 1.0}"
      ]
     },
     "execution_count": 9,
     "metadata": {},
     "output_type": "execute_result"
    }
   ],
   "source": [
    "top_doc_info_list[0][0]"
   ]
  },
  {
   "cell_type": "code",
   "execution_count": null,
   "metadata": {},
   "outputs": [],
   "source": []
  }
 ],
 "metadata": {
  "kernelspec": {
   "display_name": "Python 3",
   "language": "python",
   "name": "python3"
  },
  "language_info": {
   "codemirror_mode": {
    "name": "ipython",
    "version": 3
   },
   "file_extension": ".py",
   "mimetype": "text/x-python",
   "name": "python",
   "nbconvert_exporter": "python",
   "pygments_lexer": "ipython3",
   "version": "3.6.5"
  }
 },
 "nbformat": 4,
 "nbformat_minor": 2
}
